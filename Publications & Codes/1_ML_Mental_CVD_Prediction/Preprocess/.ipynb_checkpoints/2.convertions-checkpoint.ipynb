{
 "cells": [
  {
   "cell_type": "code",
   "execution_count": 1,
   "id": "2fa7abb2-2e6b-43c1-938b-bbd2ff65b934",
   "metadata": {},
   "outputs": [
    {
     "data": {
      "text/plain": [
       "Index(['broad_cvd', 'squash_perweek_adu_q_15', 'current_smoker_adu_c_2',\n",
       "       'ex_smoker_adu_c_2', 'mini_a_adu_q_1', 'mini_a_adu_q_2',\n",
       "       'mini_a_adu_q_3_a', 'mini_a_adu_q_3_b', 'mini_a_adu_q_3_c',\n",
       "       'mini_a_adu_q_3_d', 'mini_a_adu_q_3_e', 'mini_a_adu_q_3_f',\n",
       "       'mini_a_adu_q_3_g', 'mini_o_adu_q_1_a', 'mini_o_adu_q_3_a',\n",
       "       'mini_o_adu_q_3_b', 'mini_o_adu_q_3_c', 'mini_o_adu_q_3_d',\n",
       "       'mini_o_adu_q_3_e', 'mini_o_adu_q_3_f', 'Antidepressant',\n",
       "       'diabetes_presence_adu_q_1', 'hypertension_presence_adu_q_1',\n",
       "       'bpavg_diastolic_all_m_1', 'bpavg_systolic_all_m_1',\n",
       "       'ctq_emotionalabuse_adu_q_08', 'ctq_emotionalabuse_adu_q_18',\n",
       "       'ctq_emotionalneglect_adu_q_07', 'ctq_physicalabuse_adu_q_09',\n",
       "       'ctq_physicalabuse_adu_q_11', 'ctq_physicalabuse_adu_q_12',\n",
       "       'ctq_physicalabuse_adu_q_15', 'ctq_physicalabuse_adu_q_17',\n",
       "       'ctq_physicalneglect_adu_q_26', 'ctq_sexualabuse_adu_q_20',\n",
       "       'ctq_sexualabuse_adu_q_21', 'ctq_sexualabuse_adu_q_23',\n",
       "       'ctq_sexualabuse_adu_q_24', 'ctq_sexualabuse_adu_q_27', 'age', 'gender',\n",
       "       'cholesterol_result_all_m_1', 'hdlchol_result_all_m_1',\n",
       "       'ldlchol_result_all_m_1', 'triglyceride_result_all_m_1',\n",
       "       'glucose_result_all_m_1', 'hba1cconc_result_all_m_1', 'family_history'],\n",
       "      dtype='object')"
      ]
     },
     "execution_count": 1,
     "metadata": {},
     "output_type": "execute_result"
    }
   ],
   "source": [
    "import os\n",
    "import pandas as pd\n",
    "import numpy as np\n",
    "#path = \"/groups/umcg-lifelines/tmp02/projects/ov20_0110\"\n",
    "\n",
    "\n",
    "df = pd.read_csv('raw_data.csv')\n",
    "\n",
    "df.drop(columns=['project_pseudo_id','hypertension_treatment_adu_q_1'], inplace=True)\n",
    "df.columns"
   ]
  },
  {
   "cell_type": "code",
   "execution_count": 1,
   "id": "47dd4703-b339-49eb-b96f-9bee2e9e3fea",
   "metadata": {},
   "outputs": [],
   "source": [
    "def analyze_missing_values_and_uniques(df):\n",
    "    # Calculate missing values percentage (only true NaN values)\n",
    "    missing_values_sum = df.isna().sum()\n",
    "    total_rows = df.shape[0]\n",
    "    missing_values_percentage = (missing_values_sum / total_rows) * 100\n",
    "    print(\"Original missing values (%):\")\n",
    "    #print(missing_values_percentage.head(50))\n",
    "    \n",
    "    # Loop through each column\n",
    "    for column in df.columns:\n",
    "        print(f\"\\n--- Unique values for '{column}' ---\")\n",
    "        \n",
    "        # Special handling for ID columns\n",
    "        if column == 'project_pseudo_id':\n",
    "            num_unique = df[column].nunique()\n",
    "            print(f\"Total unique IDs: {num_unique} (expected 1 per participant)\")\n",
    "            print(f\"Duplicates found: {df[column].duplicated().sum()}\")\n",
    "            continue\n",
    "            \n",
    "        # Get value counts (including '$7' and other strings)\n",
    "        value_counts = df[column].value_counts(dropna=False).reset_index()\n",
    "        value_counts.columns = ['Unique Value', 'Count']\n",
    "        \n",
    "        # Calculate percentages safely\n",
    "        total_count = value_counts['Count'].sum()\n",
    "        \n",
    "        # Create percentage column with mixed types\n",
    "        percentages = []\n",
    "        for count in value_counts['Count']:\n",
    "            try:\n",
    "                pct = (float(count) / total_count) * 100\n",
    "                percentages.append(f\"{pct:.2f}%\")\n",
    "            except (TypeError, ValueError):\n",
    "                percentages.append(\"N/A\")\n",
    "        \n",
    "        value_counts['Percentage'] = percentages\n",
    "        display(value_counts)\n",
    "    \n",
    "    return df"
   ]
  },
  {
   "cell_type": "code",
   "execution_count": 3,
   "id": "4b6c6b4c-341c-4772-bfff-89320340a1f3",
   "metadata": {},
   "outputs": [],
   "source": [
    "def create_smoking_status(row):\n",
    "    current_smoker = row[\"current_smoker_adu_c_2\"]\n",
    "    ex_smoker = row[\"ex_smoker_adu_c_2\"]\n",
    "\n",
    "    # Handle missing values (NaN)\n",
    "    if pd.isna(current_smoker) or pd.isna(ex_smoker):\n",
    "        return np.nan  # Return NaN for missing values\n",
    "\n",
    "    # Define smoking status\n",
    "    if current_smoker == 1:\n",
    "        return 1  # Current Smoker\n",
    "    elif ex_smoker == 1:\n",
    "        return 2  # Ex-Smoker\n",
    "    else:\n",
    "        return 0  # Never Smoker\n",
    "\n",
    "# Apply the function to create the new variable\n",
    "df[\"Smoking status\"] = df.apply(create_smoking_status, axis=1)\n",
    "df.drop(columns=['current_smoker_adu_c_2','ex_smoker_adu_c_2'], inplace=True)\n"
   ]
  },
  {
   "cell_type": "code",
   "execution_count": 4,
   "id": "4a3965ad-f926-4115-8717-692aa0b52cb8",
   "metadata": {},
   "outputs": [
    {
     "name": "stderr",
     "output_type": "stream",
     "text": [
      "/tmp/ipykernel_1309425/3590029364.py:27: FutureWarning: Downcasting behavior in `replace` is deprecated and will be removed in a future version. To retain the old behavior, explicitly call `result.infer_objects(copy=False)`. To opt-in to the future behavior, set `pd.set_option('future.no_silent_downcasting', True)`\n",
      "  df['gender'] = df['gender'].replace({\n"
     ]
    }
   ],
   "source": [
    "# List of columns to process\n",
    "columns_to_replace = [\n",
    "    'broad_cvd', \n",
    "    'diabetes_presence_adu_q_1',\n",
    "  'mini_a_adu_q_1', 'mini_a_adu_q_2',\n",
    "       'mini_a_adu_q_3_a', 'mini_a_adu_q_3_b', 'mini_a_adu_q_3_c',\n",
    "       'mini_a_adu_q_3_d', 'mini_a_adu_q_3_e', 'mini_a_adu_q_3_f',\n",
    "       'mini_a_adu_q_3_g', 'mini_o_adu_q_1_a', 'mini_o_adu_q_3_a',\n",
    "       'mini_o_adu_q_3_b', 'mini_o_adu_q_3_c', 'mini_o_adu_q_3_d',\n",
    "       'mini_o_adu_q_3_e', 'mini_o_adu_q_3_f'\n",
    "]\n",
    "\n",
    "# Replace all 2s with 0s in these columns\n",
    "df[columns_to_replace] = df[columns_to_replace].replace(2, 0)\n",
    "\n",
    "# Define the recoding rules\n",
    "recode_dict = {\n",
    "    2.0: 0,  # No\n",
    "    3.0: 2   # I don't know\n",
    "    # 1.0 remains unchanged\n",
    "}\n",
    "\n",
    "# Apply the recoding\n",
    "df['hypertension_presence_adu_q_1'] = df['hypertension_presence_adu_q_1'].replace(recode_dict)\n",
    "\n",
    "\n",
    "df['gender'] = df['gender'].replace({\n",
    "    'FEMALE': 0,\n",
    "    'MALE': 1\n",
    "})\n",
    "\n",
    "# stats = analyze_missing_values_and_uniques(df)"
   ]
  },
  {
   "cell_type": "code",
   "execution_count": 5,
   "id": "f2f93589-0ae7-408b-bfb4-f8198b6e8a86",
   "metadata": {},
   "outputs": [
    {
     "data": {
      "text/plain": [
       "2816"
      ]
     },
     "execution_count": 5,
     "metadata": {},
     "output_type": "execute_result"
    }
   ],
   "source": [
    "# Filter participants with age >= 18\n",
    "df = df[df['age'] >= 18]\n",
    "num_cases = df[df['broad_cvd'] == 1].shape[0]\n",
    "num_cases"
   ]
  },
  {
   "cell_type": "code",
   "execution_count": 6,
   "id": "d70fd77b-8acb-4437-83e1-d4bcd56fb05d",
   "metadata": {},
   "outputs": [
    {
     "name": "stderr",
     "output_type": "stream",
     "text": [
      "/tmp/ipykernel_1309425/859207873.py:24: SettingWithCopyWarning: \n",
      "A value is trying to be set on a copy of a slice from a DataFrame.\n",
      "Try using .loc[row_indexer,col_indexer] = value instead\n",
      "\n",
      "See the caveats in the documentation: https://pandas.pydata.org/pandas-docs/stable/user_guide/indexing.html#returning-a-view-versus-a-copy\n",
      "  df[columns_to_recode] = df[columns_to_recode].replace(recode_mapping)\n"
     ]
    },
    {
     "data": {
      "text/plain": [
       "array([nan,  1.,  0.,  2.,  3.,  4.])"
      ]
     },
     "execution_count": 6,
     "metadata": {},
     "output_type": "execute_result"
    }
   ],
   "source": [
    "import pandas as pd\n",
    "\n",
    "# List of columns to recode\n",
    "columns_to_recode = [\n",
    "    'ctq_emotionalabuse_adu_q_08', 'ctq_emotionalabuse_adu_q_18',\n",
    "    'ctq_emotionalneglect_adu_q_07', 'ctq_physicalabuse_adu_q_09',\n",
    "    'ctq_physicalabuse_adu_q_11', 'ctq_physicalabuse_adu_q_12',\n",
    "    'ctq_physicalabuse_adu_q_15', 'ctq_physicalabuse_adu_q_17',\n",
    "    'ctq_physicalneglect_adu_q_26', 'ctq_sexualabuse_adu_q_20',\n",
    "    'ctq_sexualabuse_adu_q_21', 'ctq_sexualabuse_adu_q_23',\n",
    "    'ctq_sexualabuse_adu_q_24', 'ctq_sexualabuse_adu_q_27'\n",
    "]\n",
    "\n",
    "# Define the mapping for recoding\n",
    "recode_mapping = {\n",
    "    1: 0,\n",
    "    2: 1,\n",
    "    3: 2,\n",
    "    4: 3,\n",
    "    5: 4\n",
    "}\n",
    "\n",
    "# Apply the recoding to the specified columns\n",
    "df[columns_to_recode] = df[columns_to_recode].replace(recode_mapping)\n",
    "\n",
    "df[ 'ctq_emotionalabuse_adu_q_08'].unique()"
   ]
  },
  {
   "cell_type": "code",
   "execution_count": 7,
   "id": "2fb06f31-381a-4218-8c72-f7f49093dea9",
   "metadata": {},
   "outputs": [
    {
     "name": "stderr",
     "output_type": "stream",
     "text": [
      "/tmp/ipykernel_1309425/673357838.py:1: SettingWithCopyWarning: \n",
      "A value is trying to be set on a copy of a slice from a DataFrame.\n",
      "Try using .loc[row_indexer,col_indexer] = value instead\n",
      "\n",
      "See the caveats in the documentation: https://pandas.pydata.org/pandas-docs/stable/user_guide/indexing.html#returning-a-view-versus-a-copy\n",
      "  df['Physically abused by family as a child'] = (\n",
      "/tmp/ipykernel_1309425/673357838.py:6: SettingWithCopyWarning: \n",
      "A value is trying to be set on a copy of a slice from a DataFrame.\n",
      "Try using .loc[row_indexer,col_indexer] = value instead\n",
      "\n",
      "See the caveats in the documentation: https://pandas.pydata.org/pandas-docs/stable/user_guide/indexing.html#returning-a-view-versus-a-copy\n",
      "  df['Felt hated by family member as a child'] = (\n",
      "/tmp/ipykernel_1309425/673357838.py:11: SettingWithCopyWarning: \n",
      "A value is trying to be set on a copy of a slice from a DataFrame.\n",
      "Try using .loc[row_indexer,col_indexer] = value instead\n",
      "\n",
      "See the caveats in the documentation: https://pandas.pydata.org/pandas-docs/stable/user_guide/indexing.html#returning-a-view-versus-a-copy\n",
      "  df['Sexually molested as a child'] = (\n",
      "/tmp/ipykernel_1309425/673357838.py:17: SettingWithCopyWarning: \n",
      "A value is trying to be set on a copy of a slice from a DataFrame.\n",
      "Try using .loc[row_indexer,col_indexer] = value instead\n",
      "\n",
      "See the caveats in the documentation: https://pandas.pydata.org/pandas-docs/stable/user_guide/indexing.html#returning-a-view-versus-a-copy\n",
      "  df['Someone to take to doctor when needed as a child'] = (\n",
      "/tmp/ipykernel_1309425/673357838.py:22: SettingWithCopyWarning: \n",
      "A value is trying to be set on a copy of a slice from a DataFrame.\n",
      "Try using .loc[row_indexer,col_indexer] = value instead\n",
      "\n",
      "See the caveats in the documentation: https://pandas.pydata.org/pandas-docs/stable/user_guide/indexing.html#returning-a-view-versus-a-copy\n",
      "  df['Felt loved'] = (\n",
      "/tmp/ipykernel_1309425/673357838.py:28: SettingWithCopyWarning: \n",
      "A value is trying to be set on a copy of a slice from a DataFrame.\n",
      "Try using .loc[row_indexer,col_indexer] = value instead\n",
      "\n",
      "See the caveats in the documentation: https://pandas.pydata.org/pandas-docs/stable/user_guide/indexing.html#returning-a-view-versus-a-copy\n",
      "  df['Childhood trauma score'] = np.where(\n"
     ]
    },
    {
     "data": {
      "text/plain": [
       "array([nan,  0.,  1.,  2.,  4.,  3.,  5.])"
      ]
     },
     "execution_count": 7,
     "metadata": {},
     "output_type": "execute_result"
    }
   ],
   "source": [
    "df['Physically abused by family as a child'] = (\n",
    "\n",
    "    df['ctq_physicalabuse_adu_q_15'] \n",
    ")\n",
    "\n",
    "df['Felt hated by family member as a child'] = (\n",
    "   \n",
    "    df['ctq_emotionalabuse_adu_q_18']    # Felt someone in my family hated me\n",
    ")\n",
    "\n",
    "df['Sexually molested as a child'] = (\n",
    " \n",
    "    df['ctq_sexualabuse_adu_q_24']  # Was molested by someone\n",
    "\n",
    ")\n",
    "\n",
    "df['Someone to take to doctor when needed as a child'] = (\n",
    "    df['ctq_physicalneglect_adu_q_26']  # Someone to take me to the doctor\n",
    ")\n",
    "\n",
    "\n",
    "df['Felt loved'] = (\n",
    "    df['ctq_emotionalneglect_adu_q_07']  # felt loved as child \n",
    ")\n",
    "\n",
    "\n",
    "# Calculate Childhood Trauma Score\n",
    "df['Childhood trauma score'] = np.where(\n",
    "    (df['Physically abused by family as a child'].isna() | (df['Physically abused by family as a child'] < 0)) |\n",
    "    (df['Felt hated by family member as a child'].isna() | (df['Felt hated by family member as a child'] < 0)) |\n",
    "    (df['Sexually molested as a child'].isna() | (df['Sexually molested as a child'] < 0)) |\n",
    "    (df['Someone to take to doctor when needed as a child'].isna() | (df['Someone to take to doctor when needed as a child'] < 0)) |\n",
    "    (df['Felt loved'].isna() | (df['Felt loved'] < 0)),\n",
    "    np.nan,  # If any condition is met, set score to NaN\n",
    "    (\n",
    "        (df['Physically abused by family as a child'] > 0).astype(float) +  # Physical abuse\n",
    "        (df['Felt hated by family member as a child'] > 0).astype(float) +  # Felt hated\n",
    "        (df['Sexually molested as a child'] > 0).astype(float) +  # Sexual molestation\n",
    "        ((4 - df['Someone to take to doctor when needed as a child']) > 0).astype(float) +  # Lack of medical support\n",
    "        ((4 - df['Felt loved']) > 1).astype(float)  # Lack of feeling loved\n",
    "    )\n",
    ")\n",
    "\n",
    "df['Childhood trauma score'].unique()"
   ]
  },
  {
   "cell_type": "code",
   "execution_count": 8,
   "id": "21086164-62d0-43ef-b06a-605e1056432f",
   "metadata": {},
   "outputs": [
    {
     "name": "stderr",
     "output_type": "stream",
     "text": [
      "/tmp/ipykernel_1309425/1582269474.py:1: SettingWithCopyWarning: \n",
      "A value is trying to be set on a copy of a slice from a DataFrame\n",
      "\n",
      "See the caveats in the documentation: https://pandas.pydata.org/pandas-docs/stable/user_guide/indexing.html#returning-a-view-versus-a-copy\n",
      "  df.drop(columns=['ctq_emotionalabuse_adu_q_08',\n"
     ]
    }
   ],
   "source": [
    "df.drop(columns=['ctq_emotionalabuse_adu_q_08',\n",
    "       'ctq_emotionalabuse_adu_q_18', 'ctq_emotionalneglect_adu_q_07',\n",
    "       'ctq_physicalabuse_adu_q_09', 'ctq_physicalabuse_adu_q_11',\n",
    "       'ctq_physicalabuse_adu_q_12', 'ctq_physicalabuse_adu_q_15',\n",
    "       'ctq_physicalabuse_adu_q_17', 'ctq_physicalneglect_adu_q_26',\n",
    "       'ctq_sexualabuse_adu_q_20', 'ctq_sexualabuse_adu_q_21',\n",
    "       'ctq_sexualabuse_adu_q_23', 'ctq_sexualabuse_adu_q_24',\n",
    "       'ctq_sexualabuse_adu_q_27',], inplace=True)\n"
   ]
  },
  {
   "cell_type": "code",
   "execution_count": 9,
   "id": "369d523f-0a11-4745-b00d-d06223ec39b4",
   "metadata": {},
   "outputs": [],
   "source": [
    "rename_dict = {\n",
    "\n",
    "        \n",
    "    'mini_a_adu_q_1': 'Depressed mood',\n",
    "    'mini_a_adu_q_2': 'Anhedonia',\n",
    "    'mini_a_adu_q_3_a': 'Appetite changes',\n",
    "    'mini_a_adu_q_3_b': 'Sleep problems',\n",
    "    'mini_a_adu_q_3_c': 'Psychomotor changes',\n",
    "    'mini_a_adu_q_3_d': 'Fatigue',\n",
    "    'mini_a_adu_q_3_e': 'Feelings of inadequacy',\n",
    "    'mini_a_adu_q_3_f': 'Cognitive problems',\n",
    "    'mini_a_adu_q_3_g': 'Suicidal ideation',\n",
    "\n",
    "    'mini_o_adu_q_1_a': 'Anxiety',  \n",
    "    'mini_o_adu_q_3_a': 'Restlessness',  \n",
    "    'mini_o_adu_q_3_b': 'Lack of relaxation',  \n",
    "    'mini_o_adu_q_3_c': 'Anxiety fatigue', \n",
    "    'mini_o_adu_q_3_d': 'Concentration problems',  \n",
    "    'mini_o_adu_q_3_e': 'Irritability',  \n",
    "    'mini_o_adu_q_3_f': 'Anxiety insomnia' , \n",
    "\n",
    "\n",
    "\n",
    "    \n",
    "'broad_cvd': 'CVD', \n",
    " 'squash_perweek_adu_q_15': 'Physical activity', \n",
    " 'age': 'Age', \n",
    " 'gender': 'Gender', \n",
    "\n",
    "\n",
    "\n",
    "\n",
    " 'diabetes_presence_adu_q_1' : 'Diabetes', \n",
    " 'hypertension_presence_adu_q_1': 'Hypertension', \n",
    " 'bpavg_diastolic_all_m_1': 'Diastolic blood pressure', \n",
    " 'bpavg_systolic_all_m_1': 'Systolic blood pressure', \n",
    " 'Antidepressant': 'Antidepressant use', \n",
    " 'cholesterol_result_all_m_1': 'Cholesterol', \n",
    " 'glucose_result_all_m_1': 'Glucose',\n",
    " 'hba1cconc_result_all_m_1':   'Glycated haemoglobin',\n",
    " 'hdlchol_result_all_m_1': 'HDL cholesterol', \n",
    " 'ldlchol_result_all_m_1': 'LDL cholesterol', \n",
    " 'triglyceride_result_all_m_1': 'Triglycerides',\n",
    " 'smoking_status': 'Smoking status', \n",
    "    'family_history': 'CVD Family history'\n",
    "  }\n",
    "\n",
    "df = df.rename(columns=rename_dict)\n",
    "\n",
    "\n",
    "\n"
   ]
  },
  {
   "cell_type": "code",
   "execution_count": 10,
   "id": "043fb0bb-74b7-4bce-8313-d5c607bd6210",
   "metadata": {},
   "outputs": [
    {
     "data": {
      "text/plain": [
       "Index(['CVD', 'Physical activity', 'Depressed mood', 'Anhedonia',\n",
       "       'Appetite changes', 'Sleep problems', 'Psychomotor changes', 'Fatigue',\n",
       "       'Feelings of inadequacy', 'Cognitive problems', 'Suicidal ideation',\n",
       "       'Anxiety', 'Restlessness', 'Lack of relaxation', 'Anxiety fatigue',\n",
       "       'Concentration problems', 'Irritability', 'Anxiety insomnia',\n",
       "       'Antidepressant use', 'Diabetes', 'Hypertension',\n",
       "       'Diastolic blood pressure', 'Systolic blood pressure', 'Age', 'Gender',\n",
       "       'Cholesterol', 'HDL cholesterol', 'LDL cholesterol', 'Triglycerides',\n",
       "       'Glucose', 'Glycated haemoglobin', 'CVD Family history',\n",
       "       'Smoking status', 'Physically abused by family as a child',\n",
       "       'Felt hated by family member as a child',\n",
       "       'Sexually molested as a child',\n",
       "       'Someone to take to doctor when needed as a child', 'Felt loved',\n",
       "       'Childhood trauma score'],\n",
       "      dtype='object')"
      ]
     },
     "execution_count": 10,
     "metadata": {},
     "output_type": "execute_result"
    }
   ],
   "source": [
    "df.columns"
   ]
  },
  {
   "cell_type": "code",
   "execution_count": 2,
   "id": "e29fc1b8-20ea-440f-8236-2c06c3e697a3",
   "metadata": {},
   "outputs": [],
   "source": [
    "def calculate_phq9_score(row):\n",
    "    phq9_items = [\n",
    "            \n",
    "   'Depressed mood',\n",
    "    'Anhedonia',\n",
    "   'Appetite changes',\n",
    "    'Sleep problems',\n",
    "    'Psychomotor changes',\n",
    " 'Fatigue',\n",
    "     'Feelings of inadequacy',\n",
    "    'Cognitive problems',\n",
    "    'Suicidal ideation']\n",
    "\n",
    "    \n",
    "    total_score = sum(row[item] for item in phq9_items)\n",
    "    \n",
    "    \n",
    "    return pd.Series({'Depressive symptoms score': total_score})\n",
    "\n",
    "# Apply the function to each row of the dataframe\n",
    "df['Depressive symptoms score'] = df.apply(calculate_phq9_score, axis=1)\n",
    "\n",
    "\n",
    "def calculate_gad_score(row):\n",
    "    gad_items = [\n",
    "\n",
    "      'Anxiety',  \n",
    "'Restlessness',  \n",
    "'Lack of relaxation',  \n",
    "\n",
    "  'Concentration problems',  \n",
    "   'Irritability']\n",
    "\n",
    "    \n",
    "    total_score = sum(row[item] for item in gad_items)\n",
    "    \n",
    "    \n",
    "    return pd.Series({'Anxiety symptoms score': total_score})\n",
    "\n",
    "# Apply the function to each row of the dataframe\n",
    "df['Anxiety symptoms score'] = df.apply(calculate_gad_score, axis=1)"
   ]
  }
 ],
 "metadata": {
  "kernelspec": {
   "display_name": "Python 3 (ipykernel)",
   "language": "python",
   "name": "python3"
  },
  "language_info": {
   "codemirror_mode": {
    "name": "ipython",
    "version": 3
   },
   "file_extension": ".py",
   "mimetype": "text/x-python",
   "name": "python",
   "nbconvert_exporter": "python",
   "pygments_lexer": "ipython3",
   "version": "3.10.13"
  }
 },
 "nbformat": 4,
 "nbformat_minor": 5
}
