{
 "cells": [
  {
   "cell_type": "code",
   "execution_count": 1,
   "id": "30c27bc7-7b44-4da3-bebd-56d2513cbe2a",
   "metadata": {},
   "outputs": [],
   "source": [
    "%load_ext autoreload\n",
    "%autoreload 2"
   ]
  },
  {
   "cell_type": "code",
   "execution_count": null,
   "id": "f04216c3-9b90-44fc-8e9e-3d52490d8f23",
   "metadata": {},
   "outputs": [],
   "source": [
    "import sys\n",
    "import os\n",
    "ENTER_POINT = os.getcwd()\n",
    "ENTER_POINT = ENTER_POINT[:ENTER_POINT.rfind('/')]\n",
    "sys.path.append(ENTER_POINT)"
   ]
  },
  {
   "cell_type": "code",
   "execution_count": 2,
   "id": "26826b2d-66b5-453f-bec7-a683055a13a6",
   "metadata": {},
   "outputs": [
    {
     "name": "stderr",
     "output_type": "stream",
     "text": [
      "WARNING (theano.tensor.blas): Using NumPy C-API based implementation for BLAS functions.\n"
     ]
    }
   ],
   "source": [
    "# Packages\n",
    "import json\n",
    "import logging\n",
    "import pandas as pd\n",
    "import numpy as np\n",
    "import pymc3 as pm\n",
    "import theano.tensor as tt\n",
    "import matplotlib.pyplot as plt\n",
    "\n",
    "# File imports\n",
    "from configs import config as cfg\n",
    "import helper_functions.helper_functions as hf\n",
    "from preprocess_data.preprocess import drop_columns, calculate_vif\n",
    "from utils.adstock_functions import adstock_transform, geometric_adstock\n",
    "from saturation.saturation import saturation_hill_pymc3, apply_saturation\n",
    "from control_model.control import (idx_col_list, max_intercept_func, build_ctrl_model, fit_ctrl_model,\n",
    "                                   retrieve_ctrl_samples, get_ctrl_contrib_df, get_beta_ctrl_df)\n",
    "from media_model.sampling import fit_model\n",
    "from media_model.media_betas import (get_adstk_sat_df, get_spend_df, get_roi_spend_df_full, get_betas_dict,\n",
    "                                     get_reloop_model, get_media_parameters, get_beta_media_model)\n",
    "from media_model.media import MediaModelBis\n",
    "from media_model.extract_results import (rebuild_mc_df, get_output_roi_df, get_non_media_contribution,\n",
    "                                         get_final_contribution_output, sanity_check, rebuild_factor_df)\n",
    "from saturation.saturation import SaturationCurves, show_saturation, get_saturation_model_params\n",
    "from preprocess_data import rebuild_results\n",
    "from media_model import restore_results"
   ]
  },
  {
   "cell_type": "markdown",
   "id": "10c48655-c704-48da-acec-b961fee8b36e",
   "metadata": {},
   "source": [
    "# Set up"
   ]
  },
  {
   "cell_type": "code",
   "execution_count": 3,
   "id": "5895a832-04c8-4da5-b8dc-c36fbf6ac2d3",
   "metadata": {},
   "outputs": [],
   "source": [
    "uploaded_file = cfg.PATH_INPUT_DATA\n",
    "data = pd.read_csv(uploaded_file, parse_dates=[cfg.DT], index_col=cfg.DT)\n",
    "\n",
    "uploaded_file2 = cfg.PATH_AVG_PRICE\n",
    "get_avg_price_df = pd.read_csv(uploaded_file2, parse_dates=[cfg.DT], index_col=cfg.DT, usecols=[cfg.DT, 'avg_price'])\n",
    "\n",
    "logging.info('All input data uploaded, Staring with data pre-processing!')\n",
    "\n",
    "data = drop_columns(data, cfg.TO_DROP)\n",
    "VIF_df = calculate_vif(data, cfg.POS_VARS + cfg.PN_VARS)\n",
    "df_ctrl, sc_ctrl = hf.mean_center_transform(data, cfg.POS_VARS + cfg.PN_VARS + [cfg.TGT])\n",
    "\n",
    "df_ctrl.to_csv(os.path.join(cfg.DATA_PATH, cfg.INTER_PATH, 'df_ctrl.csv'))\n",
    "VIF_df.to_csv(os.path.join(cfg.DATA_PATH, cfg.INTER_PATH, 'vif_df.csv'))\n",
    "json.dump(sc_ctrl, open(os.path.join(cfg.DATA_PATH, cfg.INTER_PATH, 'sc_ctrl.json'), 'w'))\n",
    "\n",
    "# upload_to_bucket(GCP_ID + '/intermediate_files/df_ctrl.csv', getcwd() + INTER_PATH + 'df_ctrl.csv', bucket_name)\n",
    "# upload_to_bucket(GCP_ID + '/intermediate_files/vif_df.csv', getcwd() + INTER_PATH + 'vif_df.csv', bucket_name)\n",
    "# upload_to_bucket(GCP_ID + '/intermediate_files/sc_ctrl.json', getcwd() + INTER_PATH + 'sc_ctrl.json', bucket_name)"
   ]
  },
  {
   "cell_type": "markdown",
   "id": "24752b90-3413-4239-b7c9-4572106f73d6",
   "metadata": {},
   "source": [
    "# Control model"
   ]
  },
  {
   "cell_type": "code",
   "execution_count": 4,
   "id": "ec924264-45a9-459f-a023-36f602327a62",
   "metadata": {},
   "outputs": [
    {
     "name": "stderr",
     "output_type": "stream",
     "text": [
      "Multiprocess sampling (8 chains in 4 jobs)\n",
      "NUTS: [noise_var, alpha, beta_tdp, beta_comp_tdp, beta_price, beta_covid_start, beta_covid, beta_dfsi, beta_fsi, beta__last__yearly-monthly-hldy_hol, beta__first__yearly-monthly-hldy_hol, beta__last__promo_acv, beta__first__promo_acv]\n"
     ]
    },
    {
     "data": {
      "text/html": [
       "\n",
       "<style>\n",
       "    /* Turns off some styling */\n",
       "    progress {\n",
       "        /* gets rid of default border in Firefox and Opera. */\n",
       "        border: none;\n",
       "        /* Needs to be in here for Safari polyfill so background images work as expected. */\n",
       "        background-size: auto;\n",
       "    }\n",
       "    .progress-bar-interrupted, .progress-bar-interrupted::-webkit-progress-bar {\n",
       "        background: #F44336;\n",
       "    }\n",
       "</style>\n"
      ],
      "text/plain": [
       "<IPython.core.display.HTML object>"
      ]
     },
     "metadata": {},
     "output_type": "display_data"
    },
    {
     "data": {
      "text/html": [
       "\n",
       "    <div>\n",
       "      <progress value='24000' class='' max='24000' style='width:300px; height:20px; vertical-align: middle;'></progress>\n",
       "      100.00% [24000/24000 03:02<00:00 Sampling 8 chains, 934 divergences]\n",
       "    </div>\n",
       "    "
      ],
      "text/plain": [
       "<IPython.core.display.HTML object>"
      ]
     },
     "metadata": {},
     "output_type": "display_data"
    },
    {
     "name": "stderr",
     "output_type": "stream",
     "text": [
      "Sampling 8 chains for 500 tune and 2_500 draw iterations (4_000 + 20_000 draws total) took 183 seconds.\n",
      "There were 145 divergences after tuning. Increase `target_accept` or reparameterize.\n",
      "There were 38 divergences after tuning. Increase `target_accept` or reparameterize.\n",
      "There were 296 divergences after tuning. Increase `target_accept` or reparameterize.\n",
      "There were 67 divergences after tuning. Increase `target_accept` or reparameterize.\n",
      "There were 90 divergences after tuning. Increase `target_accept` or reparameterize.\n",
      "There were 176 divergences after tuning. Increase `target_accept` or reparameterize.\n",
      "There were 47 divergences after tuning. Increase `target_accept` or reparameterize.\n",
      "There were 75 divergences after tuning. Increase `target_accept` or reparameterize.\n",
      "The number of effective samples is smaller than 25% for some parameters.\n"
     ]
    },
    {
     "data": {
      "text/html": [
       "\n",
       "<style>\n",
       "    /* Turns off some styling */\n",
       "    progress {\n",
       "        /* gets rid of default border in Firefox and Opera. */\n",
       "        border: none;\n",
       "        /* Needs to be in here for Safari polyfill so background images work as expected. */\n",
       "        background-size: auto;\n",
       "    }\n",
       "    .progress-bar-interrupted, .progress-bar-interrupted::-webkit-progress-bar {\n",
       "        background: #F44336;\n",
       "    }\n",
       "</style>\n"
      ],
      "text/plain": [
       "<IPython.core.display.HTML object>"
      ]
     },
     "metadata": {},
     "output_type": "display_data"
    },
    {
     "data": {
      "text/html": [
       "\n",
       "    <div>\n",
       "      <progress value='20000' class='' max='20000' style='width:300px; height:20px; vertical-align: middle;'></progress>\n",
       "      100.00% [20000/20000 00:25<00:00]\n",
       "    </div>\n",
       "    "
      ],
      "text/plain": [
       "<IPython.core.display.HTML object>"
      ]
     },
     "metadata": {},
     "output_type": "display_data"
    },
    {
     "name": "stderr",
     "output_type": "stream",
     "text": [
      "/home/hakon/.local/lib/python3.8/site-packages/arviz/data/io_pymc3_3x.py:98: FutureWarning: Using `from_pymc3` without the model will be deprecated in a future release. Not using the model will return less accurate and less useful results. Make sure you use the model argument or call from_pymc3 within a model context.\n",
      "  warnings.warn(\n",
      "/home/hakon/.local/lib/python3.8/site-packages/arviz/data/io_pymc3_3x.py:98: FutureWarning: Using `from_pymc3` without the model will be deprecated in a future release. Not using the model will return less accurate and less useful results. Make sure you use the model argument or call from_pymc3 within a model context.\n",
      "  warnings.warn(\n",
      "/home/hakon/.local/lib/python3.8/site-packages/arviz/stats/stats.py:1635: UserWarning: For one or more samples the posterior variance of the log predictive densities exceeds 0.4. This could be indication of WAIC starting to fail. \n",
      "See http://arxiv.org/abs/1507.04544 for details\n",
      "  warnings.warn(\n"
     ]
    },
    {
     "data": {
      "text/html": [
       "\n",
       "<style>\n",
       "    /* Turns off some styling */\n",
       "    progress {\n",
       "        /* gets rid of default border in Firefox and Opera. */\n",
       "        border: none;\n",
       "        /* Needs to be in here for Safari polyfill so background images work as expected. */\n",
       "        background-size: auto;\n",
       "    }\n",
       "    .progress-bar-interrupted, .progress-bar-interrupted::-webkit-progress-bar {\n",
       "        background: #F44336;\n",
       "    }\n",
       "</style>\n"
      ],
      "text/plain": [
       "<IPython.core.display.HTML object>"
      ]
     },
     "metadata": {},
     "output_type": "display_data"
    },
    {
     "data": {
      "text/html": [
       "\n",
       "    <div>\n",
       "      <progress value='20000' class='' max='20000' style='width:300px; height:20px; vertical-align: middle;'></progress>\n",
       "      100.00% [20000/20000 00:25<00:00]\n",
       "    </div>\n",
       "    "
      ],
      "text/plain": [
       "<IPython.core.display.HTML object>"
      ]
     },
     "metadata": {},
     "output_type": "display_data"
    },
    {
     "name": "stdout",
     "output_type": "stream",
     "text": [
      "CPU times: user 1min 24s, sys: 1 s, total: 1min 25s\n",
      "Wall time: 4min 22s\n"
     ]
    }
   ],
   "source": [
    "%%time\n",
    "logging.info('Data pre-processing done, Staring Control Model!')\n",
    "\n",
    "IDX_COL = idx_col_list(df_ctrl)\n",
    "MAX_INTERCEPT = max_intercept_func(df_ctrl)\n",
    "ctrl_model = build_ctrl_model(df_ctrl, IDX_COL, cfg.TIMEVARYING_VARS_LAGS, MAX_INTERCEPT)  # build control model\n",
    "trace_control, summary_control = fit_ctrl_model(ctrl_model)\n",
    "post_pred_control = retrieve_ctrl_samples(ctrl_model, trace_control)\n",
    "contrib_df = get_ctrl_contrib_df(df_ctrl, sc_ctrl, post_pred_control)"
   ]
  },
  {
   "cell_type": "code",
   "execution_count": 5,
   "id": "f24146fc-b7cd-4adc-a004-f876206e647f",
   "metadata": {},
   "outputs": [],
   "source": [
    "hf.pickle_dump(os.path.join(cfg.DATA_PATH, cfg.MODEL_DUMP_PATH), 'ctrl_model.pickle', ctrl_model)\n",
    "summary_control.to_csv(os.path.join(cfg.DATA_PATH, cfg.INTER_PATH, 'summary_control.csv'))\n",
    "hf.json_dump(os.path.join(cfg.DATA_PATH, cfg.INTER_PATH), 'post_pred_control.json', post_pred_control)\n",
    "contrib_df.to_csv(os.path.join(cfg.DATA_PATH, cfg.INTER_PATH, 'contrib_df.csv'))"
   ]
  },
  {
   "cell_type": "code",
   "execution_count": 6,
   "id": "96d11b2e-85b0-477f-b294-eea24b9873be",
   "metadata": {},
   "outputs": [
    {
     "data": {
      "image/png": "[encoded data removed]",
      "text/plain": [
       "<Figure size 1080x576 with 1 Axes>"
      ]
     },
     "metadata": {
      "needs_background": "light"
     },
     "output_type": "display_data"
    }
   ],
   "source": [
    "hf.show_prediction(contrib_df, os.path.join(cfg.DATA_PATH, cfg.IMAGE_DUMP_PATH, 'control_prediction.png'), \n",
    "                   col_true='sales', col_pred='y_pred')"
   ]
  },
  {
   "cell_type": "code",
   "execution_count": 7,
   "id": "4f89f133-4c8c-45df-ba2c-679c0d891a8e",
   "metadata": {},
   "outputs": [
    {
     "data": {
      "image/png": "[encoded data removed]",
      "text/plain": [
       "<Figure size 1080x576 with 1 Axes>"
      ]
     },
     "metadata": {
      "needs_background": "light"
     },
     "output_type": "display_data"
    }
   ],
   "source": [
    "hf.show_mape(contrib_df, os.path.join(cfg.DATA_PATH, cfg.IMAGE_DUMP_PATH, 'control_mape.png'),\n",
    "             col_true='sales', col_pred='y_pred')"
   ]
  },
  {
   "cell_type": "code",
   "execution_count": 8,
   "id": "ecfb8ce5-a638-4887-a14e-abf527ccf497",
   "metadata": {},
   "outputs": [
    {
     "data": {
      "image/png": "[encoded data removed]",
      "text/plain": [
       "<Figure size 1080x576 with 1 Axes>"
      ]
     },
     "metadata": {
      "needs_background": "light"
     },
     "output_type": "display_data"
    }
   ],
   "source": [
    "hf.show_rsq(contrib_df, os.path.join(cfg.DATA_PATH, cfg.IMAGE_DUMP_PATH, 'control_rsq.png'), \n",
    "            col_true='sales', col_pred='y_pred')"
   ]
  },
  {
   "cell_type": "markdown",
   "id": "79fed104-0599-4c13-a746-ccddd2c15185",
   "metadata": {},
   "source": [
    "# Media model"
   ]
  },
  {
   "cell_type": "code",
   "execution_count": 9,
   "id": "4e51ae7f-959f-4684-bc2a-51d1bd9d8ca8",
   "metadata": {},
   "outputs": [],
   "source": [
    "logging.info('Control model done, Staring Media Model!')\n",
    "\n",
    "ctrl_model.df = data\n",
    "ctrl_model.tgt = cfg.TGT\n",
    "ctrl_model.df_ctrl, ctrl_model.sc_ctrl = df_ctrl, sc_ctrl\n",
    "ctrl_model.b_tgt = cfg.B_TGT  # Unscaled ctrl model predictions are full model baseline sales\n",
    "ctrl_model.df[ctrl_model.b_tgt] = contrib_df[['y_pred']]"
   ]
  },
  {
   "cell_type": "code",
   "execution_count": 10,
   "id": "e6023d4f-84c9-417d-9019-70a573aab093",
   "metadata": {},
   "outputs": [
    {
     "name": "stdout",
     "output_type": "stream",
     "text": [
      "sales\n",
      "base_sales\n",
      "online_sales\n",
      "               sales  base_sales  online_sales\n",
      "date                                          \n",
      "2019-01-05  0.697307    0.687823      0.057360\n",
      "2019-01-12  0.775820    0.789370      0.106738\n",
      "2019-01-19  0.733127    0.730927      0.141618\n",
      "2019-01-26  0.683126    0.701806      0.106547\n",
      "2019-02-02  0.836682    0.787942      0.248094\n",
      "...              ...         ...           ...\n",
      "2021-11-27  0.598124    0.586656      0.782240\n",
      "2021-12-04  0.635162    0.595169      0.804851\n",
      "2021-12-11  0.667703    0.611120      0.782279\n",
      "2021-12-18  0.658269    0.613478      0.756247\n",
      "2021-12-25  0.637635    0.593158      0.744142\n",
      "\n",
      "[156 rows x 3 columns]\n"
     ]
    },
    {
     "name": "stderr",
     "output_type": "stream",
     "text": [
      "Multiprocess sampling (8 chains in 4 jobs)\n",
      "NUTS: [gamma, alpha, beta_comp, beta, decay, peak, noise_var, tau]\n"
     ]
    },
    {
     "data": {
      "text/html": [
       "\n",
       "<style>\n",
       "    /* Turns off some styling */\n",
       "    progress {\n",
       "        /* gets rid of default border in Firefox and Opera. */\n",
       "        border: none;\n",
       "        /* Needs to be in here for Safari polyfill so background images work as expected. */\n",
       "        background-size: auto;\n",
       "    }\n",
       "    .progress-bar-interrupted, .progress-bar-interrupted::-webkit-progress-bar {\n",
       "        background: #F44336;\n",
       "    }\n",
       "</style>\n"
      ],
      "text/plain": [
       "<IPython.core.display.HTML object>"
      ]
     },
     "metadata": {},
     "output_type": "display_data"
    },
    {
     "data": {
      "text/html": [
       "\n",
       "    <div>\n",
       "      <progress value='24000' class='' max='24000' style='width:300px; height:20px; vertical-align: middle;'></progress>\n",
       "      100.00% [24000/24000 10:27<00:00 Sampling 8 chains, 19,779 divergences]\n",
       "    </div>\n",
       "    "
      ],
      "text/plain": [
       "<IPython.core.display.HTML object>"
      ]
     },
     "metadata": {},
     "output_type": "display_data"
    },
    {
     "name": "stderr",
     "output_type": "stream",
     "text": [
      "Sampling 8 chains for 500 tune and 2_500 draw iterations (4_000 + 20_000 draws total) took 627 seconds.\n",
      "There were 2460 divergences after tuning. Increase `target_accept` or reparameterize.\n",
      "There were 2472 divergences after tuning. Increase `target_accept` or reparameterize.\n",
      "There were 2466 divergences after tuning. Increase `target_accept` or reparameterize.\n",
      "There were 2471 divergences after tuning. Increase `target_accept` or reparameterize.\n",
      "There were 2477 divergences after tuning. Increase `target_accept` or reparameterize.\n",
      "The chain contains only diverging samples. The model is probably misspecified.\n",
      "The acceptance probability does not match the target. It is 0.47086351595578235, but should be close to 0.9. Try to increase the number of tuning steps.\n",
      "There were 2447 divergences after tuning. Increase `target_accept` or reparameterize.\n",
      "There were 2486 divergences after tuning. Increase `target_accept` or reparameterize.\n",
      "The rhat statistic is larger than 1.2 for some parameters.\n",
      "The estimated number of effective samples is smaller than 200 for some parameters.\n"
     ]
    },
    {
     "data": {
      "text/html": [
       "\n",
       "<style>\n",
       "    /* Turns off some styling */\n",
       "    progress {\n",
       "        /* gets rid of default border in Firefox and Opera. */\n",
       "        border: none;\n",
       "        /* Needs to be in here for Safari polyfill so background images work as expected. */\n",
       "        background-size: auto;\n",
       "    }\n",
       "    .progress-bar-interrupted, .progress-bar-interrupted::-webkit-progress-bar {\n",
       "        background: #F44336;\n",
       "    }\n",
       "</style>\n"
      ],
      "text/plain": [
       "<IPython.core.display.HTML object>"
      ]
     },
     "metadata": {},
     "output_type": "display_data"
    },
    {
     "data": {
      "text/html": [
       "\n",
       "    <div>\n",
       "      <progress value='20000' class='' max='20000' style='width:300px; height:20px; vertical-align: middle;'></progress>\n",
       "      100.00% [20000/20000 02:45<00:00]\n",
       "    </div>\n",
       "    "
      ],
      "text/plain": [
       "<IPython.core.display.HTML object>"
      ]
     },
     "metadata": {},
     "output_type": "display_data"
    },
    {
     "name": "stderr",
     "output_type": "stream",
     "text": [
      "/home/hakon/.local/lib/python3.8/site-packages/arviz/data/io_pymc3_3x.py:98: FutureWarning: Using `from_pymc3` without the model will be deprecated in a future release. Not using the model will return less accurate and less useful results. Make sure you use the model argument or call from_pymc3 within a model context.\n",
      "  warnings.warn(\n",
      "/home/hakon/.local/lib/python3.8/site-packages/arviz/stats/stats.py:1048: RuntimeWarning: overflow encountered in exp\n",
      "  weights = 1 / np.exp(len_scale - len_scale[:, None]).sum(axis=1)\n",
      "/home/hakon/.local/lib/python3.8/site-packages/numpy/core/_methods.py:47: RuntimeWarning: overflow encountered in reduce\n",
      "  return umr_sum(a, axis, dtype, out, keepdims, initial, where)\n",
      "/home/hakon/.local/lib/python3.8/site-packages/arviz/data/io_pymc3_3x.py:98: FutureWarning: Using `from_pymc3` without the model will be deprecated in a future release. Not using the model will return less accurate and less useful results. Make sure you use the model argument or call from_pymc3 within a model context.\n",
      "  warnings.warn(\n"
     ]
    },
    {
     "name": "stdout",
     "output_type": "stream",
     "text": [
      "media 24\n",
      "ctrl 2\n",
      "betas 26\n",
      "Media + Baseline = Sales --> True\n",
      "CPU times: user 4min 11s, sys: 1.91 s, total: 4min 13s\n",
      "Wall time: 14min 29s\n"
     ]
    },
    {
     "name": "stderr",
     "output_type": "stream",
     "text": [
      "/home/hakon/.local/lib/python3.8/site-packages/arviz/stats/stats.py:1635: UserWarning: For one or more samples the posterior variance of the log predictive densities exceeds 0.4. This could be indication of WAIC starting to fail. \n",
      "See http://arxiv.org/abs/1507.04544 for details\n",
      "  warnings.warn(\n"
     ]
    }
   ],
   "source": [
    "%%time\n",
    "media_model = MediaModelBis(ctrl_model, ['online_sales'])\n",
    "\n",
    "# Check if the totals match: media and baseline sales are supposed to cover 100% of actual sales\n",
    "check = (media_model.mc_df[media_model.mdip_cols + [media_model.bsl]].sum(axis=1).sum() == media_model.mc_df[\n",
    "    cfg.TGT].sum())\n",
    "print(\"Media + Baseline = Sales --> {}\".format(check))"
   ]
  },
  {
   "cell_type": "code",
   "execution_count": 11,
   "id": "5f6c32eb-2ae5-43be-8dc8-e7a74d3b28e7",
   "metadata": {},
   "outputs": [
    {
     "data": {
      "text/html": [
       "<div>\n",
       "<style scoped>\n",
       "    .dataframe tbody tr th:only-of-type {\n",
       "        vertical-align: middle;\n",
       "    }\n",
       "\n",
       "    .dataframe tbody tr th {\n",
       "        vertical-align: top;\n",
       "    }\n",
       "\n",
       "    .dataframe thead th {\n",
       "        text-align: right;\n",
       "    }\n",
       "</style>\n",
       "<table border=\"1\" class=\"dataframe\">\n",
       "  <thead>\n",
       "    <tr style=\"text-align: right;\">\n",
       "      <th></th>\n",
       "      <th>mean</th>\n",
       "      <th>sd</th>\n",
       "      <th>hdi_3%</th>\n",
       "      <th>hdi_97%</th>\n",
       "      <th>mcse_mean</th>\n",
       "      <th>mcse_sd</th>\n",
       "      <th>ess_bulk</th>\n",
       "      <th>ess_tail</th>\n",
       "      <th>r_hat</th>\n",
       "    </tr>\n",
       "  </thead>\n",
       "  <tbody>\n",
       "    <tr>\n",
       "      <th>gamma[23]</th>\n",
       "      <td>0.494</td>\n",
       "      <td>0.214</td>\n",
       "      <td>0.072</td>\n",
       "      <td>0.855</td>\n",
       "      <td>0.014</td>\n",
       "      <td>0.010</td>\n",
       "      <td>320.0</td>\n",
       "      <td>1359.0</td>\n",
       "      <td>1.03</td>\n",
       "    </tr>\n",
       "    <tr>\n",
       "      <th>alpha[1]</th>\n",
       "      <td>3.085</td>\n",
       "      <td>1.497</td>\n",
       "      <td>1.000</td>\n",
       "      <td>5.740</td>\n",
       "      <td>0.053</td>\n",
       "      <td>0.037</td>\n",
       "      <td>357.0</td>\n",
       "      <td>1497.0</td>\n",
       "      <td>1.03</td>\n",
       "    </tr>\n",
       "    <tr>\n",
       "      <th>alpha[17]</th>\n",
       "      <td>2.701</td>\n",
       "      <td>1.738</td>\n",
       "      <td>0.109</td>\n",
       "      <td>5.614</td>\n",
       "      <td>0.080</td>\n",
       "      <td>0.056</td>\n",
       "      <td>321.0</td>\n",
       "      <td>1024.0</td>\n",
       "      <td>1.03</td>\n",
       "    </tr>\n",
       "    <tr>\n",
       "      <th>gamma[13]</th>\n",
       "      <td>0.471</td>\n",
       "      <td>0.207</td>\n",
       "      <td>0.138</td>\n",
       "      <td>0.891</td>\n",
       "      <td>0.016</td>\n",
       "      <td>0.014</td>\n",
       "      <td>347.0</td>\n",
       "      <td>595.0</td>\n",
       "      <td>1.03</td>\n",
       "    </tr>\n",
       "    <tr>\n",
       "      <th>peak[5]</th>\n",
       "      <td>0.996</td>\n",
       "      <td>0.096</td>\n",
       "      <td>0.803</td>\n",
       "      <td>1.176</td>\n",
       "      <td>0.004</td>\n",
       "      <td>0.003</td>\n",
       "      <td>532.0</td>\n",
       "      <td>991.0</td>\n",
       "      <td>1.03</td>\n",
       "    </tr>\n",
       "    <tr>\n",
       "      <th>...</th>\n",
       "      <td>...</td>\n",
       "      <td>...</td>\n",
       "      <td>...</td>\n",
       "      <td>...</td>\n",
       "      <td>...</td>\n",
       "      <td>...</td>\n",
       "      <td>...</td>\n",
       "      <td>...</td>\n",
       "      <td>...</td>\n",
       "    </tr>\n",
       "    <tr>\n",
       "      <th>decay[22]</th>\n",
       "      <td>0.435</td>\n",
       "      <td>0.219</td>\n",
       "      <td>0.084</td>\n",
       "      <td>0.785</td>\n",
       "      <td>0.045</td>\n",
       "      <td>0.032</td>\n",
       "      <td>23.0</td>\n",
       "      <td>20.0</td>\n",
       "      <td>1.28</td>\n",
       "    </tr>\n",
       "    <tr>\n",
       "      <th>decay[4]</th>\n",
       "      <td>0.537</td>\n",
       "      <td>0.226</td>\n",
       "      <td>0.193</td>\n",
       "      <td>0.922</td>\n",
       "      <td>0.050</td>\n",
       "      <td>0.042</td>\n",
       "      <td>21.0</td>\n",
       "      <td>26.0</td>\n",
       "      <td>1.29</td>\n",
       "    </tr>\n",
       "    <tr>\n",
       "      <th>alpha[7]</th>\n",
       "      <td>3.511</td>\n",
       "      <td>2.448</td>\n",
       "      <td>0.616</td>\n",
       "      <td>8.725</td>\n",
       "      <td>0.674</td>\n",
       "      <td>0.544</td>\n",
       "      <td>21.0</td>\n",
       "      <td>26.0</td>\n",
       "      <td>1.29</td>\n",
       "    </tr>\n",
       "    <tr>\n",
       "      <th>beta[17]</th>\n",
       "      <td>0.229</td>\n",
       "      <td>0.417</td>\n",
       "      <td>0.000</td>\n",
       "      <td>1.308</td>\n",
       "      <td>0.144</td>\n",
       "      <td>0.108</td>\n",
       "      <td>20.0</td>\n",
       "      <td>14.0</td>\n",
       "      <td>1.34</td>\n",
       "    </tr>\n",
       "    <tr>\n",
       "      <th>tau</th>\n",
       "      <td>-0.317</td>\n",
       "      <td>0.281</td>\n",
       "      <td>-1.029</td>\n",
       "      <td>-0.092</td>\n",
       "      <td>0.093</td>\n",
       "      <td>0.072</td>\n",
       "      <td>19.0</td>\n",
       "      <td>20.0</td>\n",
       "      <td>1.36</td>\n",
       "    </tr>\n",
       "  </tbody>\n",
       "</table>\n",
       "<p>124 rows × 9 columns</p>\n",
       "</div>"
      ],
      "text/plain": [
       "            mean     sd  hdi_3%  hdi_97%  mcse_mean  mcse_sd  ess_bulk  \\\n",
       "gamma[23]  0.494  0.214   0.072    0.855      0.014    0.010     320.0   \n",
       "alpha[1]   3.085  1.497   1.000    5.740      0.053    0.037     357.0   \n",
       "alpha[17]  2.701  1.738   0.109    5.614      0.080    0.056     321.0   \n",
       "gamma[13]  0.471  0.207   0.138    0.891      0.016    0.014     347.0   \n",
       "peak[5]    0.996  0.096   0.803    1.176      0.004    0.003     532.0   \n",
       "...          ...    ...     ...      ...        ...      ...       ...   \n",
       "decay[22]  0.435  0.219   0.084    0.785      0.045    0.032      23.0   \n",
       "decay[4]   0.537  0.226   0.193    0.922      0.050    0.042      21.0   \n",
       "alpha[7]   3.511  2.448   0.616    8.725      0.674    0.544      21.0   \n",
       "beta[17]   0.229  0.417   0.000    1.308      0.144    0.108      20.0   \n",
       "tau       -0.317  0.281  -1.029   -0.092      0.093    0.072      19.0   \n",
       "\n",
       "           ess_tail  r_hat  \n",
       "gamma[23]    1359.0   1.03  \n",
       "alpha[1]     1497.0   1.03  \n",
       "alpha[17]    1024.0   1.03  \n",
       "gamma[13]     595.0   1.03  \n",
       "peak[5]       991.0   1.03  \n",
       "...             ...    ...  \n",
       "decay[22]      20.0   1.28  \n",
       "decay[4]       26.0   1.29  \n",
       "alpha[7]       26.0   1.29  \n",
       "beta[17]       14.0   1.34  \n",
       "tau            20.0   1.36  \n",
       "\n",
       "[124 rows x 9 columns]"
      ]
     },
     "execution_count": 11,
     "metadata": {},
     "output_type": "execute_result"
    }
   ],
   "source": [
    "media_model.fit_summary.sort_values('r_hat')"
   ]
  },
  {
   "cell_type": "code",
   "execution_count": 12,
   "id": "6ca6d6f2-621a-4f88-be69-eb03662b9535",
   "metadata": {},
   "outputs": [
    {
     "data": {
      "text/html": [
       "<div>\n",
       "<style scoped>\n",
       "    .dataframe tbody tr th:only-of-type {\n",
       "        vertical-align: middle;\n",
       "    }\n",
       "\n",
       "    .dataframe tbody tr th {\n",
       "        vertical-align: top;\n",
       "    }\n",
       "\n",
       "    .dataframe thead th {\n",
       "        text-align: right;\n",
       "    }\n",
       "</style>\n",
       "<table border=\"1\" class=\"dataframe\">\n",
       "  <thead>\n",
       "    <tr style=\"text-align: right;\">\n",
       "      <th></th>\n",
       "      <th>max_lag</th>\n",
       "      <th>peak</th>\n",
       "      <th>decay</th>\n",
       "      <th>alpha</th>\n",
       "      <th>gamma</th>\n",
       "    </tr>\n",
       "    <tr>\n",
       "      <th>media_vars</th>\n",
       "      <th></th>\n",
       "      <th></th>\n",
       "      <th></th>\n",
       "      <th></th>\n",
       "      <th></th>\n",
       "    </tr>\n",
       "  </thead>\n",
       "  <tbody>\n",
       "    <tr>\n",
       "      <th>amb</th>\n",
       "      <td>4</td>\n",
       "      <td>1.519496</td>\n",
       "      <td>0.526594</td>\n",
       "      <td>3.249042</td>\n",
       "      <td>0.542208</td>\n",
       "    </tr>\n",
       "    <tr>\n",
       "      <th>amzdsp</th>\n",
       "      <td>4</td>\n",
       "      <td>0.499996</td>\n",
       "      <td>0.524261</td>\n",
       "      <td>2.893118</td>\n",
       "      <td>0.516415</td>\n",
       "    </tr>\n",
       "    <tr>\n",
       "      <th>amzsearch</th>\n",
       "      <td>4</td>\n",
       "      <td>-0.035715</td>\n",
       "      <td>0.459831</td>\n",
       "      <td>2.700990</td>\n",
       "      <td>0.359826</td>\n",
       "    </tr>\n",
       "    <tr>\n",
       "      <th>cin</th>\n",
       "      <td>4</td>\n",
       "      <td>1.003670</td>\n",
       "      <td>0.508181</td>\n",
       "      <td>3.262448</td>\n",
       "      <td>0.494335</td>\n",
       "    </tr>\n",
       "    <tr>\n",
       "      <th>ctv</th>\n",
       "      <td>4</td>\n",
       "      <td>1.505122</td>\n",
       "      <td>0.495919</td>\n",
       "      <td>2.950486</td>\n",
       "      <td>0.486985</td>\n",
       "    </tr>\n",
       "    <tr>\n",
       "      <th>fb</th>\n",
       "      <td>4</td>\n",
       "      <td>1.979114</td>\n",
       "      <td>0.519285</td>\n",
       "      <td>2.900793</td>\n",
       "      <td>0.471906</td>\n",
       "    </tr>\n",
       "    <tr>\n",
       "      <th>fep</th>\n",
       "      <td>4</td>\n",
       "      <td>1.490888</td>\n",
       "      <td>0.459922</td>\n",
       "      <td>3.073189</td>\n",
       "      <td>0.517534</td>\n",
       "    </tr>\n",
       "    <tr>\n",
       "      <th>fluency</th>\n",
       "      <td>4</td>\n",
       "      <td>1.020630</td>\n",
       "      <td>0.435101</td>\n",
       "      <td>2.975442</td>\n",
       "      <td>0.492119</td>\n",
       "    </tr>\n",
       "    <tr>\n",
       "      <th>gads</th>\n",
       "      <td>4</td>\n",
       "      <td>0.481362</td>\n",
       "      <td>0.481559</td>\n",
       "      <td>3.231766</td>\n",
       "      <td>0.444775</td>\n",
       "    </tr>\n",
       "    <tr>\n",
       "      <th>gtrends</th>\n",
       "      <td>4</td>\n",
       "      <td>0.978726</td>\n",
       "      <td>0.519369</td>\n",
       "      <td>2.604021</td>\n",
       "      <td>0.452026</td>\n",
       "    </tr>\n",
       "    <tr>\n",
       "      <th>hearst</th>\n",
       "      <td>4</td>\n",
       "      <td>0.519251</td>\n",
       "      <td>0.528113</td>\n",
       "      <td>2.920020</td>\n",
       "      <td>0.453477</td>\n",
       "    </tr>\n",
       "    <tr>\n",
       "      <th>insta</th>\n",
       "      <td>4</td>\n",
       "      <td>0.990743</td>\n",
       "      <td>0.503190</td>\n",
       "      <td>3.145407</td>\n",
       "      <td>0.547073</td>\n",
       "    </tr>\n",
       "    <tr>\n",
       "      <th>microads</th>\n",
       "      <td>4</td>\n",
       "      <td>0.515317</td>\n",
       "      <td>0.516075</td>\n",
       "      <td>3.448584</td>\n",
       "      <td>0.491383</td>\n",
       "    </tr>\n",
       "    <tr>\n",
       "      <th>oathvrzn</th>\n",
       "      <td>4</td>\n",
       "      <td>1.507293</td>\n",
       "      <td>0.481667</td>\n",
       "      <td>3.091133</td>\n",
       "      <td>0.534911</td>\n",
       "    </tr>\n",
       "    <tr>\n",
       "      <th>pin</th>\n",
       "      <td>4</td>\n",
       "      <td>0.994205</td>\n",
       "      <td>0.537023</td>\n",
       "      <td>3.037726</td>\n",
       "      <td>0.516896</td>\n",
       "    </tr>\n",
       "    <tr>\n",
       "      <th>pnda</th>\n",
       "      <td>4</td>\n",
       "      <td>0.996499</td>\n",
       "      <td>0.508930</td>\n",
       "      <td>3.119549</td>\n",
       "      <td>0.515382</td>\n",
       "    </tr>\n",
       "    <tr>\n",
       "      <th>tgtdsp</th>\n",
       "      <td>4</td>\n",
       "      <td>0.511757</td>\n",
       "      <td>0.434668</td>\n",
       "      <td>3.076372</td>\n",
       "      <td>0.471239</td>\n",
       "    </tr>\n",
       "    <tr>\n",
       "      <th>tgtsearch</th>\n",
       "      <td>4</td>\n",
       "      <td>0.477282</td>\n",
       "      <td>0.541162</td>\n",
       "      <td>2.984800</td>\n",
       "      <td>0.487033</td>\n",
       "    </tr>\n",
       "    <tr>\n",
       "      <th>tiktok</th>\n",
       "      <td>4</td>\n",
       "      <td>0.995065</td>\n",
       "      <td>0.463522</td>\n",
       "      <td>3.099093</td>\n",
       "      <td>0.578483</td>\n",
       "    </tr>\n",
       "    <tr>\n",
       "      <th>tv</th>\n",
       "      <td>4</td>\n",
       "      <td>1.487869</td>\n",
       "      <td>0.618646</td>\n",
       "      <td>1.908218</td>\n",
       "      <td>0.646500</td>\n",
       "    </tr>\n",
       "    <tr>\n",
       "      <th>webmd</th>\n",
       "      <td>4</td>\n",
       "      <td>1.512888</td>\n",
       "      <td>0.540958</td>\n",
       "      <td>3.510847</td>\n",
       "      <td>0.419809</td>\n",
       "    </tr>\n",
       "    <tr>\n",
       "      <th>wmdsp</th>\n",
       "      <td>4</td>\n",
       "      <td>0.495279</td>\n",
       "      <td>0.457852</td>\n",
       "      <td>3.301270</td>\n",
       "      <td>0.560784</td>\n",
       "    </tr>\n",
       "    <tr>\n",
       "      <th>wmsearch</th>\n",
       "      <td>4</td>\n",
       "      <td>0.514104</td>\n",
       "      <td>0.517140</td>\n",
       "      <td>2.967915</td>\n",
       "      <td>0.491770</td>\n",
       "    </tr>\n",
       "    <tr>\n",
       "      <th>yt</th>\n",
       "      <td>4</td>\n",
       "      <td>1.499998</td>\n",
       "      <td>0.550570</td>\n",
       "      <td>3.085116</td>\n",
       "      <td>0.473434</td>\n",
       "    </tr>\n",
       "  </tbody>\n",
       "</table>\n",
       "</div>"
      ],
      "text/plain": [
       "            max_lag      peak     decay     alpha     gamma\n",
       "media_vars                                                 \n",
       "amb               4  1.519496  0.526594  3.249042  0.542208\n",
       "amzdsp            4  0.499996  0.524261  2.893118  0.516415\n",
       "amzsearch         4 -0.035715  0.459831  2.700990  0.359826\n",
       "cin               4  1.003670  0.508181  3.262448  0.494335\n",
       "ctv               4  1.505122  0.495919  2.950486  0.486985\n",
       "fb                4  1.979114  0.519285  2.900793  0.471906\n",
       "fep               4  1.490888  0.459922  3.073189  0.517534\n",
       "fluency           4  1.020630  0.435101  2.975442  0.492119\n",
       "gads              4  0.481362  0.481559  3.231766  0.444775\n",
       "gtrends           4  0.978726  0.519369  2.604021  0.452026\n",
       "hearst            4  0.519251  0.528113  2.920020  0.453477\n",
       "insta             4  0.990743  0.503190  3.145407  0.547073\n",
       "microads          4  0.515317  0.516075  3.448584  0.491383\n",
       "oathvrzn          4  1.507293  0.481667  3.091133  0.534911\n",
       "pin               4  0.994205  0.537023  3.037726  0.516896\n",
       "pnda              4  0.996499  0.508930  3.119549  0.515382\n",
       "tgtdsp            4  0.511757  0.434668  3.076372  0.471239\n",
       "tgtsearch         4  0.477282  0.541162  2.984800  0.487033\n",
       "tiktok            4  0.995065  0.463522  3.099093  0.578483\n",
       "tv                4  1.487869  0.618646  1.908218  0.646500\n",
       "webmd             4  1.512888  0.540958  3.510847  0.419809\n",
       "wmdsp             4  0.495279  0.457852  3.301270  0.560784\n",
       "wmsearch          4  0.514104  0.517140  2.967915  0.491770\n",
       "yt                4  1.499998  0.550570  3.085116  0.473434"
      ]
     },
     "execution_count": 12,
     "metadata": {},
     "output_type": "execute_result"
    }
   ],
   "source": [
    "df_media_params = get_media_parameters(media_model)\n",
    "df_media_params.to_csv(cfg.PATH_MEDIA_MODEL_PARAMS)\n",
    "df_media_params"
   ]
  },
  {
   "cell_type": "code",
   "execution_count": 15,
   "id": "7df37fbd-555c-4025-8594-62e0962ec1ef",
   "metadata": {},
   "outputs": [
    {
     "data": {
      "image/png": "[encoded data removed]",
      "text/plain": [
       "<Figure size 1080x576 with 1 Axes>"
      ]
     },
     "metadata": {
      "needs_background": "light"
     },
     "output_type": "display_data"
    }
   ],
   "source": [
    "hf.show_prediction(media_model.factor_df, \n",
    "                   os.path.join(cfg.DATA_PATH, cfg.IMAGE_DUMP_PATH, 'media_prediction.png'), \n",
    "                   col_true='y_true2', col_pred='y_pred')"
   ]
  },
  {
   "cell_type": "code",
   "execution_count": 16,
   "id": "ac716f5e-52b0-429d-9512-0716573a1256",
   "metadata": {},
   "outputs": [
    {
     "data": {
      "text/html": [
       "<div>\n",
       "<style scoped>\n",
       "    .dataframe tbody tr th:only-of-type {\n",
       "        vertical-align: middle;\n",
       "    }\n",
       "\n",
       "    .dataframe tbody tr th {\n",
       "        vertical-align: top;\n",
       "    }\n",
       "\n",
       "    .dataframe thead th {\n",
       "        text-align: right;\n",
       "    }\n",
       "</style>\n",
       "<table border=\"1\" class=\"dataframe\">\n",
       "  <thead>\n",
       "    <tr style=\"text-align: right;\">\n",
       "      <th></th>\n",
       "      <th>year</th>\n",
       "      <th>mape</th>\n",
       "      <th>FA</th>\n",
       "      <th>rsq</th>\n",
       "    </tr>\n",
       "  </thead>\n",
       "  <tbody>\n",
       "    <tr>\n",
       "      <th>0</th>\n",
       "      <td>2019</td>\n",
       "      <td>0.035401</td>\n",
       "      <td>0.964599</td>\n",
       "      <td>0.071900</td>\n",
       "    </tr>\n",
       "    <tr>\n",
       "      <th>1</th>\n",
       "      <td>2020</td>\n",
       "      <td>0.023149</td>\n",
       "      <td>0.976851</td>\n",
       "      <td>0.874100</td>\n",
       "    </tr>\n",
       "    <tr>\n",
       "      <th>2</th>\n",
       "      <td>2021</td>\n",
       "      <td>0.023297</td>\n",
       "      <td>0.976703</td>\n",
       "      <td>0.391790</td>\n",
       "    </tr>\n",
       "    <tr>\n",
       "      <th>3</th>\n",
       "      <td>total</td>\n",
       "      <td>0.027283</td>\n",
       "      <td>0.972717</td>\n",
       "      <td>0.755413</td>\n",
       "    </tr>\n",
       "  </tbody>\n",
       "</table>\n",
       "</div>"
      ],
      "text/plain": [
       "    year      mape        FA       rsq\n",
       "0   2019  0.035401  0.964599  0.071900\n",
       "1   2020  0.023149  0.976851  0.874100\n",
       "2   2021  0.023297  0.976703  0.391790\n",
       "3  total  0.027283  0.972717  0.755413"
      ]
     },
     "execution_count": 16,
     "metadata": {},
     "output_type": "execute_result"
    }
   ],
   "source": [
    "hf.get_metrics(media_model.factor_df, col_true = 'y_true2', col_pred = 'y_pred')"
   ]
  },
  {
   "cell_type": "code",
   "execution_count": 17,
   "id": "0d61d83b-b122-4dde-b3f3-abeadbcd77ef",
   "metadata": {},
   "outputs": [
    {
     "data": {
      "text/html": [
       "<div>\n",
       "<style scoped>\n",
       "    .dataframe tbody tr th:only-of-type {\n",
       "        vertical-align: middle;\n",
       "    }\n",
       "\n",
       "    .dataframe tbody tr th {\n",
       "        vertical-align: top;\n",
       "    }\n",
       "\n",
       "    .dataframe thead th {\n",
       "        text-align: right;\n",
       "    }\n",
       "</style>\n",
       "<table border=\"1\" class=\"dataframe\">\n",
       "  <thead>\n",
       "    <tr style=\"text-align: right;\">\n",
       "      <th></th>\n",
       "      <th>mean</th>\n",
       "      <th>sd</th>\n",
       "      <th>hdi_3%</th>\n",
       "      <th>hdi_97%</th>\n",
       "      <th>mcse_mean</th>\n",
       "      <th>mcse_sd</th>\n",
       "      <th>ess_bulk</th>\n",
       "      <th>ess_tail</th>\n",
       "      <th>r_hat</th>\n",
       "    </tr>\n",
       "  </thead>\n",
       "  <tbody>\n",
       "    <tr>\n",
       "      <th>gamma[23]</th>\n",
       "      <td>0.494</td>\n",
       "      <td>0.214</td>\n",
       "      <td>0.072</td>\n",
       "      <td>0.855</td>\n",
       "      <td>0.014</td>\n",
       "      <td>0.010</td>\n",
       "      <td>320.0</td>\n",
       "      <td>1359.0</td>\n",
       "      <td>1.03</td>\n",
       "    </tr>\n",
       "    <tr>\n",
       "      <th>alpha[1]</th>\n",
       "      <td>3.085</td>\n",
       "      <td>1.497</td>\n",
       "      <td>1.000</td>\n",
       "      <td>5.740</td>\n",
       "      <td>0.053</td>\n",
       "      <td>0.037</td>\n",
       "      <td>357.0</td>\n",
       "      <td>1497.0</td>\n",
       "      <td>1.03</td>\n",
       "    </tr>\n",
       "    <tr>\n",
       "      <th>alpha[17]</th>\n",
       "      <td>2.701</td>\n",
       "      <td>1.738</td>\n",
       "      <td>0.109</td>\n",
       "      <td>5.614</td>\n",
       "      <td>0.080</td>\n",
       "      <td>0.056</td>\n",
       "      <td>321.0</td>\n",
       "      <td>1024.0</td>\n",
       "      <td>1.03</td>\n",
       "    </tr>\n",
       "    <tr>\n",
       "      <th>gamma[13]</th>\n",
       "      <td>0.471</td>\n",
       "      <td>0.207</td>\n",
       "      <td>0.138</td>\n",
       "      <td>0.891</td>\n",
       "      <td>0.016</td>\n",
       "      <td>0.014</td>\n",
       "      <td>347.0</td>\n",
       "      <td>595.0</td>\n",
       "      <td>1.03</td>\n",
       "    </tr>\n",
       "    <tr>\n",
       "      <th>peak[5]</th>\n",
       "      <td>0.996</td>\n",
       "      <td>0.096</td>\n",
       "      <td>0.803</td>\n",
       "      <td>1.176</td>\n",
       "      <td>0.004</td>\n",
       "      <td>0.003</td>\n",
       "      <td>532.0</td>\n",
       "      <td>991.0</td>\n",
       "      <td>1.03</td>\n",
       "    </tr>\n",
       "    <tr>\n",
       "      <th>...</th>\n",
       "      <td>...</td>\n",
       "      <td>...</td>\n",
       "      <td>...</td>\n",
       "      <td>...</td>\n",
       "      <td>...</td>\n",
       "      <td>...</td>\n",
       "      <td>...</td>\n",
       "      <td>...</td>\n",
       "      <td>...</td>\n",
       "    </tr>\n",
       "    <tr>\n",
       "      <th>decay[22]</th>\n",
       "      <td>0.435</td>\n",
       "      <td>0.219</td>\n",
       "      <td>0.084</td>\n",
       "      <td>0.785</td>\n",
       "      <td>0.045</td>\n",
       "      <td>0.032</td>\n",
       "      <td>23.0</td>\n",
       "      <td>20.0</td>\n",
       "      <td>1.28</td>\n",
       "    </tr>\n",
       "    <tr>\n",
       "      <th>decay[4]</th>\n",
       "      <td>0.537</td>\n",
       "      <td>0.226</td>\n",
       "      <td>0.193</td>\n",
       "      <td>0.922</td>\n",
       "      <td>0.050</td>\n",
       "      <td>0.042</td>\n",
       "      <td>21.0</td>\n",
       "      <td>26.0</td>\n",
       "      <td>1.29</td>\n",
       "    </tr>\n",
       "    <tr>\n",
       "      <th>alpha[7]</th>\n",
       "      <td>3.511</td>\n",
       "      <td>2.448</td>\n",
       "      <td>0.616</td>\n",
       "      <td>8.725</td>\n",
       "      <td>0.674</td>\n",
       "      <td>0.544</td>\n",
       "      <td>21.0</td>\n",
       "      <td>26.0</td>\n",
       "      <td>1.29</td>\n",
       "    </tr>\n",
       "    <tr>\n",
       "      <th>beta[17]</th>\n",
       "      <td>0.229</td>\n",
       "      <td>0.417</td>\n",
       "      <td>0.000</td>\n",
       "      <td>1.308</td>\n",
       "      <td>0.144</td>\n",
       "      <td>0.108</td>\n",
       "      <td>20.0</td>\n",
       "      <td>14.0</td>\n",
       "      <td>1.34</td>\n",
       "    </tr>\n",
       "    <tr>\n",
       "      <th>tau</th>\n",
       "      <td>-0.317</td>\n",
       "      <td>0.281</td>\n",
       "      <td>-1.029</td>\n",
       "      <td>-0.092</td>\n",
       "      <td>0.093</td>\n",
       "      <td>0.072</td>\n",
       "      <td>19.0</td>\n",
       "      <td>20.0</td>\n",
       "      <td>1.36</td>\n",
       "    </tr>\n",
       "  </tbody>\n",
       "</table>\n",
       "<p>124 rows × 9 columns</p>\n",
       "</div>"
      ],
      "text/plain": [
       "            mean     sd  hdi_3%  hdi_97%  mcse_mean  mcse_sd  ess_bulk  \\\n",
       "gamma[23]  0.494  0.214   0.072    0.855      0.014    0.010     320.0   \n",
       "alpha[1]   3.085  1.497   1.000    5.740      0.053    0.037     357.0   \n",
       "alpha[17]  2.701  1.738   0.109    5.614      0.080    0.056     321.0   \n",
       "gamma[13]  0.471  0.207   0.138    0.891      0.016    0.014     347.0   \n",
       "peak[5]    0.996  0.096   0.803    1.176      0.004    0.003     532.0   \n",
       "...          ...    ...     ...      ...        ...      ...       ...   \n",
       "decay[22]  0.435  0.219   0.084    0.785      0.045    0.032      23.0   \n",
       "decay[4]   0.537  0.226   0.193    0.922      0.050    0.042      21.0   \n",
       "alpha[7]   3.511  2.448   0.616    8.725      0.674    0.544      21.0   \n",
       "beta[17]   0.229  0.417   0.000    1.308      0.144    0.108      20.0   \n",
       "tau       -0.317  0.281  -1.029   -0.092      0.093    0.072      19.0   \n",
       "\n",
       "           ess_tail  r_hat  \n",
       "gamma[23]    1359.0   1.03  \n",
       "alpha[1]     1497.0   1.03  \n",
       "alpha[17]    1024.0   1.03  \n",
       "gamma[13]     595.0   1.03  \n",
       "peak[5]       991.0   1.03  \n",
       "...             ...    ...  \n",
       "decay[22]      20.0   1.28  \n",
       "decay[4]       26.0   1.29  \n",
       "alpha[7]       26.0   1.29  \n",
       "beta[17]       14.0   1.34  \n",
       "tau            20.0   1.36  \n",
       "\n",
       "[124 rows x 9 columns]"
      ]
     },
     "execution_count": 17,
     "metadata": {},
     "output_type": "execute_result"
    }
   ],
   "source": [
    "media_model.fit_summary.sort_values('r_hat')"
   ]
  },
  {
   "cell_type": "code",
   "execution_count": 18,
   "id": "c114ddb1-e979-43ff-9916-84356482628f",
   "metadata": {},
   "outputs": [],
   "source": [
    "hf.pickle_dump(os.path.join(cfg.DATA_PATH, cfg.MODEL_DUMP_PATH), 'media_model.pickle', \n",
    "               media_model.mmm_model)\n",
    "hf.json_dump(os.path.join(cfg.DATA_PATH, cfg.INTER_PATH), \"media_model_fit_result.json\", \n",
    "             media_model.fit_result)\n",
    "media_model.fit_summary.to_csv(\n",
    "    os.path.join(cfg.DATA_PATH, cfg.INTER_PATH, 'media_model_fit_summary.csv'))\n",
    "hf.pickle_dump(os.path.join(cfg.DATA_PATH, cfg.MODEL_DUMP_PATH), 'media_trace_loo.pickle', \n",
    "               media_model.loo)\n",
    "hf.pickle_dump(os.path.join(cfg.DATA_PATH, cfg.MODEL_DUMP_PATH), 'media_waic_loo.pickle', \n",
    "               media_model.waic)"
   ]
  },
  {
   "cell_type": "code",
   "execution_count": 19,
   "id": "1ebc0df5-6408-4c13-8034-28ab18195196",
   "metadata": {},
   "outputs": [],
   "source": [
    "# upload_to_bucket(GCP_ID + '/model_artefacts/media_model.pickle', getcwd() + MODEL_DUMP_PATH + 'media_model.pickle',\n",
    "#                  bucket_name)\n",
    "# upload_to_bucket(GCP_ID + '/intermediate_files/media_model_fit_result.json',\n",
    "#                  getcwd() + INTER_PATH + 'media_model_fit_result.json', bucket_name)\n",
    "# upload_to_bucket(GCP_ID + '/intermediate_files/media_model_fit_summary.csv',\n",
    "#                  getcwd() + INTER_PATH + 'media_model_fit_summary.csv', bucket_name)\n",
    "# upload_to_bucket(GCP_ID + '/model_artefacts/media_trace_loo.pickle',\n",
    "#                  getcwd() + MODEL_DUMP_PATH + 'media_trace_loo.pickle', bucket_name)\n",
    "# upload_to_bucket(GCP_ID + '/model_artefacts/media_waic_loo.pickle',\n",
    "#                  getcwd() + MODEL_DUMP_PATH + 'media_waic_loo.pickle', bucket_name)\n",
    "# upload_to_bucket(GCP_ID + '/charts/media_prediction.png', getcwd() + IMAGE_DUMP_PATH + 'media_prediction.png',\n",
    "#                  bucket_name)"
   ]
  },
  {
   "cell_type": "markdown",
   "id": "5add3517-257c-4577-b736-fbf8d0b84508",
   "metadata": {},
   "source": [
    "# Reloop model"
   ]
  },
  {
   "cell_type": "code",
   "execution_count": 20,
   "id": "6b19c98a-666f-4bf3-af9c-ccfcecf7cd95",
   "metadata": {},
   "outputs": [],
   "source": [
    "logging.info('Relooping Media Model!')\n",
    "\n",
    "df = media_model.df.copy()\n",
    "mdip_cols = media_model.mdip_cols\n",
    "adstock_params = media_model.mmm['adstock_params'].copy()\n",
    "adstk_df = get_adstk_sat_df(media_model)\n",
    "sp_df = get_spend_df(media_model, get_avg_price_df)\n",
    "sp_roi_df = get_roi_spend_df_full(media_model, cfg.rois_dd, cfg.GM, get_avg_price_df)"
   ]
  },
  {
   "cell_type": "code",
   "execution_count": 21,
   "id": "75c90cd4-3ff6-41b5-86d0-96bedd36b1a1",
   "metadata": {},
   "outputs": [],
   "source": [
    "betas_dict = get_betas_dict(media_model, cfg.rois_dd, cfg.GM, get_avg_price_df)"
   ]
  },
  {
   "cell_type": "code",
   "execution_count": 22,
   "id": "2e5b7507-e7a9-4c42-808a-fd10226e6d5f",
   "metadata": {},
   "outputs": [
    {
     "name": "stderr",
     "output_type": "stream",
     "text": [
      "Multiprocess sampling (8 chains in 4 jobs)\n",
      "NUTS: [noise_var, tau, beta_online_sales, beta_base_sales, beta_cin, beta_gtrends]\n"
     ]
    },
    {
     "data": {
      "text/html": [
       "\n",
       "<style>\n",
       "    /* Turns off some styling */\n",
       "    progress {\n",
       "        /* gets rid of default border in Firefox and Opera. */\n",
       "        border: none;\n",
       "        /* Needs to be in here for Safari polyfill so background images work as expected. */\n",
       "        background-size: auto;\n",
       "    }\n",
       "    .progress-bar-interrupted, .progress-bar-interrupted::-webkit-progress-bar {\n",
       "        background: #F44336;\n",
       "    }\n",
       "</style>\n"
      ],
      "text/plain": [
       "<IPython.core.display.HTML object>"
      ]
     },
     "metadata": {},
     "output_type": "display_data"
    },
    {
     "data": {
      "text/html": [
       "\n",
       "    <div>\n",
       "      <progress value='20400' class='' max='20400' style='width:300px; height:20px; vertical-align: middle;'></progress>\n",
       "      100.00% [20400/20400 01:32<00:00 Sampling 8 chains, 0 divergences]\n",
       "    </div>\n",
       "    "
      ],
      "text/plain": [
       "<IPython.core.display.HTML object>"
      ]
     },
     "metadata": {},
     "output_type": "display_data"
    },
    {
     "name": "stderr",
     "output_type": "stream",
     "text": [
      "Sampling 8 chains for 50 tune and 2_500 draw iterations (400 + 20_000 draws total) took 92 seconds.\n",
      "The acceptance probability does not match the target. It is 0.9666640627286986, but should be close to 0.9. Try to increase the number of tuning steps.\n",
      "The number of effective samples is smaller than 25% for some parameters.\n"
     ]
    },
    {
     "data": {
      "text/html": [
       "\n",
       "<style>\n",
       "    /* Turns off some styling */\n",
       "    progress {\n",
       "        /* gets rid of default border in Firefox and Opera. */\n",
       "        border: none;\n",
       "        /* Needs to be in here for Safari polyfill so background images work as expected. */\n",
       "        background-size: auto;\n",
       "    }\n",
       "    .progress-bar-interrupted, .progress-bar-interrupted::-webkit-progress-bar {\n",
       "        background: #F44336;\n",
       "    }\n",
       "</style>\n"
      ],
      "text/plain": [
       "<IPython.core.display.HTML object>"
      ]
     },
     "metadata": {},
     "output_type": "display_data"
    },
    {
     "data": {
      "text/html": [
       "\n",
       "    <div>\n",
       "      <progress value='20000' class='' max='20000' style='width:300px; height:20px; vertical-align: middle;'></progress>\n",
       "      100.00% [20000/20000 00:14<00:00]\n",
       "    </div>\n",
       "    "
      ],
      "text/plain": [
       "<IPython.core.display.HTML object>"
      ]
     },
     "metadata": {},
     "output_type": "display_data"
    },
    {
     "name": "stderr",
     "output_type": "stream",
     "text": [
      "/home/hakon/.local/lib/python3.8/site-packages/arviz/data/io_pymc3_3x.py:98: FutureWarning: Using `from_pymc3` without the model will be deprecated in a future release. Not using the model will return less accurate and less useful results. Make sure you use the model argument or call from_pymc3 within a model context.\n",
      "  warnings.warn(\n",
      "/home/hakon/.local/lib/python3.8/site-packages/arviz/data/io_pymc3_3x.py:98: FutureWarning: Using `from_pymc3` without the model will be deprecated in a future release. Not using the model will return less accurate and less useful results. Make sure you use the model argument or call from_pymc3 within a model context.\n",
      "  warnings.warn(\n"
     ]
    },
    {
     "name": "stdout",
     "output_type": "stream",
     "text": [
      "CPU times: user 28.5 s, sys: 497 ms, total: 29 s\n",
      "Wall time: 1min 55s\n"
     ]
    },
    {
     "name": "stderr",
     "output_type": "stream",
     "text": [
      "/home/hakon/.local/lib/python3.8/site-packages/arviz/stats/stats.py:1635: UserWarning: For one or more samples the posterior variance of the log predictive densities exceeds 0.4. This could be indication of WAIC starting to fail. \n",
      "See http://arxiv.org/abs/1507.04544 for details\n",
      "  warnings.warn(\n"
     ]
    }
   ],
   "source": [
    "%%time\n",
    "reloop_model = get_reloop_model(media_model, betas_dict)\n",
    "fit_result_reloop, fit_summary_reloop = fit_model(reloop_model, n_samples=cfg.RELOOP_N_SAMPLES,\n",
    "                                                  n_tune_samples=cfg.RELOOP_N_TUNE_SAMPLES)\n",
    "\n",
    "fit_summary_reloop.to_csv(\n",
    "    os.path.join(cfg.DATA_PATH, cfg.INTER_PATH, 'media_model_fit_summary_reloop.csv'))"
   ]
  },
  {
   "cell_type": "code",
   "execution_count": 23,
   "id": "114ccbaa-adba-4ad2-b2a3-df971ba559ed",
   "metadata": {},
   "outputs": [
    {
     "data": {
      "text/html": [
       "<div>\n",
       "<style scoped>\n",
       "    .dataframe tbody tr th:only-of-type {\n",
       "        vertical-align: middle;\n",
       "    }\n",
       "\n",
       "    .dataframe tbody tr th {\n",
       "        vertical-align: top;\n",
       "    }\n",
       "\n",
       "    .dataframe thead th {\n",
       "        text-align: right;\n",
       "    }\n",
       "</style>\n",
       "<table border=\"1\" class=\"dataframe\">\n",
       "  <thead>\n",
       "    <tr style=\"text-align: right;\">\n",
       "      <th></th>\n",
       "      <th>mean</th>\n",
       "      <th>sd</th>\n",
       "      <th>hdi_3%</th>\n",
       "      <th>hdi_97%</th>\n",
       "      <th>mcse_mean</th>\n",
       "      <th>mcse_sd</th>\n",
       "      <th>ess_bulk</th>\n",
       "      <th>ess_tail</th>\n",
       "      <th>r_hat</th>\n",
       "    </tr>\n",
       "  </thead>\n",
       "  <tbody>\n",
       "    <tr>\n",
       "      <th>beta_online_sales</th>\n",
       "      <td>-0.019</td>\n",
       "      <td>0.008</td>\n",
       "      <td>-0.034</td>\n",
       "      <td>-0.003</td>\n",
       "      <td>0.000</td>\n",
       "      <td>0.0</td>\n",
       "      <td>21733.0</td>\n",
       "      <td>13535.0</td>\n",
       "      <td>1.0</td>\n",
       "    </tr>\n",
       "    <tr>\n",
       "      <th>tau</th>\n",
       "      <td>-0.220</td>\n",
       "      <td>0.036</td>\n",
       "      <td>-0.288</td>\n",
       "      <td>-0.153</td>\n",
       "      <td>0.000</td>\n",
       "      <td>0.0</td>\n",
       "      <td>7759.0</td>\n",
       "      <td>9915.0</td>\n",
       "      <td>1.0</td>\n",
       "    </tr>\n",
       "    <tr>\n",
       "      <th>beta_gtrends</th>\n",
       "      <td>0.035</td>\n",
       "      <td>0.029</td>\n",
       "      <td>0.000</td>\n",
       "      <td>0.089</td>\n",
       "      <td>0.001</td>\n",
       "      <td>0.0</td>\n",
       "      <td>2157.0</td>\n",
       "      <td>2131.0</td>\n",
       "      <td>1.0</td>\n",
       "    </tr>\n",
       "    <tr>\n",
       "      <th>beta_cin</th>\n",
       "      <td>0.050</td>\n",
       "      <td>0.016</td>\n",
       "      <td>0.020</td>\n",
       "      <td>0.081</td>\n",
       "      <td>0.000</td>\n",
       "      <td>0.0</td>\n",
       "      <td>5127.0</td>\n",
       "      <td>3560.0</td>\n",
       "      <td>1.0</td>\n",
       "    </tr>\n",
       "    <tr>\n",
       "      <th>beta_base_sales</th>\n",
       "      <td>1.104</td>\n",
       "      <td>0.049</td>\n",
       "      <td>1.012</td>\n",
       "      <td>1.197</td>\n",
       "      <td>0.000</td>\n",
       "      <td>0.0</td>\n",
       "      <td>11636.0</td>\n",
       "      <td>10556.0</td>\n",
       "      <td>1.0</td>\n",
       "    </tr>\n",
       "    <tr>\n",
       "      <th>noise_var</th>\n",
       "      <td>0.001</td>\n",
       "      <td>0.000</td>\n",
       "      <td>0.001</td>\n",
       "      <td>0.002</td>\n",
       "      <td>0.000</td>\n",
       "      <td>0.0</td>\n",
       "      <td>19014.0</td>\n",
       "      <td>12436.0</td>\n",
       "      <td>1.0</td>\n",
       "    </tr>\n",
       "  </tbody>\n",
       "</table>\n",
       "</div>"
      ],
      "text/plain": [
       "                    mean     sd  hdi_3%  hdi_97%  mcse_mean  mcse_sd  \\\n",
       "beta_online_sales -0.019  0.008  -0.034   -0.003      0.000      0.0   \n",
       "tau               -0.220  0.036  -0.288   -0.153      0.000      0.0   \n",
       "beta_gtrends       0.035  0.029   0.000    0.089      0.001      0.0   \n",
       "beta_cin           0.050  0.016   0.020    0.081      0.000      0.0   \n",
       "beta_base_sales    1.104  0.049   1.012    1.197      0.000      0.0   \n",
       "noise_var          0.001  0.000   0.001    0.002      0.000      0.0   \n",
       "\n",
       "                   ess_bulk  ess_tail  r_hat  \n",
       "beta_online_sales   21733.0   13535.0    1.0  \n",
       "tau                  7759.0    9915.0    1.0  \n",
       "beta_gtrends         2157.0    2131.0    1.0  \n",
       "beta_cin             5127.0    3560.0    1.0  \n",
       "beta_base_sales     11636.0   10556.0    1.0  \n",
       "noise_var           19014.0   12436.0    1.0  "
      ]
     },
     "execution_count": 23,
     "metadata": {},
     "output_type": "execute_result"
    }
   ],
   "source": [
    "fit_summary_reloop"
   ]
  },
  {
   "cell_type": "code",
   "execution_count": 24,
   "id": "a1415610-24ac-41b6-84a6-6ff8db25fa29",
   "metadata": {},
   "outputs": [],
   "source": [
    "mc_df = rebuild_mc_df(media_model, betas_dict, fit_result_reloop)  # rebuild the media contribution df\n",
    "sanity_check(mc_df, sp_df, cfg.rois_dd, cfg.GM)\n",
    "res_non_med = get_non_media_contribution(media_model, betas_dict, fit_result_reloop, df_ctrl, post_pred_control)\n",
    "output_roi_df = get_output_roi_df(mc_df, sp_df, cfg.GM)\n",
    "output_cont_df = get_final_contribution_output(media_model, mc_df, res_non_med)"
   ]
  },
  {
   "cell_type": "code",
   "execution_count": 25,
   "id": "9bf8f054-d68c-43c3-8548-70032af60adb",
   "metadata": {},
   "outputs": [
    {
     "data": {
      "image/png": "[encoded data removed]",
      "text/plain": [
       "<Figure size 1080x576 with 1 Axes>"
      ]
     },
     "metadata": {
      "needs_background": "light"
     },
     "output_type": "display_data"
    }
   ],
   "source": [
    "# Show predictions before rescaling\n",
    "hf.show_prediction(rebuild_factor_df(media_model, betas_dict, fit_result_reloop),\n",
    "                   os.path.join(cfg.DATA_PATH, cfg.IMAGE_DUMP_PATH, \n",
    "                                'reloop_prediction_before_rescaling.png'),\n",
    "                   col_true = 'sales', col_pred = 'y_pred')"
   ]
  },
  {
   "cell_type": "code",
   "execution_count": 26,
   "id": "893acaa4-7e25-4f87-ae6c-338d891d4cba",
   "metadata": {},
   "outputs": [
    {
     "data": {
      "text/html": [
       "<div>\n",
       "<style scoped>\n",
       "    .dataframe tbody tr th:only-of-type {\n",
       "        vertical-align: middle;\n",
       "    }\n",
       "\n",
       "    .dataframe tbody tr th {\n",
       "        vertical-align: top;\n",
       "    }\n",
       "\n",
       "    .dataframe thead th {\n",
       "        text-align: right;\n",
       "    }\n",
       "</style>\n",
       "<table border=\"1\" class=\"dataframe\">\n",
       "  <thead>\n",
       "    <tr style=\"text-align: right;\">\n",
       "      <th></th>\n",
       "      <th>year</th>\n",
       "      <th>mape</th>\n",
       "      <th>FA</th>\n",
       "      <th>rsq</th>\n",
       "    </tr>\n",
       "  </thead>\n",
       "  <tbody>\n",
       "    <tr>\n",
       "      <th>0</th>\n",
       "      <td>2019</td>\n",
       "      <td>0.030064</td>\n",
       "      <td>0.969936</td>\n",
       "      <td>0.440655</td>\n",
       "    </tr>\n",
       "    <tr>\n",
       "      <th>1</th>\n",
       "      <td>2020</td>\n",
       "      <td>0.024499</td>\n",
       "      <td>0.975501</td>\n",
       "      <td>0.850937</td>\n",
       "    </tr>\n",
       "    <tr>\n",
       "      <th>2</th>\n",
       "      <td>2021</td>\n",
       "      <td>0.029155</td>\n",
       "      <td>0.970845</td>\n",
       "      <td>0.032107</td>\n",
       "    </tr>\n",
       "    <tr>\n",
       "      <th>3</th>\n",
       "      <td>total</td>\n",
       "      <td>0.027906</td>\n",
       "      <td>0.972094</td>\n",
       "      <td>0.771869</td>\n",
       "    </tr>\n",
       "  </tbody>\n",
       "</table>\n",
       "</div>"
      ],
      "text/plain": [
       "    year      mape        FA       rsq\n",
       "0   2019  0.030064  0.969936  0.440655\n",
       "1   2020  0.024499  0.975501  0.850937\n",
       "2   2021  0.029155  0.970845  0.032107\n",
       "3  total  0.027906  0.972094  0.771869"
      ]
     },
     "execution_count": 26,
     "metadata": {},
     "output_type": "execute_result"
    }
   ],
   "source": [
    "hf.get_metrics(rebuild_factor_df(media_model, betas_dict, fit_result_reloop), \n",
    "               col_true = 'sales', col_pred = 'y_pred')"
   ]
  },
  {
   "cell_type": "code",
   "execution_count": null,
   "id": "db7c61ba-08dc-40c4-968f-ce7da8e47eb4",
   "metadata": {},
   "outputs": [],
   "source": []
  },
  {
   "cell_type": "code",
   "execution_count": null,
   "id": "ba6bd25a-6b09-4a56-a174-3dfe59587af0",
   "metadata": {},
   "outputs": [],
   "source": []
  },
  {
   "cell_type": "code",
   "execution_count": 27,
   "id": "18c76a27-5f48-4b4a-8cc6-7f205bb67372",
   "metadata": {},
   "outputs": [],
   "source": [
    "sp_df.to_csv(os.path.join(cfg.DATA_PATH, cfg.INTER_PATH, 'sp_df.csv'))\n",
    "mc_df.to_csv(os.path.join(cfg.DATA_PATH, cfg.INTER_PATH, 'mc_df.csv'))\n",
    "res_non_med.to_csv(os.path.join(cfg.DATA_PATH, cfg.INTER_PATH, 'res_non_med.csv'))\n",
    "output_roi_df.to_csv(os.path.join(cfg.DATA_PATH, cfg.INTER_PATH, 'output_roi_df.csv'))\n",
    "output_cont_df.to_csv(os.path.join(cfg.DATA_PATH, cfg.INTER_PATH, 'output_cont_df.csv'))\n",
    "\n",
    "# upload_to_bucket(GCP_ID + '/intermediate_files/sp_df.csv', getcwd() + INTER_PATH + 'sp_df.csv', bucket_name)\n",
    "# upload_to_bucket(GCP_ID + '/intermediate_files/mc_df.csv', getcwd() + INTER_PATH + 'mc_df.csv', bucket_name)\n",
    "# upload_to_bucket(GCP_ID + '/intermediate_files/res_non_med.csv', getcwd() + INTER_PATH + 'res_non_med.csv',\n",
    "#                  bucket_name)\n",
    "# upload_to_bucket(GCP_ID + '/intermediate_files/output_roi_df.csv', getcwd() + INTER_PATH + 'output_roi_df.csv',\n",
    "#                  bucket_name)\n",
    "# upload_to_bucket(GCP_ID + '/intermediate_files/output_cont_df.csv', getcwd() + INTER_PATH + 'output_cont_df.csv',\n",
    "#                  bucket_name)"
   ]
  },
  {
   "cell_type": "markdown",
   "id": "1f6c7560-a3b2-4ba1-a762-5a5bc1bc9334",
   "metadata": {},
   "source": [
    "# Saturation models"
   ]
  },
  {
   "cell_type": "code",
   "execution_count": 28,
   "id": "9785420d-d823-4421-bc2b-7f6af1e52363",
   "metadata": {
    "scrolled": true,
    "tags": []
   },
   "outputs": [
    {
     "name": "stdout",
     "output_type": "stream",
     "text": [
      "media_metrics_mc_df\n",
      "     year      mape        FA       rsq\n",
      "0   2019  0.026286  0.973714  0.888707\n",
      "1   2020  0.022165  0.977835  0.965899\n",
      "2   2021  0.028854  0.971146  0.777377\n",
      "3  total  0.025768  0.974232  0.950115\n",
      "Compution for channel: amb\n"
     ]
    },
    {
     "name": "stderr",
     "output_type": "stream",
     "text": [
      "Multiprocess sampling (8 chains in 4 jobs)\n",
      "NUTS: [noise_var, beta]\n"
     ]
    },
    {
     "data": {
      "text/html": [
       "\n",
       "<style>\n",
       "    /* Turns off some styling */\n",
       "    progress {\n",
       "        /* gets rid of default border in Firefox and Opera. */\n",
       "        border: none;\n",
       "        /* Needs to be in here for Safari polyfill so background images work as expected. */\n",
       "        background-size: auto;\n",
       "    }\n",
       "    .progress-bar-interrupted, .progress-bar-interrupted::-webkit-progress-bar {\n",
       "        background: #F44336;\n",
       "    }\n",
       "</style>\n"
      ],
      "text/plain": [
       "<IPython.core.display.HTML object>"
      ]
     },
     "metadata": {},
     "output_type": "display_data"
    },
    {
     "data": {
      "text/html": [
       "\n",
       "    <div>\n",
       "      <progress value='24000' class='' max='24000' style='width:300px; height:20px; vertical-align: middle;'></progress>\n",
       "      100.00% [24000/24000 00:04<00:00 Sampling 8 chains, 0 divergences]\n",
       "    </div>\n",
       "    "
      ],
      "text/plain": [
       "<IPython.core.display.HTML object>"
      ]
     },
     "metadata": {},
     "output_type": "display_data"
    },
    {
     "name": "stderr",
     "output_type": "stream",
     "text": [
      "Sampling 8 chains for 500 tune and 2_500 draw iterations (4_000 + 20_000 draws total) took 5 seconds.\n"
     ]
    },
    {
     "data": {
      "text/html": [
       "\n",
       "<style>\n",
       "    /* Turns off some styling */\n",
       "    progress {\n",
       "        /* gets rid of default border in Firefox and Opera. */\n",
       "        border: none;\n",
       "        /* Needs to be in here for Safari polyfill so background images work as expected. */\n",
       "        background-size: auto;\n",
       "    }\n",
       "    .progress-bar-interrupted, .progress-bar-interrupted::-webkit-progress-bar {\n",
       "        background: #F44336;\n",
       "    }\n",
       "</style>\n"
      ],
      "text/plain": [
       "<IPython.core.display.HTML object>"
      ]
     },
     "metadata": {},
     "output_type": "display_data"
    },
    {
     "data": {
      "text/html": [
       "\n",
       "    <div>\n",
       "      <progress value='20000' class='' max='20000' style='width:300px; height:20px; vertical-align: middle;'></progress>\n",
       "      100.00% [20000/20000 00:12<00:00]\n",
       "    </div>\n",
       "    "
      ],
      "text/plain": [
       "<IPython.core.display.HTML object>"
      ]
     },
     "metadata": {},
     "output_type": "display_data"
    },
    {
     "name": "stderr",
     "output_type": "stream",
     "text": [
      "/home/hakon/.local/lib/python3.8/site-packages/arviz/data/io_pymc3_3x.py:98: FutureWarning: Using `from_pymc3` without the model will be deprecated in a future release. Not using the model will return less accurate and less useful results. Make sure you use the model argument or call from_pymc3 within a model context.\n",
      "  warnings.warn(\n",
      "/home/hakon/.local/lib/python3.8/site-packages/arviz/stats/stats.py:1048: RuntimeWarning: overflow encountered in exp\n",
      "  weights = 1 / np.exp(len_scale - len_scale[:, None]).sum(axis=1)\n",
      "/home/hakon/.local/lib/python3.8/site-packages/arviz/stats/stats.py:811: UserWarning: Estimated shape parameter of Pareto distribution is greater than 0.7 for one or more samples. You should consider using a more robust model, this is because importance sampling is less likely to work well if the marginal posterior and LOO posterior are very different. This is more likely to happen with a non-robust model and highly influential observations.\n",
      "  warnings.warn(\n",
      "/home/hakon/.local/lib/python3.8/site-packages/arviz/data/io_pymc3_3x.py:98: FutureWarning: Using `from_pymc3` without the model will be deprecated in a future release. Not using the model will return less accurate and less useful results. Make sure you use the model argument or call from_pymc3 within a model context.\n",
      "  warnings.warn(\n",
      "/home/hakon/.local/lib/python3.8/site-packages/arviz/stats/stats.py:1635: UserWarning: For one or more samples the posterior variance of the log predictive densities exceeds 0.4. This could be indication of WAIC starting to fail. \n",
      "See http://arxiv.org/abs/1507.04544 for details\n",
      "  warnings.warn(\n"
     ]
    },
    {
     "name": "stdout",
     "output_type": "stream",
     "text": [
      "Compution for channel: amzdsp\n"
     ]
    },
    {
     "name": "stderr",
     "output_type": "stream",
     "text": [
      "Multiprocess sampling (8 chains in 4 jobs)\n",
      "NUTS: [noise_var, beta]\n"
     ]
    },
    {
     "data": {
      "text/html": [
       "\n",
       "<style>\n",
       "    /* Turns off some styling */\n",
       "    progress {\n",
       "        /* gets rid of default border in Firefox and Opera. */\n",
       "        border: none;\n",
       "        /* Needs to be in here for Safari polyfill so background images work as expected. */\n",
       "        background-size: auto;\n",
       "    }\n",
       "    .progress-bar-interrupted, .progress-bar-interrupted::-webkit-progress-bar {\n",
       "        background: #F44336;\n",
       "    }\n",
       "</style>\n"
      ],
      "text/plain": [
       "<IPython.core.display.HTML object>"
      ]
     },
     "metadata": {},
     "output_type": "display_data"
    },
    {
     "data": {
      "text/html": [
       "\n",
       "    <div>\n",
       "      <progress value='24000' class='' max='24000' style='width:300px; height:20px; vertical-align: middle;'></progress>\n",
       "      100.00% [24000/24000 00:04<00:00 Sampling 8 chains, 0 divergences]\n",
       "    </div>\n",
       "    "
      ],
      "text/plain": [
       "<IPython.core.display.HTML object>"
      ]
     },
     "metadata": {},
     "output_type": "display_data"
    },
    {
     "name": "stderr",
     "output_type": "stream",
     "text": [
      "Sampling 8 chains for 500 tune and 2_500 draw iterations (4_000 + 20_000 draws total) took 5 seconds.\n"
     ]
    },
    {
     "data": {
      "text/html": [
       "\n",
       "<style>\n",
       "    /* Turns off some styling */\n",
       "    progress {\n",
       "        /* gets rid of default border in Firefox and Opera. */\n",
       "        border: none;\n",
       "        /* Needs to be in here for Safari polyfill so background images work as expected. */\n",
       "        background-size: auto;\n",
       "    }\n",
       "    .progress-bar-interrupted, .progress-bar-interrupted::-webkit-progress-bar {\n",
       "        background: #F44336;\n",
       "    }\n",
       "</style>\n"
      ],
      "text/plain": [
       "<IPython.core.display.HTML object>"
      ]
     },
     "metadata": {},
     "output_type": "display_data"
    },
    {
     "data": {
      "text/html": [
       "\n",
       "    <div>\n",
       "      <progress value='20000' class='' max='20000' style='width:300px; height:20px; vertical-align: middle;'></progress>\n",
       "      100.00% [20000/20000 00:12<00:00]\n",
       "    </div>\n",
       "    "
      ],
      "text/plain": [
       "<IPython.core.display.HTML object>"
      ]
     },
     "metadata": {},
     "output_type": "display_data"
    },
    {
     "name": "stderr",
     "output_type": "stream",
     "text": [
      "/home/hakon/.local/lib/python3.8/site-packages/arviz/data/io_pymc3_3x.py:98: FutureWarning: Using `from_pymc3` without the model will be deprecated in a future release. Not using the model will return less accurate and less useful results. Make sure you use the model argument or call from_pymc3 within a model context.\n",
      "  warnings.warn(\n",
      "/home/hakon/.local/lib/python3.8/site-packages/arviz/stats/stats.py:811: UserWarning: Estimated shape parameter of Pareto distribution is greater than 0.7 for one or more samples. You should consider using a more robust model, this is because importance sampling is less likely to work well if the marginal posterior and LOO posterior are very different. This is more likely to happen with a non-robust model and highly influential observations.\n",
      "  warnings.warn(\n",
      "/home/hakon/.local/lib/python3.8/site-packages/arviz/data/io_pymc3_3x.py:98: FutureWarning: Using `from_pymc3` without the model will be deprecated in a future release. Not using the model will return less accurate and less useful results. Make sure you use the model argument or call from_pymc3 within a model context.\n",
      "  warnings.warn(\n",
      "/home/hakon/.local/lib/python3.8/site-packages/arviz/stats/stats.py:1635: UserWarning: For one or more samples the posterior variance of the log predictive densities exceeds 0.4. This could be indication of WAIC starting to fail. \n",
      "See http://arxiv.org/abs/1507.04544 for details\n",
      "  warnings.warn(\n"
     ]
    },
    {
     "name": "stdout",
     "output_type": "stream",
     "text": [
      "Compution for channel: amzsearch\n"
     ]
    },
    {
     "name": "stderr",
     "output_type": "stream",
     "text": [
      "Multiprocess sampling (8 chains in 4 jobs)\n",
      "NUTS: [noise_var, beta]\n"
     ]
    },
    {
     "data": {
      "text/html": [
       "\n",
       "<style>\n",
       "    /* Turns off some styling */\n",
       "    progress {\n",
       "        /* gets rid of default border in Firefox and Opera. */\n",
       "        border: none;\n",
       "        /* Needs to be in here for Safari polyfill so background images work as expected. */\n",
       "        background-size: auto;\n",
       "    }\n",
       "    .progress-bar-interrupted, .progress-bar-interrupted::-webkit-progress-bar {\n",
       "        background: #F44336;\n",
       "    }\n",
       "</style>\n"
      ],
      "text/plain": [
       "<IPython.core.display.HTML object>"
      ]
     },
     "metadata": {},
     "output_type": "display_data"
    },
    {
     "data": {
      "text/html": [
       "\n",
       "    <div>\n",
       "      <progress value='24000' class='' max='24000' style='width:300px; height:20px; vertical-align: middle;'></progress>\n",
       "      100.00% [24000/24000 00:03<00:00 Sampling 8 chains, 0 divergences]\n",
       "    </div>\n",
       "    "
      ],
      "text/plain": [
       "<IPython.core.display.HTML object>"
      ]
     },
     "metadata": {},
     "output_type": "display_data"
    },
    {
     "name": "stderr",
     "output_type": "stream",
     "text": [
      "Sampling 8 chains for 500 tune and 2_500 draw iterations (4_000 + 20_000 draws total) took 4 seconds.\n"
     ]
    },
    {
     "data": {
      "text/html": [
       "\n",
       "<style>\n",
       "    /* Turns off some styling */\n",
       "    progress {\n",
       "        /* gets rid of default border in Firefox and Opera. */\n",
       "        border: none;\n",
       "        /* Needs to be in here for Safari polyfill so background images work as expected. */\n",
       "        background-size: auto;\n",
       "    }\n",
       "    .progress-bar-interrupted, .progress-bar-interrupted::-webkit-progress-bar {\n",
       "        background: #F44336;\n",
       "    }\n",
       "</style>\n"
      ],
      "text/plain": [
       "<IPython.core.display.HTML object>"
      ]
     },
     "metadata": {},
     "output_type": "display_data"
    },
    {
     "data": {
      "text/html": [
       "\n",
       "    <div>\n",
       "      <progress value='20000' class='' max='20000' style='width:300px; height:20px; vertical-align: middle;'></progress>\n",
       "      100.00% [20000/20000 00:12<00:00]\n",
       "    </div>\n",
       "    "
      ],
      "text/plain": [
       "<IPython.core.display.HTML object>"
      ]
     },
     "metadata": {},
     "output_type": "display_data"
    },
    {
     "name": "stderr",
     "output_type": "stream",
     "text": [
      "/home/hakon/.local/lib/python3.8/site-packages/arviz/data/io_pymc3_3x.py:98: FutureWarning: Using `from_pymc3` without the model will be deprecated in a future release. Not using the model will return less accurate and less useful results. Make sure you use the model argument or call from_pymc3 within a model context.\n",
      "  warnings.warn(\n",
      "/home/hakon/.local/lib/python3.8/site-packages/arviz/data/io_pymc3_3x.py:98: FutureWarning: Using `from_pymc3` without the model will be deprecated in a future release. Not using the model will return less accurate and less useful results. Make sure you use the model argument or call from_pymc3 within a model context.\n",
      "  warnings.warn(\n",
      "/home/hakon/.local/lib/python3.8/site-packages/arviz/stats/stats.py:1635: UserWarning: For one or more samples the posterior variance of the log predictive densities exceeds 0.4. This could be indication of WAIC starting to fail. \n",
      "See http://arxiv.org/abs/1507.04544 for details\n",
      "  warnings.warn(\n"
     ]
    },
    {
     "name": "stdout",
     "output_type": "stream",
     "text": [
      "Compution for channel: ctv\n"
     ]
    },
    {
     "name": "stderr",
     "output_type": "stream",
     "text": [
      "Multiprocess sampling (8 chains in 4 jobs)\n",
      "NUTS: [noise_var, beta]\n"
     ]
    },
    {
     "data": {
      "text/html": [
       "\n",
       "<style>\n",
       "    /* Turns off some styling */\n",
       "    progress {\n",
       "        /* gets rid of default border in Firefox and Opera. */\n",
       "        border: none;\n",
       "        /* Needs to be in here for Safari polyfill so background images work as expected. */\n",
       "        background-size: auto;\n",
       "    }\n",
       "    .progress-bar-interrupted, .progress-bar-interrupted::-webkit-progress-bar {\n",
       "        background: #F44336;\n",
       "    }\n",
       "</style>\n"
      ],
      "text/plain": [
       "<IPython.core.display.HTML object>"
      ]
     },
     "metadata": {},
     "output_type": "display_data"
    },
    {
     "data": {
      "text/html": [
       "\n",
       "    <div>\n",
       "      <progress value='24000' class='' max='24000' style='width:300px; height:20px; vertical-align: middle;'></progress>\n",
       "      100.00% [24000/24000 00:05<00:00 Sampling 8 chains, 0 divergences]\n",
       "    </div>\n",
       "    "
      ],
      "text/plain": [
       "<IPython.core.display.HTML object>"
      ]
     },
     "metadata": {},
     "output_type": "display_data"
    },
    {
     "name": "stderr",
     "output_type": "stream",
     "text": [
      "Sampling 8 chains for 500 tune and 2_500 draw iterations (4_000 + 20_000 draws total) took 5 seconds.\n"
     ]
    },
    {
     "data": {
      "text/html": [
       "\n",
       "<style>\n",
       "    /* Turns off some styling */\n",
       "    progress {\n",
       "        /* gets rid of default border in Firefox and Opera. */\n",
       "        border: none;\n",
       "        /* Needs to be in here for Safari polyfill so background images work as expected. */\n",
       "        background-size: auto;\n",
       "    }\n",
       "    .progress-bar-interrupted, .progress-bar-interrupted::-webkit-progress-bar {\n",
       "        background: #F44336;\n",
       "    }\n",
       "</style>\n"
      ],
      "text/plain": [
       "<IPython.core.display.HTML object>"
      ]
     },
     "metadata": {},
     "output_type": "display_data"
    },
    {
     "data": {
      "text/html": [
       "\n",
       "    <div>\n",
       "      <progress value='20000' class='' max='20000' style='width:300px; height:20px; vertical-align: middle;'></progress>\n",
       "      100.00% [20000/20000 00:12<00:00]\n",
       "    </div>\n",
       "    "
      ],
      "text/plain": [
       "<IPython.core.display.HTML object>"
      ]
     },
     "metadata": {},
     "output_type": "display_data"
    },
    {
     "name": "stderr",
     "output_type": "stream",
     "text": [
      "/home/hakon/.local/lib/python3.8/site-packages/arviz/data/io_pymc3_3x.py:98: FutureWarning: Using `from_pymc3` without the model will be deprecated in a future release. Not using the model will return less accurate and less useful results. Make sure you use the model argument or call from_pymc3 within a model context.\n",
      "  warnings.warn(\n",
      "/home/hakon/.local/lib/python3.8/site-packages/arviz/stats/stats.py:811: UserWarning: Estimated shape parameter of Pareto distribution is greater than 0.7 for one or more samples. You should consider using a more robust model, this is because importance sampling is less likely to work well if the marginal posterior and LOO posterior are very different. This is more likely to happen with a non-robust model and highly influential observations.\n",
      "  warnings.warn(\n",
      "/home/hakon/.local/lib/python3.8/site-packages/arviz/data/io_pymc3_3x.py:98: FutureWarning: Using `from_pymc3` without the model will be deprecated in a future release. Not using the model will return less accurate and less useful results. Make sure you use the model argument or call from_pymc3 within a model context.\n",
      "  warnings.warn(\n",
      "/home/hakon/.local/lib/python3.8/site-packages/arviz/stats/stats.py:1635: UserWarning: For one or more samples the posterior variance of the log predictive densities exceeds 0.4. This could be indication of WAIC starting to fail. \n",
      "See http://arxiv.org/abs/1507.04544 for details\n",
      "  warnings.warn(\n"
     ]
    },
    {
     "name": "stdout",
     "output_type": "stream",
     "text": [
      "Compution for channel: fb\n"
     ]
    },
    {
     "name": "stderr",
     "output_type": "stream",
     "text": [
      "Multiprocess sampling (8 chains in 4 jobs)\n",
      "NUTS: [noise_var, beta]\n"
     ]
    },
    {
     "data": {
      "text/html": [
       "\n",
       "<style>\n",
       "    /* Turns off some styling */\n",
       "    progress {\n",
       "        /* gets rid of default border in Firefox and Opera. */\n",
       "        border: none;\n",
       "        /* Needs to be in here for Safari polyfill so background images work as expected. */\n",
       "        background-size: auto;\n",
       "    }\n",
       "    .progress-bar-interrupted, .progress-bar-interrupted::-webkit-progress-bar {\n",
       "        background: #F44336;\n",
       "    }\n",
       "</style>\n"
      ],
      "text/plain": [
       "<IPython.core.display.HTML object>"
      ]
     },
     "metadata": {},
     "output_type": "display_data"
    },
    {
     "data": {
      "text/html": [
       "\n",
       "    <div>\n",
       "      <progress value='24000' class='' max='24000' style='width:300px; height:20px; vertical-align: middle;'></progress>\n",
       "      100.00% [24000/24000 00:04<00:00 Sampling 8 chains, 0 divergences]\n",
       "    </div>\n",
       "    "
      ],
      "text/plain": [
       "<IPython.core.display.HTML object>"
      ]
     },
     "metadata": {},
     "output_type": "display_data"
    },
    {
     "name": "stderr",
     "output_type": "stream",
     "text": [
      "Sampling 8 chains for 500 tune and 2_500 draw iterations (4_000 + 20_000 draws total) took 4 seconds.\n"
     ]
    },
    {
     "data": {
      "text/html": [
       "\n",
       "<style>\n",
       "    /* Turns off some styling */\n",
       "    progress {\n",
       "        /* gets rid of default border in Firefox and Opera. */\n",
       "        border: none;\n",
       "        /* Needs to be in here for Safari polyfill so background images work as expected. */\n",
       "        background-size: auto;\n",
       "    }\n",
       "    .progress-bar-interrupted, .progress-bar-interrupted::-webkit-progress-bar {\n",
       "        background: #F44336;\n",
       "    }\n",
       "</style>\n"
      ],
      "text/plain": [
       "<IPython.core.display.HTML object>"
      ]
     },
     "metadata": {},
     "output_type": "display_data"
    },
    {
     "data": {
      "text/html": [
       "\n",
       "    <div>\n",
       "      <progress value='20000' class='' max='20000' style='width:300px; height:20px; vertical-align: middle;'></progress>\n",
       "      100.00% [20000/20000 00:12<00:00]\n",
       "    </div>\n",
       "    "
      ],
      "text/plain": [
       "<IPython.core.display.HTML object>"
      ]
     },
     "metadata": {},
     "output_type": "display_data"
    },
    {
     "name": "stderr",
     "output_type": "stream",
     "text": [
      "/home/hakon/.local/lib/python3.8/site-packages/arviz/data/io_pymc3_3x.py:98: FutureWarning: Using `from_pymc3` without the model will be deprecated in a future release. Not using the model will return less accurate and less useful results. Make sure you use the model argument or call from_pymc3 within a model context.\n",
      "  warnings.warn(\n",
      "/home/hakon/.local/lib/python3.8/site-packages/arviz/data/io_pymc3_3x.py:98: FutureWarning: Using `from_pymc3` without the model will be deprecated in a future release. Not using the model will return less accurate and less useful results. Make sure you use the model argument or call from_pymc3 within a model context.\n",
      "  warnings.warn(\n",
      "/home/hakon/.local/lib/python3.8/site-packages/arviz/stats/stats.py:1635: UserWarning: For one or more samples the posterior variance of the log predictive densities exceeds 0.4. This could be indication of WAIC starting to fail. \n",
      "See http://arxiv.org/abs/1507.04544 for details\n",
      "  warnings.warn(\n"
     ]
    },
    {
     "name": "stdout",
     "output_type": "stream",
     "text": [
      "Compution for channel: fep\n"
     ]
    },
    {
     "name": "stderr",
     "output_type": "stream",
     "text": [
      "Multiprocess sampling (8 chains in 4 jobs)\n",
      "NUTS: [noise_var, beta]\n"
     ]
    },
    {
     "data": {
      "text/html": [
       "\n",
       "<style>\n",
       "    /* Turns off some styling */\n",
       "    progress {\n",
       "        /* gets rid of default border in Firefox and Opera. */\n",
       "        border: none;\n",
       "        /* Needs to be in here for Safari polyfill so background images work as expected. */\n",
       "        background-size: auto;\n",
       "    }\n",
       "    .progress-bar-interrupted, .progress-bar-interrupted::-webkit-progress-bar {\n",
       "        background: #F44336;\n",
       "    }\n",
       "</style>\n"
      ],
      "text/plain": [
       "<IPython.core.display.HTML object>"
      ]
     },
     "metadata": {},
     "output_type": "display_data"
    },
    {
     "data": {
      "text/html": [
       "\n",
       "    <div>\n",
       "      <progress value='24000' class='' max='24000' style='width:300px; height:20px; vertical-align: middle;'></progress>\n",
       "      100.00% [24000/24000 00:04<00:00 Sampling 8 chains, 0 divergences]\n",
       "    </div>\n",
       "    "
      ],
      "text/plain": [
       "<IPython.core.display.HTML object>"
      ]
     },
     "metadata": {},
     "output_type": "display_data"
    },
    {
     "name": "stderr",
     "output_type": "stream",
     "text": [
      "Sampling 8 chains for 500 tune and 2_500 draw iterations (4_000 + 20_000 draws total) took 5 seconds.\n"
     ]
    },
    {
     "data": {
      "text/html": [
       "\n",
       "<style>\n",
       "    /* Turns off some styling */\n",
       "    progress {\n",
       "        /* gets rid of default border in Firefox and Opera. */\n",
       "        border: none;\n",
       "        /* Needs to be in here for Safari polyfill so background images work as expected. */\n",
       "        background-size: auto;\n",
       "    }\n",
       "    .progress-bar-interrupted, .progress-bar-interrupted::-webkit-progress-bar {\n",
       "        background: #F44336;\n",
       "    }\n",
       "</style>\n"
      ],
      "text/plain": [
       "<IPython.core.display.HTML object>"
      ]
     },
     "metadata": {},
     "output_type": "display_data"
    },
    {
     "data": {
      "text/html": [
       "\n",
       "    <div>\n",
       "      <progress value='20000' class='' max='20000' style='width:300px; height:20px; vertical-align: middle;'></progress>\n",
       "      100.00% [20000/20000 00:12<00:00]\n",
       "    </div>\n",
       "    "
      ],
      "text/plain": [
       "<IPython.core.display.HTML object>"
      ]
     },
     "metadata": {},
     "output_type": "display_data"
    },
    {
     "name": "stderr",
     "output_type": "stream",
     "text": [
      "/home/hakon/.local/lib/python3.8/site-packages/arviz/data/io_pymc3_3x.py:98: FutureWarning: Using `from_pymc3` without the model will be deprecated in a future release. Not using the model will return less accurate and less useful results. Make sure you use the model argument or call from_pymc3 within a model context.\n",
      "  warnings.warn(\n",
      "/home/hakon/.local/lib/python3.8/site-packages/arviz/stats/stats.py:811: UserWarning: Estimated shape parameter of Pareto distribution is greater than 0.7 for one or more samples. You should consider using a more robust model, this is because importance sampling is less likely to work well if the marginal posterior and LOO posterior are very different. This is more likely to happen with a non-robust model and highly influential observations.\n",
      "  warnings.warn(\n",
      "/home/hakon/.local/lib/python3.8/site-packages/arviz/data/io_pymc3_3x.py:98: FutureWarning: Using `from_pymc3` without the model will be deprecated in a future release. Not using the model will return less accurate and less useful results. Make sure you use the model argument or call from_pymc3 within a model context.\n",
      "  warnings.warn(\n",
      "/home/hakon/.local/lib/python3.8/site-packages/arviz/stats/stats.py:1635: UserWarning: For one or more samples the posterior variance of the log predictive densities exceeds 0.4. This could be indication of WAIC starting to fail. \n",
      "See http://arxiv.org/abs/1507.04544 for details\n",
      "  warnings.warn(\n"
     ]
    },
    {
     "name": "stdout",
     "output_type": "stream",
     "text": [
      "Compution for channel: fluency\n"
     ]
    },
    {
     "name": "stderr",
     "output_type": "stream",
     "text": [
      "Multiprocess sampling (8 chains in 4 jobs)\n",
      "NUTS: [noise_var, beta]\n"
     ]
    },
    {
     "data": {
      "text/html": [
       "\n",
       "<style>\n",
       "    /* Turns off some styling */\n",
       "    progress {\n",
       "        /* gets rid of default border in Firefox and Opera. */\n",
       "        border: none;\n",
       "        /* Needs to be in here for Safari polyfill so background images work as expected. */\n",
       "        background-size: auto;\n",
       "    }\n",
       "    .progress-bar-interrupted, .progress-bar-interrupted::-webkit-progress-bar {\n",
       "        background: #F44336;\n",
       "    }\n",
       "</style>\n"
      ],
      "text/plain": [
       "<IPython.core.display.HTML object>"
      ]
     },
     "metadata": {},
     "output_type": "display_data"
    },
    {
     "data": {
      "text/html": [
       "\n",
       "    <div>\n",
       "      <progress value='24000' class='' max='24000' style='width:300px; height:20px; vertical-align: middle;'></progress>\n",
       "      100.00% [24000/24000 00:04<00:00 Sampling 8 chains, 0 divergences]\n",
       "    </div>\n",
       "    "
      ],
      "text/plain": [
       "<IPython.core.display.HTML object>"
      ]
     },
     "metadata": {},
     "output_type": "display_data"
    },
    {
     "name": "stderr",
     "output_type": "stream",
     "text": [
      "Sampling 8 chains for 500 tune and 2_500 draw iterations (4_000 + 20_000 draws total) took 5 seconds.\n"
     ]
    },
    {
     "data": {
      "text/html": [
       "\n",
       "<style>\n",
       "    /* Turns off some styling */\n",
       "    progress {\n",
       "        /* gets rid of default border in Firefox and Opera. */\n",
       "        border: none;\n",
       "        /* Needs to be in here for Safari polyfill so background images work as expected. */\n",
       "        background-size: auto;\n",
       "    }\n",
       "    .progress-bar-interrupted, .progress-bar-interrupted::-webkit-progress-bar {\n",
       "        background: #F44336;\n",
       "    }\n",
       "</style>\n"
      ],
      "text/plain": [
       "<IPython.core.display.HTML object>"
      ]
     },
     "metadata": {},
     "output_type": "display_data"
    },
    {
     "data": {
      "text/html": [
       "\n",
       "    <div>\n",
       "      <progress value='20000' class='' max='20000' style='width:300px; height:20px; vertical-align: middle;'></progress>\n",
       "      100.00% [20000/20000 00:12<00:00]\n",
       "    </div>\n",
       "    "
      ],
      "text/plain": [
       "<IPython.core.display.HTML object>"
      ]
     },
     "metadata": {},
     "output_type": "display_data"
    },
    {
     "name": "stderr",
     "output_type": "stream",
     "text": [
      "/home/hakon/.local/lib/python3.8/site-packages/arviz/data/io_pymc3_3x.py:98: FutureWarning: Using `from_pymc3` without the model will be deprecated in a future release. Not using the model will return less accurate and less useful results. Make sure you use the model argument or call from_pymc3 within a model context.\n",
      "  warnings.warn(\n",
      "/home/hakon/.local/lib/python3.8/site-packages/arviz/stats/stats.py:811: UserWarning: Estimated shape parameter of Pareto distribution is greater than 0.7 for one or more samples. You should consider using a more robust model, this is because importance sampling is less likely to work well if the marginal posterior and LOO posterior are very different. This is more likely to happen with a non-robust model and highly influential observations.\n",
      "  warnings.warn(\n",
      "/home/hakon/.local/lib/python3.8/site-packages/arviz/data/io_pymc3_3x.py:98: FutureWarning: Using `from_pymc3` without the model will be deprecated in a future release. Not using the model will return less accurate and less useful results. Make sure you use the model argument or call from_pymc3 within a model context.\n",
      "  warnings.warn(\n",
      "/home/hakon/.local/lib/python3.8/site-packages/arviz/stats/stats.py:1635: UserWarning: For one or more samples the posterior variance of the log predictive densities exceeds 0.4. This could be indication of WAIC starting to fail. \n",
      "See http://arxiv.org/abs/1507.04544 for details\n",
      "  warnings.warn(\n"
     ]
    },
    {
     "name": "stdout",
     "output_type": "stream",
     "text": [
      "Compution for channel: gads\n"
     ]
    },
    {
     "name": "stderr",
     "output_type": "stream",
     "text": [
      "Multiprocess sampling (8 chains in 4 jobs)\n",
      "NUTS: [noise_var, beta]\n"
     ]
    },
    {
     "data": {
      "text/html": [
       "\n",
       "<style>\n",
       "    /* Turns off some styling */\n",
       "    progress {\n",
       "        /* gets rid of default border in Firefox and Opera. */\n",
       "        border: none;\n",
       "        /* Needs to be in here for Safari polyfill so background images work as expected. */\n",
       "        background-size: auto;\n",
       "    }\n",
       "    .progress-bar-interrupted, .progress-bar-interrupted::-webkit-progress-bar {\n",
       "        background: #F44336;\n",
       "    }\n",
       "</style>\n"
      ],
      "text/plain": [
       "<IPython.core.display.HTML object>"
      ]
     },
     "metadata": {},
     "output_type": "display_data"
    },
    {
     "data": {
      "text/html": [
       "\n",
       "    <div>\n",
       "      <progress value='24000' class='' max='24000' style='width:300px; height:20px; vertical-align: middle;'></progress>\n",
       "      100.00% [24000/24000 00:04<00:00 Sampling 8 chains, 0 divergences]\n",
       "    </div>\n",
       "    "
      ],
      "text/plain": [
       "<IPython.core.display.HTML object>"
      ]
     },
     "metadata": {},
     "output_type": "display_data"
    },
    {
     "name": "stderr",
     "output_type": "stream",
     "text": [
      "Sampling 8 chains for 500 tune and 2_500 draw iterations (4_000 + 20_000 draws total) took 4 seconds.\n"
     ]
    },
    {
     "data": {
      "text/html": [
       "\n",
       "<style>\n",
       "    /* Turns off some styling */\n",
       "    progress {\n",
       "        /* gets rid of default border in Firefox and Opera. */\n",
       "        border: none;\n",
       "        /* Needs to be in here for Safari polyfill so background images work as expected. */\n",
       "        background-size: auto;\n",
       "    }\n",
       "    .progress-bar-interrupted, .progress-bar-interrupted::-webkit-progress-bar {\n",
       "        background: #F44336;\n",
       "    }\n",
       "</style>\n"
      ],
      "text/plain": [
       "<IPython.core.display.HTML object>"
      ]
     },
     "metadata": {},
     "output_type": "display_data"
    },
    {
     "data": {
      "text/html": [
       "\n",
       "    <div>\n",
       "      <progress value='20000' class='' max='20000' style='width:300px; height:20px; vertical-align: middle;'></progress>\n",
       "      100.00% [20000/20000 00:12<00:00]\n",
       "    </div>\n",
       "    "
      ],
      "text/plain": [
       "<IPython.core.display.HTML object>"
      ]
     },
     "metadata": {},
     "output_type": "display_data"
    },
    {
     "name": "stderr",
     "output_type": "stream",
     "text": [
      "/home/hakon/.local/lib/python3.8/site-packages/arviz/data/io_pymc3_3x.py:98: FutureWarning: Using `from_pymc3` without the model will be deprecated in a future release. Not using the model will return less accurate and less useful results. Make sure you use the model argument or call from_pymc3 within a model context.\n",
      "  warnings.warn(\n",
      "/home/hakon/.local/lib/python3.8/site-packages/arviz/stats/stats.py:811: UserWarning: Estimated shape parameter of Pareto distribution is greater than 0.7 for one or more samples. You should consider using a more robust model, this is because importance sampling is less likely to work well if the marginal posterior and LOO posterior are very different. This is more likely to happen with a non-robust model and highly influential observations.\n",
      "  warnings.warn(\n",
      "/home/hakon/.local/lib/python3.8/site-packages/arviz/data/io_pymc3_3x.py:98: FutureWarning: Using `from_pymc3` without the model will be deprecated in a future release. Not using the model will return less accurate and less useful results. Make sure you use the model argument or call from_pymc3 within a model context.\n",
      "  warnings.warn(\n",
      "/home/hakon/.local/lib/python3.8/site-packages/arviz/stats/stats.py:1635: UserWarning: For one or more samples the posterior variance of the log predictive densities exceeds 0.4. This could be indication of WAIC starting to fail. \n",
      "See http://arxiv.org/abs/1507.04544 for details\n",
      "  warnings.warn(\n"
     ]
    },
    {
     "name": "stdout",
     "output_type": "stream",
     "text": [
      "Compution for channel: hearst\n"
     ]
    },
    {
     "name": "stderr",
     "output_type": "stream",
     "text": [
      "Multiprocess sampling (8 chains in 4 jobs)\n",
      "NUTS: [noise_var, beta]\n"
     ]
    },
    {
     "data": {
      "text/html": [
       "\n",
       "<style>\n",
       "    /* Turns off some styling */\n",
       "    progress {\n",
       "        /* gets rid of default border in Firefox and Opera. */\n",
       "        border: none;\n",
       "        /* Needs to be in here for Safari polyfill so background images work as expected. */\n",
       "        background-size: auto;\n",
       "    }\n",
       "    .progress-bar-interrupted, .progress-bar-interrupted::-webkit-progress-bar {\n",
       "        background: #F44336;\n",
       "    }\n",
       "</style>\n"
      ],
      "text/plain": [
       "<IPython.core.display.HTML object>"
      ]
     },
     "metadata": {},
     "output_type": "display_data"
    },
    {
     "data": {
      "text/html": [
       "\n",
       "    <div>\n",
       "      <progress value='24000' class='' max='24000' style='width:300px; height:20px; vertical-align: middle;'></progress>\n",
       "      100.00% [24000/24000 00:04<00:00 Sampling 8 chains, 0 divergences]\n",
       "    </div>\n",
       "    "
      ],
      "text/plain": [
       "<IPython.core.display.HTML object>"
      ]
     },
     "metadata": {},
     "output_type": "display_data"
    },
    {
     "name": "stderr",
     "output_type": "stream",
     "text": [
      "Sampling 8 chains for 500 tune and 2_500 draw iterations (4_000 + 20_000 draws total) took 4 seconds.\n"
     ]
    },
    {
     "data": {
      "text/html": [
       "\n",
       "<style>\n",
       "    /* Turns off some styling */\n",
       "    progress {\n",
       "        /* gets rid of default border in Firefox and Opera. */\n",
       "        border: none;\n",
       "        /* Needs to be in here for Safari polyfill so background images work as expected. */\n",
       "        background-size: auto;\n",
       "    }\n",
       "    .progress-bar-interrupted, .progress-bar-interrupted::-webkit-progress-bar {\n",
       "        background: #F44336;\n",
       "    }\n",
       "</style>\n"
      ],
      "text/plain": [
       "<IPython.core.display.HTML object>"
      ]
     },
     "metadata": {},
     "output_type": "display_data"
    },
    {
     "data": {
      "text/html": [
       "\n",
       "    <div>\n",
       "      <progress value='20000' class='' max='20000' style='width:300px; height:20px; vertical-align: middle;'></progress>\n",
       "      100.00% [20000/20000 00:12<00:00]\n",
       "    </div>\n",
       "    "
      ],
      "text/plain": [
       "<IPython.core.display.HTML object>"
      ]
     },
     "metadata": {},
     "output_type": "display_data"
    },
    {
     "name": "stderr",
     "output_type": "stream",
     "text": [
      "/home/hakon/.local/lib/python3.8/site-packages/arviz/data/io_pymc3_3x.py:98: FutureWarning: Using `from_pymc3` without the model will be deprecated in a future release. Not using the model will return less accurate and less useful results. Make sure you use the model argument or call from_pymc3 within a model context.\n",
      "  warnings.warn(\n",
      "/home/hakon/.local/lib/python3.8/site-packages/arviz/stats/stats.py:811: UserWarning: Estimated shape parameter of Pareto distribution is greater than 0.7 for one or more samples. You should consider using a more robust model, this is because importance sampling is less likely to work well if the marginal posterior and LOO posterior are very different. This is more likely to happen with a non-robust model and highly influential observations.\n",
      "  warnings.warn(\n",
      "/home/hakon/.local/lib/python3.8/site-packages/arviz/data/io_pymc3_3x.py:98: FutureWarning: Using `from_pymc3` without the model will be deprecated in a future release. Not using the model will return less accurate and less useful results. Make sure you use the model argument or call from_pymc3 within a model context.\n",
      "  warnings.warn(\n",
      "/home/hakon/.local/lib/python3.8/site-packages/arviz/stats/stats.py:1635: UserWarning: For one or more samples the posterior variance of the log predictive densities exceeds 0.4. This could be indication of WAIC starting to fail. \n",
      "See http://arxiv.org/abs/1507.04544 for details\n",
      "  warnings.warn(\n"
     ]
    },
    {
     "name": "stdout",
     "output_type": "stream",
     "text": [
      "Compution for channel: insta\n"
     ]
    },
    {
     "name": "stderr",
     "output_type": "stream",
     "text": [
      "Multiprocess sampling (8 chains in 4 jobs)\n",
      "NUTS: [noise_var, beta]\n"
     ]
    },
    {
     "data": {
      "text/html": [
       "\n",
       "<style>\n",
       "    /* Turns off some styling */\n",
       "    progress {\n",
       "        /* gets rid of default border in Firefox and Opera. */\n",
       "        border: none;\n",
       "        /* Needs to be in here for Safari polyfill so background images work as expected. */\n",
       "        background-size: auto;\n",
       "    }\n",
       "    .progress-bar-interrupted, .progress-bar-interrupted::-webkit-progress-bar {\n",
       "        background: #F44336;\n",
       "    }\n",
       "</style>\n"
      ],
      "text/plain": [
       "<IPython.core.display.HTML object>"
      ]
     },
     "metadata": {},
     "output_type": "display_data"
    },
    {
     "data": {
      "text/html": [
       "\n",
       "    <div>\n",
       "      <progress value='24000' class='' max='24000' style='width:300px; height:20px; vertical-align: middle;'></progress>\n",
       "      100.00% [24000/24000 00:04<00:00 Sampling 8 chains, 0 divergences]\n",
       "    </div>\n",
       "    "
      ],
      "text/plain": [
       "<IPython.core.display.HTML object>"
      ]
     },
     "metadata": {},
     "output_type": "display_data"
    },
    {
     "name": "stderr",
     "output_type": "stream",
     "text": [
      "Sampling 8 chains for 500 tune and 2_500 draw iterations (4_000 + 20_000 draws total) took 4 seconds.\n"
     ]
    },
    {
     "data": {
      "text/html": [
       "\n",
       "<style>\n",
       "    /* Turns off some styling */\n",
       "    progress {\n",
       "        /* gets rid of default border in Firefox and Opera. */\n",
       "        border: none;\n",
       "        /* Needs to be in here for Safari polyfill so background images work as expected. */\n",
       "        background-size: auto;\n",
       "    }\n",
       "    .progress-bar-interrupted, .progress-bar-interrupted::-webkit-progress-bar {\n",
       "        background: #F44336;\n",
       "    }\n",
       "</style>\n"
      ],
      "text/plain": [
       "<IPython.core.display.HTML object>"
      ]
     },
     "metadata": {},
     "output_type": "display_data"
    },
    {
     "data": {
      "text/html": [
       "\n",
       "    <div>\n",
       "      <progress value='20000' class='' max='20000' style='width:300px; height:20px; vertical-align: middle;'></progress>\n",
       "      100.00% [20000/20000 00:12<00:00]\n",
       "    </div>\n",
       "    "
      ],
      "text/plain": [
       "<IPython.core.display.HTML object>"
      ]
     },
     "metadata": {},
     "output_type": "display_data"
    },
    {
     "name": "stderr",
     "output_type": "stream",
     "text": [
      "/home/hakon/.local/lib/python3.8/site-packages/arviz/data/io_pymc3_3x.py:98: FutureWarning: Using `from_pymc3` without the model will be deprecated in a future release. Not using the model will return less accurate and less useful results. Make sure you use the model argument or call from_pymc3 within a model context.\n",
      "  warnings.warn(\n",
      "/home/hakon/.local/lib/python3.8/site-packages/arviz/data/io_pymc3_3x.py:98: FutureWarning: Using `from_pymc3` without the model will be deprecated in a future release. Not using the model will return less accurate and less useful results. Make sure you use the model argument or call from_pymc3 within a model context.\n",
      "  warnings.warn(\n",
      "/home/hakon/.local/lib/python3.8/site-packages/arviz/stats/stats.py:1635: UserWarning: For one or more samples the posterior variance of the log predictive densities exceeds 0.4. This could be indication of WAIC starting to fail. \n",
      "See http://arxiv.org/abs/1507.04544 for details\n",
      "  warnings.warn(\n"
     ]
    },
    {
     "name": "stdout",
     "output_type": "stream",
     "text": [
      "Compution for channel: microads\n"
     ]
    },
    {
     "name": "stderr",
     "output_type": "stream",
     "text": [
      "Multiprocess sampling (8 chains in 4 jobs)\n",
      "NUTS: [noise_var, beta]\n"
     ]
    },
    {
     "data": {
      "text/html": [
       "\n",
       "<style>\n",
       "    /* Turns off some styling */\n",
       "    progress {\n",
       "        /* gets rid of default border in Firefox and Opera. */\n",
       "        border: none;\n",
       "        /* Needs to be in here for Safari polyfill so background images work as expected. */\n",
       "        background-size: auto;\n",
       "    }\n",
       "    .progress-bar-interrupted, .progress-bar-interrupted::-webkit-progress-bar {\n",
       "        background: #F44336;\n",
       "    }\n",
       "</style>\n"
      ],
      "text/plain": [
       "<IPython.core.display.HTML object>"
      ]
     },
     "metadata": {},
     "output_type": "display_data"
    },
    {
     "data": {
      "text/html": [
       "\n",
       "    <div>\n",
       "      <progress value='24000' class='' max='24000' style='width:300px; height:20px; vertical-align: middle;'></progress>\n",
       "      100.00% [24000/24000 00:04<00:00 Sampling 8 chains, 0 divergences]\n",
       "    </div>\n",
       "    "
      ],
      "text/plain": [
       "<IPython.core.display.HTML object>"
      ]
     },
     "metadata": {},
     "output_type": "display_data"
    },
    {
     "name": "stderr",
     "output_type": "stream",
     "text": [
      "Sampling 8 chains for 500 tune and 2_500 draw iterations (4_000 + 20_000 draws total) took 4 seconds.\n"
     ]
    },
    {
     "data": {
      "text/html": [
       "\n",
       "<style>\n",
       "    /* Turns off some styling */\n",
       "    progress {\n",
       "        /* gets rid of default border in Firefox and Opera. */\n",
       "        border: none;\n",
       "        /* Needs to be in here for Safari polyfill so background images work as expected. */\n",
       "        background-size: auto;\n",
       "    }\n",
       "    .progress-bar-interrupted, .progress-bar-interrupted::-webkit-progress-bar {\n",
       "        background: #F44336;\n",
       "    }\n",
       "</style>\n"
      ],
      "text/plain": [
       "<IPython.core.display.HTML object>"
      ]
     },
     "metadata": {},
     "output_type": "display_data"
    },
    {
     "data": {
      "text/html": [
       "\n",
       "    <div>\n",
       "      <progress value='20000' class='' max='20000' style='width:300px; height:20px; vertical-align: middle;'></progress>\n",
       "      100.00% [20000/20000 00:12<00:00]\n",
       "    </div>\n",
       "    "
      ],
      "text/plain": [
       "<IPython.core.display.HTML object>"
      ]
     },
     "metadata": {},
     "output_type": "display_data"
    },
    {
     "name": "stderr",
     "output_type": "stream",
     "text": [
      "/home/hakon/.local/lib/python3.8/site-packages/arviz/data/io_pymc3_3x.py:98: FutureWarning: Using `from_pymc3` without the model will be deprecated in a future release. Not using the model will return less accurate and less useful results. Make sure you use the model argument or call from_pymc3 within a model context.\n",
      "  warnings.warn(\n",
      "/home/hakon/.local/lib/python3.8/site-packages/arviz/data/io_pymc3_3x.py:98: FutureWarning: Using `from_pymc3` without the model will be deprecated in a future release. Not using the model will return less accurate and less useful results. Make sure you use the model argument or call from_pymc3 within a model context.\n",
      "  warnings.warn(\n"
     ]
    },
    {
     "name": "stdout",
     "output_type": "stream",
     "text": [
      "Compution for channel: oathvrzn\n"
     ]
    },
    {
     "name": "stderr",
     "output_type": "stream",
     "text": [
      "Multiprocess sampling (8 chains in 4 jobs)\n",
      "NUTS: [noise_var, beta]\n"
     ]
    },
    {
     "data": {
      "text/html": [
       "\n",
       "<style>\n",
       "    /* Turns off some styling */\n",
       "    progress {\n",
       "        /* gets rid of default border in Firefox and Opera. */\n",
       "        border: none;\n",
       "        /* Needs to be in here for Safari polyfill so background images work as expected. */\n",
       "        background-size: auto;\n",
       "    }\n",
       "    .progress-bar-interrupted, .progress-bar-interrupted::-webkit-progress-bar {\n",
       "        background: #F44336;\n",
       "    }\n",
       "</style>\n"
      ],
      "text/plain": [
       "<IPython.core.display.HTML object>"
      ]
     },
     "metadata": {},
     "output_type": "display_data"
    },
    {
     "data": {
      "text/html": [
       "\n",
       "    <div>\n",
       "      <progress value='24000' class='' max='24000' style='width:300px; height:20px; vertical-align: middle;'></progress>\n",
       "      100.00% [24000/24000 00:04<00:00 Sampling 8 chains, 0 divergences]\n",
       "    </div>\n",
       "    "
      ],
      "text/plain": [
       "<IPython.core.display.HTML object>"
      ]
     },
     "metadata": {},
     "output_type": "display_data"
    },
    {
     "name": "stderr",
     "output_type": "stream",
     "text": [
      "Sampling 8 chains for 500 tune and 2_500 draw iterations (4_000 + 20_000 draws total) took 5 seconds.\n"
     ]
    },
    {
     "data": {
      "text/html": [
       "\n",
       "<style>\n",
       "    /* Turns off some styling */\n",
       "    progress {\n",
       "        /* gets rid of default border in Firefox and Opera. */\n",
       "        border: none;\n",
       "        /* Needs to be in here for Safari polyfill so background images work as expected. */\n",
       "        background-size: auto;\n",
       "    }\n",
       "    .progress-bar-interrupted, .progress-bar-interrupted::-webkit-progress-bar {\n",
       "        background: #F44336;\n",
       "    }\n",
       "</style>\n"
      ],
      "text/plain": [
       "<IPython.core.display.HTML object>"
      ]
     },
     "metadata": {},
     "output_type": "display_data"
    },
    {
     "data": {
      "text/html": [
       "\n",
       "    <div>\n",
       "      <progress value='20000' class='' max='20000' style='width:300px; height:20px; vertical-align: middle;'></progress>\n",
       "      100.00% [20000/20000 00:12<00:00]\n",
       "    </div>\n",
       "    "
      ],
      "text/plain": [
       "<IPython.core.display.HTML object>"
      ]
     },
     "metadata": {},
     "output_type": "display_data"
    },
    {
     "name": "stderr",
     "output_type": "stream",
     "text": [
      "/home/hakon/.local/lib/python3.8/site-packages/arviz/data/io_pymc3_3x.py:98: FutureWarning: Using `from_pymc3` without the model will be deprecated in a future release. Not using the model will return less accurate and less useful results. Make sure you use the model argument or call from_pymc3 within a model context.\n",
      "  warnings.warn(\n",
      "/home/hakon/.local/lib/python3.8/site-packages/arviz/stats/stats.py:811: UserWarning: Estimated shape parameter of Pareto distribution is greater than 0.7 for one or more samples. You should consider using a more robust model, this is because importance sampling is less likely to work well if the marginal posterior and LOO posterior are very different. This is more likely to happen with a non-robust model and highly influential observations.\n",
      "  warnings.warn(\n",
      "/home/hakon/.local/lib/python3.8/site-packages/arviz/data/io_pymc3_3x.py:98: FutureWarning: Using `from_pymc3` without the model will be deprecated in a future release. Not using the model will return less accurate and less useful results. Make sure you use the model argument or call from_pymc3 within a model context.\n",
      "  warnings.warn(\n",
      "/home/hakon/.local/lib/python3.8/site-packages/arviz/stats/stats.py:1635: UserWarning: For one or more samples the posterior variance of the log predictive densities exceeds 0.4. This could be indication of WAIC starting to fail. \n",
      "See http://arxiv.org/abs/1507.04544 for details\n",
      "  warnings.warn(\n"
     ]
    },
    {
     "name": "stdout",
     "output_type": "stream",
     "text": [
      "Compution for channel: pin\n"
     ]
    },
    {
     "name": "stderr",
     "output_type": "stream",
     "text": [
      "Multiprocess sampling (8 chains in 4 jobs)\n",
      "NUTS: [noise_var, beta]\n"
     ]
    },
    {
     "data": {
      "text/html": [
       "\n",
       "<style>\n",
       "    /* Turns off some styling */\n",
       "    progress {\n",
       "        /* gets rid of default border in Firefox and Opera. */\n",
       "        border: none;\n",
       "        /* Needs to be in here for Safari polyfill so background images work as expected. */\n",
       "        background-size: auto;\n",
       "    }\n",
       "    .progress-bar-interrupted, .progress-bar-interrupted::-webkit-progress-bar {\n",
       "        background: #F44336;\n",
       "    }\n",
       "</style>\n"
      ],
      "text/plain": [
       "<IPython.core.display.HTML object>"
      ]
     },
     "metadata": {},
     "output_type": "display_data"
    },
    {
     "data": {
      "text/html": [
       "\n",
       "    <div>\n",
       "      <progress value='24000' class='' max='24000' style='width:300px; height:20px; vertical-align: middle;'></progress>\n",
       "      100.00% [24000/24000 00:04<00:00 Sampling 8 chains, 0 divergences]\n",
       "    </div>\n",
       "    "
      ],
      "text/plain": [
       "<IPython.core.display.HTML object>"
      ]
     },
     "metadata": {},
     "output_type": "display_data"
    },
    {
     "name": "stderr",
     "output_type": "stream",
     "text": [
      "Sampling 8 chains for 500 tune and 2_500 draw iterations (4_000 + 20_000 draws total) took 4 seconds.\n"
     ]
    },
    {
     "data": {
      "text/html": [
       "\n",
       "<style>\n",
       "    /* Turns off some styling */\n",
       "    progress {\n",
       "        /* gets rid of default border in Firefox and Opera. */\n",
       "        border: none;\n",
       "        /* Needs to be in here for Safari polyfill so background images work as expected. */\n",
       "        background-size: auto;\n",
       "    }\n",
       "    .progress-bar-interrupted, .progress-bar-interrupted::-webkit-progress-bar {\n",
       "        background: #F44336;\n",
       "    }\n",
       "</style>\n"
      ],
      "text/plain": [
       "<IPython.core.display.HTML object>"
      ]
     },
     "metadata": {},
     "output_type": "display_data"
    },
    {
     "data": {
      "text/html": [
       "\n",
       "    <div>\n",
       "      <progress value='20000' class='' max='20000' style='width:300px; height:20px; vertical-align: middle;'></progress>\n",
       "      100.00% [20000/20000 00:12<00:00]\n",
       "    </div>\n",
       "    "
      ],
      "text/plain": [
       "<IPython.core.display.HTML object>"
      ]
     },
     "metadata": {},
     "output_type": "display_data"
    },
    {
     "name": "stderr",
     "output_type": "stream",
     "text": [
      "/home/hakon/.local/lib/python3.8/site-packages/arviz/data/io_pymc3_3x.py:98: FutureWarning: Using `from_pymc3` without the model will be deprecated in a future release. Not using the model will return less accurate and less useful results. Make sure you use the model argument or call from_pymc3 within a model context.\n",
      "  warnings.warn(\n",
      "/home/hakon/.local/lib/python3.8/site-packages/arviz/data/io_pymc3_3x.py:98: FutureWarning: Using `from_pymc3` without the model will be deprecated in a future release. Not using the model will return less accurate and less useful results. Make sure you use the model argument or call from_pymc3 within a model context.\n",
      "  warnings.warn(\n",
      "/home/hakon/.local/lib/python3.8/site-packages/arviz/stats/stats.py:1635: UserWarning: For one or more samples the posterior variance of the log predictive densities exceeds 0.4. This could be indication of WAIC starting to fail. \n",
      "See http://arxiv.org/abs/1507.04544 for details\n",
      "  warnings.warn(\n"
     ]
    },
    {
     "name": "stdout",
     "output_type": "stream",
     "text": [
      "Compution for channel: pnda\n"
     ]
    },
    {
     "name": "stderr",
     "output_type": "stream",
     "text": [
      "Multiprocess sampling (8 chains in 4 jobs)\n",
      "NUTS: [noise_var, beta]\n"
     ]
    },
    {
     "data": {
      "text/html": [
       "\n",
       "<style>\n",
       "    /* Turns off some styling */\n",
       "    progress {\n",
       "        /* gets rid of default border in Firefox and Opera. */\n",
       "        border: none;\n",
       "        /* Needs to be in here for Safari polyfill so background images work as expected. */\n",
       "        background-size: auto;\n",
       "    }\n",
       "    .progress-bar-interrupted, .progress-bar-interrupted::-webkit-progress-bar {\n",
       "        background: #F44336;\n",
       "    }\n",
       "</style>\n"
      ],
      "text/plain": [
       "<IPython.core.display.HTML object>"
      ]
     },
     "metadata": {},
     "output_type": "display_data"
    },
    {
     "data": {
      "text/html": [
       "\n",
       "    <div>\n",
       "      <progress value='24000' class='' max='24000' style='width:300px; height:20px; vertical-align: middle;'></progress>\n",
       "      100.00% [24000/24000 00:04<00:00 Sampling 8 chains, 0 divergences]\n",
       "    </div>\n",
       "    "
      ],
      "text/plain": [
       "<IPython.core.display.HTML object>"
      ]
     },
     "metadata": {},
     "output_type": "display_data"
    },
    {
     "name": "stderr",
     "output_type": "stream",
     "text": [
      "Sampling 8 chains for 500 tune and 2_500 draw iterations (4_000 + 20_000 draws total) took 5 seconds.\n"
     ]
    },
    {
     "data": {
      "text/html": [
       "\n",
       "<style>\n",
       "    /* Turns off some styling */\n",
       "    progress {\n",
       "        /* gets rid of default border in Firefox and Opera. */\n",
       "        border: none;\n",
       "        /* Needs to be in here for Safari polyfill so background images work as expected. */\n",
       "        background-size: auto;\n",
       "    }\n",
       "    .progress-bar-interrupted, .progress-bar-interrupted::-webkit-progress-bar {\n",
       "        background: #F44336;\n",
       "    }\n",
       "</style>\n"
      ],
      "text/plain": [
       "<IPython.core.display.HTML object>"
      ]
     },
     "metadata": {},
     "output_type": "display_data"
    },
    {
     "data": {
      "text/html": [
       "\n",
       "    <div>\n",
       "      <progress value='20000' class='' max='20000' style='width:300px; height:20px; vertical-align: middle;'></progress>\n",
       "      100.00% [20000/20000 00:12<00:00]\n",
       "    </div>\n",
       "    "
      ],
      "text/plain": [
       "<IPython.core.display.HTML object>"
      ]
     },
     "metadata": {},
     "output_type": "display_data"
    },
    {
     "name": "stderr",
     "output_type": "stream",
     "text": [
      "/home/hakon/.local/lib/python3.8/site-packages/arviz/data/io_pymc3_3x.py:98: FutureWarning: Using `from_pymc3` without the model will be deprecated in a future release. Not using the model will return less accurate and less useful results. Make sure you use the model argument or call from_pymc3 within a model context.\n",
      "  warnings.warn(\n",
      "/home/hakon/.local/lib/python3.8/site-packages/arviz/stats/stats.py:811: UserWarning: Estimated shape parameter of Pareto distribution is greater than 0.7 for one or more samples. You should consider using a more robust model, this is because importance sampling is less likely to work well if the marginal posterior and LOO posterior are very different. This is more likely to happen with a non-robust model and highly influential observations.\n",
      "  warnings.warn(\n",
      "/home/hakon/.local/lib/python3.8/site-packages/arviz/data/io_pymc3_3x.py:98: FutureWarning: Using `from_pymc3` without the model will be deprecated in a future release. Not using the model will return less accurate and less useful results. Make sure you use the model argument or call from_pymc3 within a model context.\n",
      "  warnings.warn(\n",
      "/home/hakon/.local/lib/python3.8/site-packages/arviz/stats/stats.py:1635: UserWarning: For one or more samples the posterior variance of the log predictive densities exceeds 0.4. This could be indication of WAIC starting to fail. \n",
      "See http://arxiv.org/abs/1507.04544 for details\n",
      "  warnings.warn(\n"
     ]
    },
    {
     "name": "stdout",
     "output_type": "stream",
     "text": [
      "Compution for channel: tgtdsp\n"
     ]
    },
    {
     "name": "stderr",
     "output_type": "stream",
     "text": [
      "Multiprocess sampling (8 chains in 4 jobs)\n",
      "NUTS: [noise_var, beta]\n"
     ]
    },
    {
     "data": {
      "text/html": [
       "\n",
       "<style>\n",
       "    /* Turns off some styling */\n",
       "    progress {\n",
       "        /* gets rid of default border in Firefox and Opera. */\n",
       "        border: none;\n",
       "        /* Needs to be in here for Safari polyfill so background images work as expected. */\n",
       "        background-size: auto;\n",
       "    }\n",
       "    .progress-bar-interrupted, .progress-bar-interrupted::-webkit-progress-bar {\n",
       "        background: #F44336;\n",
       "    }\n",
       "</style>\n"
      ],
      "text/plain": [
       "<IPython.core.display.HTML object>"
      ]
     },
     "metadata": {},
     "output_type": "display_data"
    },
    {
     "data": {
      "text/html": [
       "\n",
       "    <div>\n",
       "      <progress value='24000' class='' max='24000' style='width:300px; height:20px; vertical-align: middle;'></progress>\n",
       "      100.00% [24000/24000 00:04<00:00 Sampling 8 chains, 0 divergences]\n",
       "    </div>\n",
       "    "
      ],
      "text/plain": [
       "<IPython.core.display.HTML object>"
      ]
     },
     "metadata": {},
     "output_type": "display_data"
    },
    {
     "name": "stderr",
     "output_type": "stream",
     "text": [
      "Sampling 8 chains for 500 tune and 2_500 draw iterations (4_000 + 20_000 draws total) took 5 seconds.\n"
     ]
    },
    {
     "data": {
      "text/html": [
       "\n",
       "<style>\n",
       "    /* Turns off some styling */\n",
       "    progress {\n",
       "        /* gets rid of default border in Firefox and Opera. */\n",
       "        border: none;\n",
       "        /* Needs to be in here for Safari polyfill so background images work as expected. */\n",
       "        background-size: auto;\n",
       "    }\n",
       "    .progress-bar-interrupted, .progress-bar-interrupted::-webkit-progress-bar {\n",
       "        background: #F44336;\n",
       "    }\n",
       "</style>\n"
      ],
      "text/plain": [
       "<IPython.core.display.HTML object>"
      ]
     },
     "metadata": {},
     "output_type": "display_data"
    },
    {
     "data": {
      "text/html": [
       "\n",
       "    <div>\n",
       "      <progress value='20000' class='' max='20000' style='width:300px; height:20px; vertical-align: middle;'></progress>\n",
       "      100.00% [20000/20000 00:12<00:00]\n",
       "    </div>\n",
       "    "
      ],
      "text/plain": [
       "<IPython.core.display.HTML object>"
      ]
     },
     "metadata": {},
     "output_type": "display_data"
    },
    {
     "name": "stderr",
     "output_type": "stream",
     "text": [
      "/home/hakon/.local/lib/python3.8/site-packages/arviz/data/io_pymc3_3x.py:98: FutureWarning: Using `from_pymc3` without the model will be deprecated in a future release. Not using the model will return less accurate and less useful results. Make sure you use the model argument or call from_pymc3 within a model context.\n",
      "  warnings.warn(\n",
      "/home/hakon/.local/lib/python3.8/site-packages/arviz/stats/stats.py:811: UserWarning: Estimated shape parameter of Pareto distribution is greater than 0.7 for one or more samples. You should consider using a more robust model, this is because importance sampling is less likely to work well if the marginal posterior and LOO posterior are very different. This is more likely to happen with a non-robust model and highly influential observations.\n",
      "  warnings.warn(\n",
      "/home/hakon/.local/lib/python3.8/site-packages/arviz/data/io_pymc3_3x.py:98: FutureWarning: Using `from_pymc3` without the model will be deprecated in a future release. Not using the model will return less accurate and less useful results. Make sure you use the model argument or call from_pymc3 within a model context.\n",
      "  warnings.warn(\n",
      "/home/hakon/.local/lib/python3.8/site-packages/arviz/stats/stats.py:1635: UserWarning: For one or more samples the posterior variance of the log predictive densities exceeds 0.4. This could be indication of WAIC starting to fail. \n",
      "See http://arxiv.org/abs/1507.04544 for details\n",
      "  warnings.warn(\n"
     ]
    },
    {
     "name": "stdout",
     "output_type": "stream",
     "text": [
      "Compution for channel: tgtsearch\n"
     ]
    },
    {
     "name": "stderr",
     "output_type": "stream",
     "text": [
      "Multiprocess sampling (8 chains in 4 jobs)\n",
      "NUTS: [noise_var, beta]\n"
     ]
    },
    {
     "data": {
      "text/html": [
       "\n",
       "<style>\n",
       "    /* Turns off some styling */\n",
       "    progress {\n",
       "        /* gets rid of default border in Firefox and Opera. */\n",
       "        border: none;\n",
       "        /* Needs to be in here for Safari polyfill so background images work as expected. */\n",
       "        background-size: auto;\n",
       "    }\n",
       "    .progress-bar-interrupted, .progress-bar-interrupted::-webkit-progress-bar {\n",
       "        background: #F44336;\n",
       "    }\n",
       "</style>\n"
      ],
      "text/plain": [
       "<IPython.core.display.HTML object>"
      ]
     },
     "metadata": {},
     "output_type": "display_data"
    },
    {
     "data": {
      "text/html": [
       "\n",
       "    <div>\n",
       "      <progress value='24000' class='' max='24000' style='width:300px; height:20px; vertical-align: middle;'></progress>\n",
       "      100.00% [24000/24000 00:04<00:00 Sampling 8 chains, 0 divergences]\n",
       "    </div>\n",
       "    "
      ],
      "text/plain": [
       "<IPython.core.display.HTML object>"
      ]
     },
     "metadata": {},
     "output_type": "display_data"
    },
    {
     "name": "stderr",
     "output_type": "stream",
     "text": [
      "Sampling 8 chains for 500 tune and 2_500 draw iterations (4_000 + 20_000 draws total) took 4 seconds.\n"
     ]
    },
    {
     "data": {
      "text/html": [
       "\n",
       "<style>\n",
       "    /* Turns off some styling */\n",
       "    progress {\n",
       "        /* gets rid of default border in Firefox and Opera. */\n",
       "        border: none;\n",
       "        /* Needs to be in here for Safari polyfill so background images work as expected. */\n",
       "        background-size: auto;\n",
       "    }\n",
       "    .progress-bar-interrupted, .progress-bar-interrupted::-webkit-progress-bar {\n",
       "        background: #F44336;\n",
       "    }\n",
       "</style>\n"
      ],
      "text/plain": [
       "<IPython.core.display.HTML object>"
      ]
     },
     "metadata": {},
     "output_type": "display_data"
    },
    {
     "data": {
      "text/html": [
       "\n",
       "    <div>\n",
       "      <progress value='20000' class='' max='20000' style='width:300px; height:20px; vertical-align: middle;'></progress>\n",
       "      100.00% [20000/20000 00:12<00:00]\n",
       "    </div>\n",
       "    "
      ],
      "text/plain": [
       "<IPython.core.display.HTML object>"
      ]
     },
     "metadata": {},
     "output_type": "display_data"
    },
    {
     "name": "stderr",
     "output_type": "stream",
     "text": [
      "/home/hakon/.local/lib/python3.8/site-packages/arviz/data/io_pymc3_3x.py:98: FutureWarning: Using `from_pymc3` without the model will be deprecated in a future release. Not using the model will return less accurate and less useful results. Make sure you use the model argument or call from_pymc3 within a model context.\n",
      "  warnings.warn(\n",
      "/home/hakon/.local/lib/python3.8/site-packages/arviz/stats/stats.py:811: UserWarning: Estimated shape parameter of Pareto distribution is greater than 0.7 for one or more samples. You should consider using a more robust model, this is because importance sampling is less likely to work well if the marginal posterior and LOO posterior are very different. This is more likely to happen with a non-robust model and highly influential observations.\n",
      "  warnings.warn(\n",
      "/home/hakon/.local/lib/python3.8/site-packages/arviz/data/io_pymc3_3x.py:98: FutureWarning: Using `from_pymc3` without the model will be deprecated in a future release. Not using the model will return less accurate and less useful results. Make sure you use the model argument or call from_pymc3 within a model context.\n",
      "  warnings.warn(\n",
      "/home/hakon/.local/lib/python3.8/site-packages/arviz/stats/stats.py:1635: UserWarning: For one or more samples the posterior variance of the log predictive densities exceeds 0.4. This could be indication of WAIC starting to fail. \n",
      "See http://arxiv.org/abs/1507.04544 for details\n",
      "  warnings.warn(\n"
     ]
    },
    {
     "name": "stdout",
     "output_type": "stream",
     "text": [
      "Compution for channel: tiktok\n"
     ]
    },
    {
     "name": "stderr",
     "output_type": "stream",
     "text": [
      "Multiprocess sampling (8 chains in 4 jobs)\n",
      "NUTS: [noise_var, beta]\n"
     ]
    },
    {
     "data": {
      "text/html": [
       "\n",
       "<style>\n",
       "    /* Turns off some styling */\n",
       "    progress {\n",
       "        /* gets rid of default border in Firefox and Opera. */\n",
       "        border: none;\n",
       "        /* Needs to be in here for Safari polyfill so background images work as expected. */\n",
       "        background-size: auto;\n",
       "    }\n",
       "    .progress-bar-interrupted, .progress-bar-interrupted::-webkit-progress-bar {\n",
       "        background: #F44336;\n",
       "    }\n",
       "</style>\n"
      ],
      "text/plain": [
       "<IPython.core.display.HTML object>"
      ]
     },
     "metadata": {},
     "output_type": "display_data"
    },
    {
     "data": {
      "text/html": [
       "\n",
       "    <div>\n",
       "      <progress value='24000' class='' max='24000' style='width:300px; height:20px; vertical-align: middle;'></progress>\n",
       "      100.00% [24000/24000 00:04<00:00 Sampling 8 chains, 0 divergences]\n",
       "    </div>\n",
       "    "
      ],
      "text/plain": [
       "<IPython.core.display.HTML object>"
      ]
     },
     "metadata": {},
     "output_type": "display_data"
    },
    {
     "name": "stderr",
     "output_type": "stream",
     "text": [
      "Sampling 8 chains for 500 tune and 2_500 draw iterations (4_000 + 20_000 draws total) took 5 seconds.\n"
     ]
    },
    {
     "data": {
      "text/html": [
       "\n",
       "<style>\n",
       "    /* Turns off some styling */\n",
       "    progress {\n",
       "        /* gets rid of default border in Firefox and Opera. */\n",
       "        border: none;\n",
       "        /* Needs to be in here for Safari polyfill so background images work as expected. */\n",
       "        background-size: auto;\n",
       "    }\n",
       "    .progress-bar-interrupted, .progress-bar-interrupted::-webkit-progress-bar {\n",
       "        background: #F44336;\n",
       "    }\n",
       "</style>\n"
      ],
      "text/plain": [
       "<IPython.core.display.HTML object>"
      ]
     },
     "metadata": {},
     "output_type": "display_data"
    },
    {
     "data": {
      "text/html": [
       "\n",
       "    <div>\n",
       "      <progress value='20000' class='' max='20000' style='width:300px; height:20px; vertical-align: middle;'></progress>\n",
       "      100.00% [20000/20000 00:12<00:00]\n",
       "    </div>\n",
       "    "
      ],
      "text/plain": [
       "<IPython.core.display.HTML object>"
      ]
     },
     "metadata": {},
     "output_type": "display_data"
    },
    {
     "name": "stderr",
     "output_type": "stream",
     "text": [
      "/home/hakon/.local/lib/python3.8/site-packages/arviz/data/io_pymc3_3x.py:98: FutureWarning: Using `from_pymc3` without the model will be deprecated in a future release. Not using the model will return less accurate and less useful results. Make sure you use the model argument or call from_pymc3 within a model context.\n",
      "  warnings.warn(\n",
      "/home/hakon/.local/lib/python3.8/site-packages/arviz/stats/stats.py:1048: RuntimeWarning: overflow encountered in exp\n",
      "  weights = 1 / np.exp(len_scale - len_scale[:, None]).sum(axis=1)\n",
      "/home/hakon/.local/lib/python3.8/site-packages/arviz/stats/stats.py:811: UserWarning: Estimated shape parameter of Pareto distribution is greater than 0.7 for one or more samples. You should consider using a more robust model, this is because importance sampling is less likely to work well if the marginal posterior and LOO posterior are very different. This is more likely to happen with a non-robust model and highly influential observations.\n",
      "  warnings.warn(\n",
      "/home/hakon/.local/lib/python3.8/site-packages/arviz/data/io_pymc3_3x.py:98: FutureWarning: Using `from_pymc3` without the model will be deprecated in a future release. Not using the model will return less accurate and less useful results. Make sure you use the model argument or call from_pymc3 within a model context.\n",
      "  warnings.warn(\n",
      "/home/hakon/.local/lib/python3.8/site-packages/arviz/stats/stats.py:1635: UserWarning: For one or more samples the posterior variance of the log predictive densities exceeds 0.4. This could be indication of WAIC starting to fail. \n",
      "See http://arxiv.org/abs/1507.04544 for details\n",
      "  warnings.warn(\n"
     ]
    },
    {
     "name": "stdout",
     "output_type": "stream",
     "text": [
      "Compution for channel: tv\n"
     ]
    },
    {
     "name": "stderr",
     "output_type": "stream",
     "text": [
      "Multiprocess sampling (8 chains in 4 jobs)\n",
      "NUTS: [noise_var, beta]\n"
     ]
    },
    {
     "data": {
      "text/html": [
       "\n",
       "<style>\n",
       "    /* Turns off some styling */\n",
       "    progress {\n",
       "        /* gets rid of default border in Firefox and Opera. */\n",
       "        border: none;\n",
       "        /* Needs to be in here for Safari polyfill so background images work as expected. */\n",
       "        background-size: auto;\n",
       "    }\n",
       "    .progress-bar-interrupted, .progress-bar-interrupted::-webkit-progress-bar {\n",
       "        background: #F44336;\n",
       "    }\n",
       "</style>\n"
      ],
      "text/plain": [
       "<IPython.core.display.HTML object>"
      ]
     },
     "metadata": {},
     "output_type": "display_data"
    },
    {
     "data": {
      "text/html": [
       "\n",
       "    <div>\n",
       "      <progress value='24000' class='' max='24000' style='width:300px; height:20px; vertical-align: middle;'></progress>\n",
       "      100.00% [24000/24000 00:03<00:00 Sampling 8 chains, 0 divergences]\n",
       "    </div>\n",
       "    "
      ],
      "text/plain": [
       "<IPython.core.display.HTML object>"
      ]
     },
     "metadata": {},
     "output_type": "display_data"
    },
    {
     "name": "stderr",
     "output_type": "stream",
     "text": [
      "Sampling 8 chains for 500 tune and 2_500 draw iterations (4_000 + 20_000 draws total) took 4 seconds.\n"
     ]
    },
    {
     "data": {
      "text/html": [
       "\n",
       "<style>\n",
       "    /* Turns off some styling */\n",
       "    progress {\n",
       "        /* gets rid of default border in Firefox and Opera. */\n",
       "        border: none;\n",
       "        /* Needs to be in here for Safari polyfill so background images work as expected. */\n",
       "        background-size: auto;\n",
       "    }\n",
       "    .progress-bar-interrupted, .progress-bar-interrupted::-webkit-progress-bar {\n",
       "        background: #F44336;\n",
       "    }\n",
       "</style>\n"
      ],
      "text/plain": [
       "<IPython.core.display.HTML object>"
      ]
     },
     "metadata": {},
     "output_type": "display_data"
    },
    {
     "data": {
      "text/html": [
       "\n",
       "    <div>\n",
       "      <progress value='20000' class='' max='20000' style='width:300px; height:20px; vertical-align: middle;'></progress>\n",
       "      100.00% [20000/20000 00:12<00:00]\n",
       "    </div>\n",
       "    "
      ],
      "text/plain": [
       "<IPython.core.display.HTML object>"
      ]
     },
     "metadata": {},
     "output_type": "display_data"
    },
    {
     "name": "stderr",
     "output_type": "stream",
     "text": [
      "/home/hakon/.local/lib/python3.8/site-packages/arviz/data/io_pymc3_3x.py:98: FutureWarning: Using `from_pymc3` without the model will be deprecated in a future release. Not using the model will return less accurate and less useful results. Make sure you use the model argument or call from_pymc3 within a model context.\n",
      "  warnings.warn(\n",
      "/home/hakon/.local/lib/python3.8/site-packages/arviz/data/io_pymc3_3x.py:98: FutureWarning: Using `from_pymc3` without the model will be deprecated in a future release. Not using the model will return less accurate and less useful results. Make sure you use the model argument or call from_pymc3 within a model context.\n",
      "  warnings.warn(\n"
     ]
    },
    {
     "name": "stdout",
     "output_type": "stream",
     "text": [
      "Compution for channel: webmd\n"
     ]
    },
    {
     "name": "stderr",
     "output_type": "stream",
     "text": [
      "Multiprocess sampling (8 chains in 4 jobs)\n",
      "NUTS: [noise_var, beta]\n"
     ]
    },
    {
     "data": {
      "text/html": [
       "\n",
       "<style>\n",
       "    /* Turns off some styling */\n",
       "    progress {\n",
       "        /* gets rid of default border in Firefox and Opera. */\n",
       "        border: none;\n",
       "        /* Needs to be in here for Safari polyfill so background images work as expected. */\n",
       "        background-size: auto;\n",
       "    }\n",
       "    .progress-bar-interrupted, .progress-bar-interrupted::-webkit-progress-bar {\n",
       "        background: #F44336;\n",
       "    }\n",
       "</style>\n"
      ],
      "text/plain": [
       "<IPython.core.display.HTML object>"
      ]
     },
     "metadata": {},
     "output_type": "display_data"
    },
    {
     "data": {
      "text/html": [
       "\n",
       "    <div>\n",
       "      <progress value='24000' class='' max='24000' style='width:300px; height:20px; vertical-align: middle;'></progress>\n",
       "      100.00% [24000/24000 00:03<00:00 Sampling 8 chains, 0 divergences]\n",
       "    </div>\n",
       "    "
      ],
      "text/plain": [
       "<IPython.core.display.HTML object>"
      ]
     },
     "metadata": {},
     "output_type": "display_data"
    },
    {
     "name": "stderr",
     "output_type": "stream",
     "text": [
      "Sampling 8 chains for 500 tune and 2_500 draw iterations (4_000 + 20_000 draws total) took 4 seconds.\n"
     ]
    },
    {
     "data": {
      "text/html": [
       "\n",
       "<style>\n",
       "    /* Turns off some styling */\n",
       "    progress {\n",
       "        /* gets rid of default border in Firefox and Opera. */\n",
       "        border: none;\n",
       "        /* Needs to be in here for Safari polyfill so background images work as expected. */\n",
       "        background-size: auto;\n",
       "    }\n",
       "    .progress-bar-interrupted, .progress-bar-interrupted::-webkit-progress-bar {\n",
       "        background: #F44336;\n",
       "    }\n",
       "</style>\n"
      ],
      "text/plain": [
       "<IPython.core.display.HTML object>"
      ]
     },
     "metadata": {},
     "output_type": "display_data"
    },
    {
     "data": {
      "text/html": [
       "\n",
       "    <div>\n",
       "      <progress value='20000' class='' max='20000' style='width:300px; height:20px; vertical-align: middle;'></progress>\n",
       "      100.00% [20000/20000 00:12<00:00]\n",
       "    </div>\n",
       "    "
      ],
      "text/plain": [
       "<IPython.core.display.HTML object>"
      ]
     },
     "metadata": {},
     "output_type": "display_data"
    },
    {
     "name": "stderr",
     "output_type": "stream",
     "text": [
      "/home/hakon/.local/lib/python3.8/site-packages/arviz/data/io_pymc3_3x.py:98: FutureWarning: Using `from_pymc3` without the model will be deprecated in a future release. Not using the model will return less accurate and less useful results. Make sure you use the model argument or call from_pymc3 within a model context.\n",
      "  warnings.warn(\n",
      "/home/hakon/.local/lib/python3.8/site-packages/arviz/data/io_pymc3_3x.py:98: FutureWarning: Using `from_pymc3` without the model will be deprecated in a future release. Not using the model will return less accurate and less useful results. Make sure you use the model argument or call from_pymc3 within a model context.\n",
      "  warnings.warn(\n",
      "/home/hakon/.local/lib/python3.8/site-packages/arviz/stats/stats.py:1635: UserWarning: For one or more samples the posterior variance of the log predictive densities exceeds 0.4. This could be indication of WAIC starting to fail. \n",
      "See http://arxiv.org/abs/1507.04544 for details\n",
      "  warnings.warn(\n"
     ]
    },
    {
     "name": "stdout",
     "output_type": "stream",
     "text": [
      "Compution for channel: wmdsp\n"
     ]
    },
    {
     "name": "stderr",
     "output_type": "stream",
     "text": [
      "Multiprocess sampling (8 chains in 4 jobs)\n",
      "NUTS: [noise_var, beta]\n"
     ]
    },
    {
     "data": {
      "text/html": [
       "\n",
       "<style>\n",
       "    /* Turns off some styling */\n",
       "    progress {\n",
       "        /* gets rid of default border in Firefox and Opera. */\n",
       "        border: none;\n",
       "        /* Needs to be in here for Safari polyfill so background images work as expected. */\n",
       "        background-size: auto;\n",
       "    }\n",
       "    .progress-bar-interrupted, .progress-bar-interrupted::-webkit-progress-bar {\n",
       "        background: #F44336;\n",
       "    }\n",
       "</style>\n"
      ],
      "text/plain": [
       "<IPython.core.display.HTML object>"
      ]
     },
     "metadata": {},
     "output_type": "display_data"
    },
    {
     "data": {
      "text/html": [
       "\n",
       "    <div>\n",
       "      <progress value='24000' class='' max='24000' style='width:300px; height:20px; vertical-align: middle;'></progress>\n",
       "      100.00% [24000/24000 00:04<00:00 Sampling 8 chains, 0 divergences]\n",
       "    </div>\n",
       "    "
      ],
      "text/plain": [
       "<IPython.core.display.HTML object>"
      ]
     },
     "metadata": {},
     "output_type": "display_data"
    },
    {
     "name": "stderr",
     "output_type": "stream",
     "text": [
      "Sampling 8 chains for 500 tune and 2_500 draw iterations (4_000 + 20_000 draws total) took 4 seconds.\n"
     ]
    },
    {
     "data": {
      "text/html": [
       "\n",
       "<style>\n",
       "    /* Turns off some styling */\n",
       "    progress {\n",
       "        /* gets rid of default border in Firefox and Opera. */\n",
       "        border: none;\n",
       "        /* Needs to be in here for Safari polyfill so background images work as expected. */\n",
       "        background-size: auto;\n",
       "    }\n",
       "    .progress-bar-interrupted, .progress-bar-interrupted::-webkit-progress-bar {\n",
       "        background: #F44336;\n",
       "    }\n",
       "</style>\n"
      ],
      "text/plain": [
       "<IPython.core.display.HTML object>"
      ]
     },
     "metadata": {},
     "output_type": "display_data"
    },
    {
     "data": {
      "text/html": [
       "\n",
       "    <div>\n",
       "      <progress value='20000' class='' max='20000' style='width:300px; height:20px; vertical-align: middle;'></progress>\n",
       "      100.00% [20000/20000 00:12<00:00]\n",
       "    </div>\n",
       "    "
      ],
      "text/plain": [
       "<IPython.core.display.HTML object>"
      ]
     },
     "metadata": {},
     "output_type": "display_data"
    },
    {
     "name": "stderr",
     "output_type": "stream",
     "text": [
      "/home/hakon/.local/lib/python3.8/site-packages/arviz/data/io_pymc3_3x.py:98: FutureWarning: Using `from_pymc3` without the model will be deprecated in a future release. Not using the model will return less accurate and less useful results. Make sure you use the model argument or call from_pymc3 within a model context.\n",
      "  warnings.warn(\n",
      "/home/hakon/.local/lib/python3.8/site-packages/arviz/stats/stats.py:811: UserWarning: Estimated shape parameter of Pareto distribution is greater than 0.7 for one or more samples. You should consider using a more robust model, this is because importance sampling is less likely to work well if the marginal posterior and LOO posterior are very different. This is more likely to happen with a non-robust model and highly influential observations.\n",
      "  warnings.warn(\n",
      "/home/hakon/.local/lib/python3.8/site-packages/arviz/data/io_pymc3_3x.py:98: FutureWarning: Using `from_pymc3` without the model will be deprecated in a future release. Not using the model will return less accurate and less useful results. Make sure you use the model argument or call from_pymc3 within a model context.\n",
      "  warnings.warn(\n",
      "/home/hakon/.local/lib/python3.8/site-packages/arviz/stats/stats.py:1635: UserWarning: For one or more samples the posterior variance of the log predictive densities exceeds 0.4. This could be indication of WAIC starting to fail. \n",
      "See http://arxiv.org/abs/1507.04544 for details\n",
      "  warnings.warn(\n"
     ]
    },
    {
     "name": "stdout",
     "output_type": "stream",
     "text": [
      "Compution for channel: wmsearch\n"
     ]
    },
    {
     "name": "stderr",
     "output_type": "stream",
     "text": [
      "Multiprocess sampling (8 chains in 4 jobs)\n",
      "NUTS: [noise_var, beta]\n"
     ]
    },
    {
     "data": {
      "text/html": [
       "\n",
       "<style>\n",
       "    /* Turns off some styling */\n",
       "    progress {\n",
       "        /* gets rid of default border in Firefox and Opera. */\n",
       "        border: none;\n",
       "        /* Needs to be in here for Safari polyfill so background images work as expected. */\n",
       "        background-size: auto;\n",
       "    }\n",
       "    .progress-bar-interrupted, .progress-bar-interrupted::-webkit-progress-bar {\n",
       "        background: #F44336;\n",
       "    }\n",
       "</style>\n"
      ],
      "text/plain": [
       "<IPython.core.display.HTML object>"
      ]
     },
     "metadata": {},
     "output_type": "display_data"
    },
    {
     "data": {
      "text/html": [
       "\n",
       "    <div>\n",
       "      <progress value='24000' class='' max='24000' style='width:300px; height:20px; vertical-align: middle;'></progress>\n",
       "      100.00% [24000/24000 00:04<00:00 Sampling 8 chains, 0 divergences]\n",
       "    </div>\n",
       "    "
      ],
      "text/plain": [
       "<IPython.core.display.HTML object>"
      ]
     },
     "metadata": {},
     "output_type": "display_data"
    },
    {
     "name": "stderr",
     "output_type": "stream",
     "text": [
      "Sampling 8 chains for 500 tune and 2_500 draw iterations (4_000 + 20_000 draws total) took 4 seconds.\n"
     ]
    },
    {
     "data": {
      "text/html": [
       "\n",
       "<style>\n",
       "    /* Turns off some styling */\n",
       "    progress {\n",
       "        /* gets rid of default border in Firefox and Opera. */\n",
       "        border: none;\n",
       "        /* Needs to be in here for Safari polyfill so background images work as expected. */\n",
       "        background-size: auto;\n",
       "    }\n",
       "    .progress-bar-interrupted, .progress-bar-interrupted::-webkit-progress-bar {\n",
       "        background: #F44336;\n",
       "    }\n",
       "</style>\n"
      ],
      "text/plain": [
       "<IPython.core.display.HTML object>"
      ]
     },
     "metadata": {},
     "output_type": "display_data"
    },
    {
     "data": {
      "text/html": [
       "\n",
       "    <div>\n",
       "      <progress value='20000' class='' max='20000' style='width:300px; height:20px; vertical-align: middle;'></progress>\n",
       "      100.00% [20000/20000 00:12<00:00]\n",
       "    </div>\n",
       "    "
      ],
      "text/plain": [
       "<IPython.core.display.HTML object>"
      ]
     },
     "metadata": {},
     "output_type": "display_data"
    },
    {
     "name": "stderr",
     "output_type": "stream",
     "text": [
      "/home/hakon/.local/lib/python3.8/site-packages/arviz/data/io_pymc3_3x.py:98: FutureWarning: Using `from_pymc3` without the model will be deprecated in a future release. Not using the model will return less accurate and less useful results. Make sure you use the model argument or call from_pymc3 within a model context.\n",
      "  warnings.warn(\n",
      "/home/hakon/.local/lib/python3.8/site-packages/arviz/data/io_pymc3_3x.py:98: FutureWarning: Using `from_pymc3` without the model will be deprecated in a future release. Not using the model will return less accurate and less useful results. Make sure you use the model argument or call from_pymc3 within a model context.\n",
      "  warnings.warn(\n",
      "/home/hakon/.local/lib/python3.8/site-packages/arviz/stats/stats.py:1635: UserWarning: For one or more samples the posterior variance of the log predictive densities exceeds 0.4. This could be indication of WAIC starting to fail. \n",
      "See http://arxiv.org/abs/1507.04544 for details\n",
      "  warnings.warn(\n"
     ]
    },
    {
     "name": "stdout",
     "output_type": "stream",
     "text": [
      "Compution for channel: yt\n"
     ]
    },
    {
     "name": "stderr",
     "output_type": "stream",
     "text": [
      "Multiprocess sampling (8 chains in 4 jobs)\n",
      "NUTS: [noise_var, beta]\n"
     ]
    },
    {
     "data": {
      "text/html": [
       "\n",
       "<style>\n",
       "    /* Turns off some styling */\n",
       "    progress {\n",
       "        /* gets rid of default border in Firefox and Opera. */\n",
       "        border: none;\n",
       "        /* Needs to be in here for Safari polyfill so background images work as expected. */\n",
       "        background-size: auto;\n",
       "    }\n",
       "    .progress-bar-interrupted, .progress-bar-interrupted::-webkit-progress-bar {\n",
       "        background: #F44336;\n",
       "    }\n",
       "</style>\n"
      ],
      "text/plain": [
       "<IPython.core.display.HTML object>"
      ]
     },
     "metadata": {},
     "output_type": "display_data"
    },
    {
     "data": {
      "text/html": [
       "\n",
       "    <div>\n",
       "      <progress value='24000' class='' max='24000' style='width:300px; height:20px; vertical-align: middle;'></progress>\n",
       "      100.00% [24000/24000 00:04<00:00 Sampling 8 chains, 0 divergences]\n",
       "    </div>\n",
       "    "
      ],
      "text/plain": [
       "<IPython.core.display.HTML object>"
      ]
     },
     "metadata": {},
     "output_type": "display_data"
    },
    {
     "name": "stderr",
     "output_type": "stream",
     "text": [
      "Sampling 8 chains for 500 tune and 2_500 draw iterations (4_000 + 20_000 draws total) took 5 seconds.\n"
     ]
    },
    {
     "data": {
      "text/html": [
       "\n",
       "<style>\n",
       "    /* Turns off some styling */\n",
       "    progress {\n",
       "        /* gets rid of default border in Firefox and Opera. */\n",
       "        border: none;\n",
       "        /* Needs to be in here for Safari polyfill so background images work as expected. */\n",
       "        background-size: auto;\n",
       "    }\n",
       "    .progress-bar-interrupted, .progress-bar-interrupted::-webkit-progress-bar {\n",
       "        background: #F44336;\n",
       "    }\n",
       "</style>\n"
      ],
      "text/plain": [
       "<IPython.core.display.HTML object>"
      ]
     },
     "metadata": {},
     "output_type": "display_data"
    },
    {
     "data": {
      "text/html": [
       "\n",
       "    <div>\n",
       "      <progress value='20000' class='' max='20000' style='width:300px; height:20px; vertical-align: middle;'></progress>\n",
       "      100.00% [20000/20000 00:12<00:00]\n",
       "    </div>\n",
       "    "
      ],
      "text/plain": [
       "<IPython.core.display.HTML object>"
      ]
     },
     "metadata": {},
     "output_type": "display_data"
    },
    {
     "name": "stderr",
     "output_type": "stream",
     "text": [
      "/home/hakon/.local/lib/python3.8/site-packages/arviz/data/io_pymc3_3x.py:98: FutureWarning: Using `from_pymc3` without the model will be deprecated in a future release. Not using the model will return less accurate and less useful results. Make sure you use the model argument or call from_pymc3 within a model context.\n",
      "  warnings.warn(\n",
      "/home/hakon/.local/lib/python3.8/site-packages/arviz/stats/stats.py:811: UserWarning: Estimated shape parameter of Pareto distribution is greater than 0.7 for one or more samples. You should consider using a more robust model, this is because importance sampling is less likely to work well if the marginal posterior and LOO posterior are very different. This is more likely to happen with a non-robust model and highly influential observations.\n",
      "  warnings.warn(\n",
      "/home/hakon/.local/lib/python3.8/site-packages/arviz/data/io_pymc3_3x.py:98: FutureWarning: Using `from_pymc3` without the model will be deprecated in a future release. Not using the model will return less accurate and less useful results. Make sure you use the model argument or call from_pymc3 within a model context.\n",
      "  warnings.warn(\n",
      "/home/hakon/.local/lib/python3.8/site-packages/arviz/stats/stats.py:1635: UserWarning: For one or more samples the posterior variance of the log predictive densities exceeds 0.4. This could be indication of WAIC starting to fail. \n",
      "See http://arxiv.org/abs/1507.04544 for details\n",
      "  warnings.warn(\n"
     ]
    },
    {
     "name": "stdout",
     "output_type": "stream",
     "text": [
      "Index(['fb', 'hearst', 'tiktok', 'insta', 'amb', 'oathvrzn', 'yt', 'tv',\n",
      "       'amzsearch', 'pnda', 'wmsearch', 'tgtsearch', 'pin', 'fluency', 'ctv',\n",
      "       'fep'],\n",
      "      dtype='object')\n",
      "CPU times: user 7min 12s, sys: 9.57 s, total: 7min 22s\n",
      "Wall time: 7min 49s\n"
     ]
    },
    {
     "data": {
      "image/png": "[encoded data removed]",
      "text/plain": [
       "<Figure size 1080x576 with 1 Axes>"
      ]
     },
     "metadata": {
      "needs_background": "light"
     },
     "output_type": "display_data"
    },
    {
     "data": {
      "image/png": "[encoded data removed]",
      "text/plain": [
       "<Figure size 1080x576 with 1 Axes>"
      ]
     },
     "metadata": {
      "needs_background": "light"
     },
     "output_type": "display_data"
    },
    {
     "data": {
      "image/png": "[encoded data removed]",
      "text/plain": [
       "<Figure size 1080x576 with 1 Axes>"
      ]
     },
     "metadata": {
      "needs_background": "light"
     },
     "output_type": "display_data"
    },
    {
     "data": {
      "image/png": "[encoded data removed]",
      "text/plain": [
       "<Figure size 1080x576 with 1 Axes>"
      ]
     },
     "metadata": {
      "needs_background": "light"
     },
     "output_type": "display_data"
    },
    {
     "data": {
      "image/png": "[encoded data removed]",
      "text/plain": [
       "<Figure size 1080x576 with 1 Axes>"
      ]
     },
     "metadata": {
      "needs_background": "light"
     },
     "output_type": "display_data"
    },
    {
     "data": {
      "image/png": "[encoded data removed]",
      "text/plain": [
       "<Figure size 1080x576 with 1 Axes>"
      ]
     },
     "metadata": {
      "needs_background": "light"
     },
     "output_type": "display_data"
    },
    {
     "data": {
      "image/png": "[encoded data removed]",
      "text/plain": [
       "<Figure size 1080x576 with 1 Axes>"
      ]
     },
     "metadata": {
      "needs_background": "light"
     },
     "output_type": "display_data"
    },
    {
     "data": {
      "image/png": "[encoded data removed]",
      "text/plain": [
       "<Figure size 1080x576 with 1 Axes>"
      ]
     },
     "metadata": {
      "needs_background": "light"
     },
     "output_type": "display_data"
    },
    {
     "data": {
      "image/png": "[encoded data removed]",
      "text/plain": [
       "<Figure size 1080x576 with 1 Axes>"
      ]
     },
     "metadata": {
      "needs_background": "light"
     },
     "output_type": "display_data"
    },
    {
     "data": {
      "image/png": "[encoded data removed]",
      "text/plain": [
       "<Figure size 1080x576 with 1 Axes>"
      ]
     },
     "metadata": {
      "needs_background": "light"
     },
     "output_type": "display_data"
    },
    {
     "data": {
      "image/png": "[encoded data removed]",
      "text/plain": [
       "<Figure size 1080x576 with 1 Axes>"
      ]
     },
     "metadata": {
      "needs_background": "light"
     },
     "output_type": "display_data"
    },
    {
     "data": {
      "image/png": "[encoded data removed]",
      "text/plain": [
       "<Figure size 1080x576 with 1 Axes>"
      ]
     },
     "metadata": {
      "needs_background": "light"
     },
     "output_type": "display_data"
    },
    {
     "data": {
      "image/png": "[encoded data removed]",
      "text/plain": [
       "<Figure size 1080x576 with 1 Axes>"
      ]
     },
     "metadata": {
      "needs_background": "light"
     },
     "output_type": "display_data"
    },
    {
     "data": {
      "image/png": "[encoded data removed]",
      "text/plain": [
       "<Figure size 1080x576 with 1 Axes>"
      ]
     },
     "metadata": {
      "needs_background": "light"
     },
     "output_type": "display_data"
    },
    {
     "data": {
      "image/png": "[encoded data removed]",
      "text/plain": [
       "<Figure size 1080x576 with 1 Axes>"
      ]
     },
     "metadata": {
      "needs_background": "light"
     },
     "output_type": "display_data"
    },
    {
     "data": {
      "image/png": "[encoded data removed]",
      "text/plain": [
       "<Figure size 1080x576 with 1 Axes>"
      ]
     },
     "metadata": {
      "needs_background": "light"
     },
     "output_type": "display_data"
    },
    {
     "data": {
      "image/png": "[encoded data removed]",
      "text/plain": [
       "<Figure size 1080x576 with 1 Axes>"
      ]
     },
     "metadata": {
      "needs_background": "light"
     },
     "output_type": "display_data"
    }
   ],
   "source": [
    "%%time\n",
    "mc_df_rescaled = mc_df[['sales']].copy()\n",
    "mc_df_rescaled['y_pred'] = mc_df.drop(columns=['sales']).sum(axis=1)\n",
    "media_metrics_mc_df = hf.get_metrics(mc_df_rescaled, col_true='sales', col_pred='y_pred')\n",
    "print('media_metrics_mc_df\\n', media_metrics_mc_df)\n",
    "\n",
    "hf.show_prediction(mc_df_rescaled, os.path.join(cfg.DATA_PATH, cfg.IMAGE_DUMP_PATH, \n",
    "                                                'media_prediction_rescaled.png'), \n",
    "                   col_true='sales',col_pred='y_pred')\n",
    "\n",
    "logging.info('Building Saturation curves!')\n",
    "\n",
    "sat_model = SaturationCurves(media_model, mc_df, get_avg_price_df)\n",
    "sp_df.columns = sp_df.columns.str.replace(r'mdsp_', '')\n",
    "channel = sat_model.ms_df[cfg.channel_cols].columns\n",
    "print(channel)\n",
    "for col in channel:\n",
    "    show_saturation(sat_model, os.path.join(cfg.DATA_PATH, cfg.IMAGE_DUMP_PATH, f'sat_{col}.png'), \n",
    "                    sp_df, col)\n",
    "    # upload_to_bucket(GCP_ID + '/charts/sat_' + col + '.png', getcwd() + IMAGE_DUMP_PATH + 'sat_' + col + '.png',\n",
    "    #                  bucket_name)"
   ]
  },
  {
   "cell_type": "code",
   "execution_count": null,
   "id": "150adbff-90dc-4360-8a80-7bad355a2594",
   "metadata": {},
   "outputs": [],
   "source": []
  },
  {
   "cell_type": "code",
   "execution_count": 29,
   "id": "315851d0-d3b1-47e8-993d-5077d0a0cdf9",
   "metadata": {},
   "outputs": [],
   "source": [
    "df_beta_ctrl = get_beta_ctrl_df(df, post_pred_control)\n",
    "df_beta_ctrl.to_csv(cfg.PATH_CTRL_MODEL_BETAS)\n",
    "\n",
    "df_media_params = get_media_parameters(media_model)\n",
    "df_media_params.to_csv(cfg.PATH_MEDIA_MODEL_PARAMS)\n",
    "\n",
    "df_media_betas = get_beta_media_model(betas_dict, fit_result_reloop)\n",
    "df_media_betas.to_csv(cfg.PATH_MEDIA_MODEL_BETAS)\n",
    "\n",
    "df_sat_params = get_saturation_model_params(sat_model)\n",
    "df_sat_params.to_csv(cfg.PATH_SAT_MODEL_PARAMS)"
   ]
  },
  {
   "cell_type": "code",
   "execution_count": 30,
   "id": "9a64d200-a558-48b3-95b9-5b7dd5dc6ade",
   "metadata": {},
   "outputs": [],
   "source": []
  },
  {
   "cell_type": "code",
   "execution_count": 31,
   "id": "53eef56e-115b-46a2-b078-a0a10599070c",
   "metadata": {},
   "outputs": [],
   "source": [
    "# Media model betas\n",
    "df_beta_media = pd.read_csv(cfg.PATH_MEDIA_MODEL_BETAS)\n",
    "\n",
    "# Media model params\n",
    "df_params_media = pd.read_csv(cfg.PATH_MEDIA_MODEL_PARAMS)"
   ]
  },
  {
   "cell_type": "markdown",
   "id": "05c05031-5c9a-48ca-b614-1c6c4226173d",
   "metadata": {},
   "source": [
    "# Data dump"
   ]
  },
  {
   "cell_type": "code",
   "execution_count": 32,
   "id": "c8a4c657-8c5e-4bad-8fac-422a3bfea707",
   "metadata": {},
   "outputs": [],
   "source": [
    "rebuild_results.save_rois_csv('./data/final_files/BM_ROI_prior_df.csv')"
   ]
  },
  {
   "cell_type": "code",
   "execution_count": 33,
   "id": "c5b625b5-2f4e-4f94-bfc4-c0040561a828",
   "metadata": {},
   "outputs": [],
   "source": [
    "rebuild_results.save_input_df(df, media_model.mdip_cols, media_model.mdsp_cols, \n",
    "                              cfg.PATH_MAIN_FULL)"
   ]
  },
  {
   "cell_type": "code",
   "execution_count": 34,
   "id": "7d53a45c-cd3c-445b-b090-ad440b26533b",
   "metadata": {},
   "outputs": [],
   "source": [
    "# average_price_df\n",
    "rebuild_results.save_average_price('./data/final_files/BM_average_price_df.csv')"
   ]
  },
  {
   "cell_type": "code",
   "execution_count": 35,
   "id": "cd352446-431f-4bf8-96cd-14f76731dd1c",
   "metadata": {},
   "outputs": [],
   "source": [
    "rebuild_results.save_mc_df('./data/final_files/BM_mc_df.csv')"
   ]
  },
  {
   "cell_type": "code",
   "execution_count": 36,
   "id": "a815b1be-8306-4581-9862-43fdf1f268ac",
   "metadata": {},
   "outputs": [],
   "source": [
    "rebuild_results.save_factor_df('./data/final_files/BM_factor_df.csv')"
   ]
  },
  {
   "cell_type": "markdown",
   "id": "7ea3bb09-b9ce-4957-a95a-5cfa58f26faa",
   "metadata": {},
   "source": [
    "# Prepare data for redistribution pipeline"
   ]
  },
  {
   "cell_type": "code",
   "execution_count": null,
   "id": "216f5573-aa5d-4056-8d69-e7bb296ae36e",
   "metadata": {},
   "outputs": [],
   "source": [
    "rebuild_results.save_halo_df(cfg.PATH_TOTAL_SUB_BRAND_SPEND)"
   ]
  },
  {
   "cell_type": "code",
   "execution_count": 37,
   "id": "1870dfed-eca8-4dfe-8159-778d46780b08",
   "metadata": {},
   "outputs": [],
   "source": [
    "rebuild_results.save_mc_df_with_cannib('./data/intermediate_files/BM_mc_df_with_cannib.csv')"
   ]
  },
  {
   "cell_type": "code",
   "execution_count": 113,
   "id": "aa0fdb25-ceed-4567-b62d-00057bbc6484",
   "metadata": {},
   "outputs": [],
   "source": [
    "for SB in cfg.FINISH_SUB_BRANDS:\n",
    "    rebuild_results.save_sub_brand_df('b&m', SB, cfg.PATH_MAIN_SB)"
   ]
  },
  {
   "cell_type": "code",
   "execution_count": 114,
   "id": "01f4628d-1f6e-4f5a-b1f1-a8cddd5fbb44",
   "metadata": {},
   "outputs": [],
   "source": [
    "for SB in cfg.FINISH_SUB_BRANDS:\n",
    "    rebuild_results.save_sub_brand_df('b&m', SB, cfg.PATH_AVG_PRICE_SB)"
   ]
  },
  {
   "cell_type": "code",
   "execution_count": null,
   "id": "11ceb2b0-5713-45e6-9cd0-59c931828671",
   "metadata": {},
   "outputs": [],
   "source": []
  },
  {
   "cell_type": "code",
   "execution_count": null,
   "id": "d414e934-6b8e-4291-9458-59c85a7a8cda",
   "metadata": {},
   "outputs": [],
   "source": []
  }
 ],
 "metadata": {
  "kernelspec": {
   "display_name": "Python 3 (ipykernel)",
   "language": "python",
   "name": "python3"
  },
  "language_info": {
   "codemirror_mode": {
    "name": "ipython",
    "version": 3
   },
   "file_extension": ".py",
   "mimetype": "text/x-python",
   "name": "python",
   "nbconvert_exporter": "python",
   "pygments_lexer": "ipython3",
   "version": "3.10.13"
  }
 },
 "nbformat": 4,
 "nbformat_minor": 5
}
