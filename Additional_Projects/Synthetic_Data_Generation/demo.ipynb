{
 "cells": [
  {
   "cell_type": "code",
   "execution_count": null,
   "id": "47d15033",
   "metadata": {},
   "outputs": [],
   "source": [
    "#!pip install sdv"
   ]
  },
  {
   "cell_type": "code",
   "execution_count": 5,
   "id": "03475b27",
   "metadata": {},
   "outputs": [],
   "source": [
    "import pandas as pd \n",
    "import numpy as np\n",
    "import seaborn as sns\n",
    "import matplotlib.pyplot as plt\n",
    "from joypy import joyplot\n",
    "sns.set(style=\"darkgrid\")\n",
    "# pd.set_option('display.max_columns', None)\n",
    "# pd.set_option('display.max_rows', None)\n",
    "from sdv.tabular import GaussianCopula\n",
    "from sdv.lite import TabularPreset\n",
    "from sdv.tabular import CTGAN\n",
    "from sdv.tabular import CopulaGAN\n",
    "from sdv.tabular import TVAE\n",
    "from sdv.evaluation import evaluate\n",
    "import torch\n",
    "import warnings\n",
    "warnings.filterwarnings(\"ignore\")\n",
    "from synthetic_data import syntheticData, inspectData"
   ]
  },
  {
   "cell_type": "markdown",
   "id": "b7333853",
   "metadata": {},
   "source": [
    "### Import dataset"
   ]
  },
  {
   "cell_type": "code",
   "execution_count": 6,
   "id": "3fddd6b2",
   "metadata": {},
   "outputs": [],
   "source": [
    "real_data = pd.read_csv('OPUS.csv')\n",
    "for col in real_data.columns:\n",
    "      real_data[col] = pd.to_numeric(real_data[col],errors = 'coerce')\n"
   ]
  },
  {
   "cell_type": "code",
   "execution_count": 7,
   "id": "d7c5dc80",
   "metadata": {},
   "outputs": [],
   "source": [
    "def missing_values(df):\n",
    "    percent_missing = df.isnull().sum() * 100 / len(df)\n",
    "    missing_value_df = pd.DataFrame({'column_name': df.columns,\n",
    "                                 'percent_missing': percent_missing})\n",
    "    \n",
    "    # Drop columns with >= 25 % of missing values \n",
    "    to_keep = (missing_value_df[missing_value_df.iloc[:,-1]<=25.0].index)\n",
    "    df_new = df.drop(df.columns.difference(to_keep), axis=1)\n",
    "\n",
    "    return [missing_value_df, df_new]\n",
    "\n",
    "def duplicated (df):\n",
    "    df_new = df.loc[:,~df.columns.duplicated()]\n",
    "    return df_new\n",
    "missing = missing_values(real_data)"
   ]
  },
  {
   "cell_type": "code",
   "execution_count": 8,
   "id": "aab1438f",
   "metadata": {},
   "outputs": [],
   "source": [
    "real_data = real_data.copy()"
   ]
  },
  {
   "cell_type": "markdown",
   "id": "0a98c060",
   "metadata": {},
   "source": [
    "### Synthetic data class"
   ]
  },
  {
   "cell_type": "code",
   "execution_count": 9,
   "id": "b9338774",
   "metadata": {},
   "outputs": [],
   "source": [
    "### Executing syntheticData class\n",
    "synthetic_data = syntheticData(real_data,1000)\n",
    "synthetic_data.train_models()"
   ]
  },
  {
   "cell_type": "markdown",
   "id": "df977071",
   "metadata": {},
   "source": [
    "### Evaluation "
   ]
  },
  {
   "cell_type": "code",
   "execution_count": 10,
   "id": "0c6df11f",
   "metadata": {
    "scrolled": true
   },
   "outputs": [
    {
     "name": "stdout",
     "output_type": "stream",
     "text": [
      "ks metrics of all model\n"
     ]
    },
    {
     "data": {
      "text/plain": [
       "{'gaussian': array([0.89180626]),\n",
       " 'tabular': array([0.67324997]),\n",
       " 'ctgan': array([0.85559943]),\n",
       " 'copula_gan': array([0.86716581]),\n",
       " 'tvae': array([0.83113258])}"
      ]
     },
     "execution_count": 10,
     "metadata": {},
     "output_type": "execute_result"
    }
   ],
   "source": [
    "synthetic_data.evaluate()\n",
    "print('ks metrics of all model')\n",
    "synthetic_data.ks_metrics"
   ]
  },
  {
   "cell_type": "code",
   "execution_count": 9,
   "id": "cdcb2470",
   "metadata": {},
   "outputs": [
    {
     "name": "stdout",
     "output_type": "stream",
     "text": [
      "Best model ks metrics\n"
     ]
    },
    {
     "data": {
      "text/plain": [
       "{'best_model': 'gaussian', 'ks_score': array([0.89495494])}"
      ]
     },
     "execution_count": 9,
     "metadata": {},
     "output_type": "execute_result"
    }
   ],
   "source": [
    "print('Best model ks metrics')\n",
    "synthetic_data.selected_model"
   ]
  },
  {
   "cell_type": "code",
   "execution_count": 10,
   "id": "baeed48f",
   "metadata": {},
   "outputs": [],
   "source": [
    "synthetic_data = synthetic_data.sample_data"
   ]
  },
  {
   "cell_type": "markdown",
   "id": "bf934eb6",
   "metadata": {},
   "source": [
    "### Inspect data class"
   ]
  },
  {
   "cell_type": "code",
   "execution_count": 11,
   "id": "6393ea9e",
   "metadata": {},
   "outputs": [],
   "source": [
    "### executing inspect data class\n",
    "inspect_data = inspectData(real_data,synthetic_data)"
   ]
  },
  {
   "cell_type": "code",
   "execution_count": 18,
   "id": "620e5307",
   "metadata": {},
   "outputs": [],
   "source": [
    "inspect_data.density_histogram()"
   ]
  },
  {
   "cell_type": "code",
   "execution_count": 19,
   "id": "e17fdb4e",
   "metadata": {},
   "outputs": [],
   "source": [
    "inspect_data.kernel_density()"
   ]
  },
  {
   "cell_type": "code",
   "execution_count": 20,
   "id": "feaef52c",
   "metadata": {},
   "outputs": [],
   "source": [
    "inspect_data.ridgeline_plot()"
   ]
  },
  {
   "cell_type": "code",
   "execution_count": 23,
   "id": "ecbaf865",
   "metadata": {},
   "outputs": [],
   "source": [
    "inspect_data.group_violin_plots()"
   ]
  },
  {
   "cell_type": "code",
   "execution_count": null,
   "id": "726c2493",
   "metadata": {
    "scrolled": false
   },
   "outputs": [],
   "source": [
    "# import numpy as np # Data manipulation  \n",
    "# import matplotlib.pyplot as plt \n",
    "# import seaborn \n",
    "# c = real_data.corr() \n",
    "# plt.figure(figsize=(20,20)) \n",
    "# seaborn.heatmap(c, cmap='RdYlGn_r',vmin=-1, vmax=1) \n",
    "# plt.show()"
   ]
  },
  {
   "cell_type": "code",
   "execution_count": 24,
   "id": "3bb40883",
   "metadata": {},
   "outputs": [],
   "source": [
    "import matplotlib.pyplot as plt\n",
    "import seaborn as sns\n",
    "\n",
    "corr1 = real_data.corr() #your dataframe\n",
    "\n",
    "# figsize=(6, 6) control width and height\n",
    "# dpi = 600, I \n",
    "plt.figure(figsize=(20, 20), \n",
    "           dpi = 600) \n",
    " \n",
    "# parameter annot_kws={\"size\": 8} control corr values font size\n",
    "sns.heatmap(corr1, cmap=\"Blues\",vmin=-1, vmax=1)\n",
    "\n",
    "plt.tick_params(axis = 'x', labelsize = 12) # x font label size\n",
    "plt.tick_params(axis = 'y', labelsize = 12) # y font label size"
   ]
  },
  {
   "cell_type": "code",
   "execution_count": 62,
   "id": "deed0b26",
   "metadata": {},
   "outputs": [],
   "source": [
    "# c = synthetic_data.corr() \n",
    "# plt.figure(figsize=(18,18)) \n",
    "# seaborn.heatmap(c, cmap='RdYlGn_r',vmin=-1, vmax=1) \n",
    "# plt.show()\n",
    "import seaborn as sns\n",
    "import numpy as np\n",
    "import pandas as pd\n",
    "import scipy.stats as stats\n",
    "from scipy.spatial.distance import squareform\n",
    "import matplotlib.pyplot as plt"
   ]
  },
  {
   "cell_type": "code",
   "execution_count": 26,
   "id": "316acac4",
   "metadata": {},
   "outputs": [],
   "source": [
    "import seaborn as sns\n",
    "import numpy as np\n",
    "import pandas as pd\n",
    "import scipy.stats as stats\n",
    "from scipy.spatial.distance import squareform\n",
    "import matplotlib.pyplot as plt\n",
    "\n",
    "\n",
    "\n",
    "n3 = corr1.drop('death',axis=1)\n",
    "n4 = n3.drop('on which day the death occured',axis=1)\n",
    "n5 = n4.drop('death',axis=0)\n",
    "n6 = n5.drop('on which day the death occured',axis=0)\n"
   ]
  },
  {
   "cell_type": "code",
   "execution_count": 27,
   "id": "e3b59a2f",
   "metadata": {},
   "outputs": [],
   "source": [
    "m3 = corr2.drop('death',axis=1)\n",
    "m4 = m3.drop('on which day the death occured',axis=1)\n",
    "m5 = m4.drop('death',axis=0)\n",
    "m6 = m5.drop('on which day the death occured',axis=0)\n"
   ]
  },
  {
   "cell_type": "code",
   "execution_count": 68,
   "id": "90908745",
   "metadata": {},
   "outputs": [
    {
     "name": "stdout",
     "output_type": "stream",
     "text": [
      "0.05623908732548977\n"
     ]
    }
   ],
   "source": [
    "import scipy.spatial as sp\n",
    "print(1- sp.distance.cdist(n6, m6, 'cosine').mean())"
   ]
  },
  {
   "cell_type": "code",
   "execution_count": 55,
   "id": "ee3759af",
   "metadata": {
    "scrolled": false
   },
   "outputs": [],
   "source": [
    "def upper(df):\n",
    "    '''Returns the upper triangle of a correlation matrix.\n",
    "    You can use scipy.spatial.distance.squareform to recreate matrix from upper triangle.\n",
    "    Args:\n",
    "      df: pandas or numpy correlation matrix\n",
    "    Returns:\n",
    "      list of values from upper triangle\n",
    "    '''\n",
    "    try:\n",
    "        assert(type(df)==np.ndarray)\n",
    "    except:\n",
    "        if type(df)==pd.DataFrame:\n",
    "            df = df.values\n",
    "        else:\n",
    "            raise TypeError('Must be np.ndarray or pd.DataFrame')\n",
    "    mask = np.triu_indices(df.shape[0], k=1)\n",
    "    return df[mask]\n",
    "\n"
   ]
  },
  {
   "cell_type": "code",
   "execution_count": 56,
   "id": "841a60cd",
   "metadata": {},
   "outputs": [
    {
     "name": "stdout",
     "output_type": "stream",
     "text": [
      "SpearmanrResult(correlation=0.7843499903017942, pvalue=5.596006486999836e-198)\n"
     ]
    }
   ],
   "source": [
    "# Now lets measure the similarity \n",
    "print(stats.spearmanr(upper(n6), upper(m6)))"
   ]
  }
 ],
 "metadata": {
  "kernelspec": {
   "display_name": "Python 3",
   "language": "python",
   "name": "python3"
  },
  "language_info": {
   "codemirror_mode": {
    "name": "ipython",
    "version": 3
   },
   "file_extension": ".py",
   "mimetype": "text/x-python",
   "name": "python",
   "nbconvert_exporter": "python",
   "pygments_lexer": "ipython3",
   "version": "3.8.10"
  }
 },
 "nbformat": 4,
 "nbformat_minor": 5
}
